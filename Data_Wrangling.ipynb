{
  "nbformat": 4,
  "nbformat_minor": 0,
  "metadata": {
    "colab": {
      "name": "Data_Wrangling.ipynb",
      "version": "0.3.2",
      "provenance": [],
      "collapsed_sections": [],
      "include_colab_link": true
    },
    "kernelspec": {
      "name": "python3",
      "display_name": "Python 3"
    }
  },
  "cells": [
    {
      "cell_type": "markdown",
      "metadata": {
        "id": "view-in-github",
        "colab_type": "text"
      },
      "source": [
        "<a href=\"https://colab.research.google.com/github/rameshmech/ML_hands_on_sessions/blob/master/Data_Wrangling.ipynb\" target=\"_parent\"><img src=\"https://colab.research.google.com/assets/colab-badge.svg\" alt=\"Open In Colab\"/></a>"
      ]
    },
    {
      "metadata": {
        "id": "aN-Aat1BwEZe",
        "colab_type": "code",
        "colab": {}
      },
      "cell_type": "code",
      "source": [
        "# modules we'll use\n",
        "import pandas as pd\n",
        "import numpy as np\n",
        "\n",
        "# read in all our data\n",
        "train_bsl = pd.read_csv(\"train_baseline.csv\")\n",
        "train_labs = pd.read_csv('train_labs.csv',thousands=',')\n",
        "#Read the entire dataset -- Training Vitals\n",
        "train_vitals = pd.read_csv('train_vitals.csv',thousands=',')\n",
        "\n",
        "# set seed for reproducibility\n",
        "np.random.seed(0) "
      ],
      "execution_count": 0,
      "outputs": []
    },
    {
      "metadata": {
        "id": "RJVVRAlZ0jaQ",
        "colab_type": "code",
        "outputId": "e9a9eadf-6985-4163-8328-f1a3182ead3d",
        "colab": {
          "base_uri": "https://localhost:8080/",
          "height": 542
        }
      },
      "cell_type": "code",
      "source": [
        "# look at a few rows of the data file. I can see a handful of missing data already!\n",
        "train_bsl.sample(5)"
      ],
      "execution_count": 7,
      "outputs": [
        {
          "output_type": "execute_result",
          "data": {
            "text/html": [
              "<div>\n",
              "<style scoped>\n",
              "    .dataframe tbody tr th:only-of-type {\n",
              "        vertical-align: middle;\n",
              "    }\n",
              "\n",
              "    .dataframe tbody tr th {\n",
              "        vertical-align: top;\n",
              "    }\n",
              "\n",
              "    .dataframe thead th {\n",
              "        text-align: right;\n",
              "    }\n",
              "</style>\n",
              "<table border=\"1\" class=\"dataframe\">\n",
              "  <thead>\n",
              "    <tr style=\"text-align: right;\">\n",
              "      <th></th>\n",
              "      <th>PatientID</th>\n",
              "      <th>Study</th>\n",
              "      <th>Race</th>\n",
              "      <th>Age</th>\n",
              "      <th>Country</th>\n",
              "      <th>Indication</th>\n",
              "      <th>Sex</th>\n",
              "      <th>Ethnicity</th>\n",
              "      <th>Treatment</th>\n",
              "      <th>BaselineECOG</th>\n",
              "      <th>...</th>\n",
              "      <th>DiseaseStage</th>\n",
              "      <th>EGFR</th>\n",
              "      <th>Histology</th>\n",
              "      <th>KRAS</th>\n",
              "      <th>PriorChemo</th>\n",
              "      <th>SmokeHx</th>\n",
              "      <th>Status</th>\n",
              "      <th>TreatmentStartDate</th>\n",
              "      <th>ObservationStartDate</th>\n",
              "      <th>Respond</th>\n",
              "    </tr>\n",
              "  </thead>\n",
              "  <tbody>\n",
              "    <tr>\n",
              "      <th>1540</th>\n",
              "      <td>RAADCT01922</td>\n",
              "      <td>11ff0321a67fef522bef3f970c492399337d4e97</td>\n",
              "      <td>ASIAN</td>\n",
              "      <td>62</td>\n",
              "      <td>Other</td>\n",
              "      <td>Advanced or metastatic NSCLC</td>\n",
              "      <td>M</td>\n",
              "      <td>NOT HISPANIC OR LATINO</td>\n",
              "      <td>Chemo</td>\n",
              "      <td>0.0</td>\n",
              "      <td>...</td>\n",
              "      <td>IVB</td>\n",
              "      <td>NaN</td>\n",
              "      <td>SQUAMOUS</td>\n",
              "      <td>NaN</td>\n",
              "      <td>Y</td>\n",
              "      <td>Previous</td>\n",
              "      <td>METASTATIC</td>\n",
              "      <td>2014-09-17T14:10:00Z</td>\n",
              "      <td>2014-09-16</td>\n",
              "      <td>0</td>\n",
              "    </tr>\n",
              "    <tr>\n",
              "      <th>2752</th>\n",
              "      <td>RAADCT04468</td>\n",
              "      <td>9d6b9b28c35b1d16fb573ce42b56f40aff45355b</td>\n",
              "      <td>WHITE</td>\n",
              "      <td>70</td>\n",
              "      <td>GBR</td>\n",
              "      <td>Advanced or Metastatic Urothelial Bladder Cancer</td>\n",
              "      <td>M</td>\n",
              "      <td>NOT HISPANIC OR LATINO</td>\n",
              "      <td>Chemo</td>\n",
              "      <td>0.0</td>\n",
              "      <td>...</td>\n",
              "      <td>T2B</td>\n",
              "      <td>NaN</td>\n",
              "      <td>Transitional cell carcinoma</td>\n",
              "      <td>NaN</td>\n",
              "      <td>NaN</td>\n",
              "      <td>Previous</td>\n",
              "      <td>METASTATIC</td>\n",
              "      <td>2015-03-31T14:00:00Z</td>\n",
              "      <td>2015-03-31</td>\n",
              "      <td>1</td>\n",
              "    </tr>\n",
              "    <tr>\n",
              "      <th>348</th>\n",
              "      <td>RAADCT08698</td>\n",
              "      <td>f881e62928966b381b83f630d1e6b4ef5003b40c</td>\n",
              "      <td>WHITE</td>\n",
              "      <td>63</td>\n",
              "      <td>USA</td>\n",
              "      <td>Advanced or metastatic NSCLC</td>\n",
              "      <td>M</td>\n",
              "      <td>NOT HISPANIC OR LATINO</td>\n",
              "      <td>Chemo</td>\n",
              "      <td>1.0</td>\n",
              "      <td>...</td>\n",
              "      <td>IIIB</td>\n",
              "      <td>NOT DONE</td>\n",
              "      <td>NON-SQUAMOUS</td>\n",
              "      <td>NOT DONE</td>\n",
              "      <td>Y</td>\n",
              "      <td>Previous</td>\n",
              "      <td>METASTATIC</td>\n",
              "      <td>2014-01-08T14:15:00Z</td>\n",
              "      <td>2014-01-06</td>\n",
              "      <td>0</td>\n",
              "    </tr>\n",
              "    <tr>\n",
              "      <th>4265</th>\n",
              "      <td>RAADCT06572</td>\n",
              "      <td>7223af731e7e7cf48c29b5c137b0bb34ea04b0d2</td>\n",
              "      <td>WHITE</td>\n",
              "      <td>73</td>\n",
              "      <td>USA</td>\n",
              "      <td>Stage IV Non-Squamous NSCLC</td>\n",
              "      <td>M</td>\n",
              "      <td>NOT HISPANIC OR LATINO</td>\n",
              "      <td>Tecentriq</td>\n",
              "      <td>1.0</td>\n",
              "      <td>...</td>\n",
              "      <td>IV</td>\n",
              "      <td>NOT DETECTED</td>\n",
              "      <td>Adenocarcinoma</td>\n",
              "      <td>NOT DONE</td>\n",
              "      <td>NaN</td>\n",
              "      <td>Current</td>\n",
              "      <td>METASTATIC</td>\n",
              "      <td>2016-08-15T10:07:00Z</td>\n",
              "      <td>2016-08-11</td>\n",
              "      <td>0</td>\n",
              "    </tr>\n",
              "    <tr>\n",
              "      <th>15</th>\n",
              "      <td>RAADCT03355</td>\n",
              "      <td>4cacaa6bf00bd99f344f512c44f17717051aa92d</td>\n",
              "      <td>WHITE</td>\n",
              "      <td>82</td>\n",
              "      <td>USA</td>\n",
              "      <td>Advanced or metastatic NSCLC</td>\n",
              "      <td>M</td>\n",
              "      <td>NOT HISPANIC OR LATINO</td>\n",
              "      <td>Tecentriq</td>\n",
              "      <td>0.0</td>\n",
              "      <td>...</td>\n",
              "      <td>IIIA</td>\n",
              "      <td>NaN</td>\n",
              "      <td>ADENOCARCINOMA</td>\n",
              "      <td>NaN</td>\n",
              "      <td>Y</td>\n",
              "      <td>Previous</td>\n",
              "      <td>METASTATIC</td>\n",
              "      <td>2013-12-19T18:35:00Z</td>\n",
              "      <td>2013-12-19</td>\n",
              "      <td>0</td>\n",
              "    </tr>\n",
              "  </tbody>\n",
              "</table>\n",
              "<p>5 rows × 23 columns</p>\n",
              "</div>"
            ],
            "text/plain": [
              "        PatientID                                     Study   Race  Age  \\\n",
              "1540  RAADCT01922  11ff0321a67fef522bef3f970c492399337d4e97  ASIAN   62   \n",
              "2752  RAADCT04468  9d6b9b28c35b1d16fb573ce42b56f40aff45355b  WHITE   70   \n",
              "348   RAADCT08698  f881e62928966b381b83f630d1e6b4ef5003b40c  WHITE   63   \n",
              "4265  RAADCT06572  7223af731e7e7cf48c29b5c137b0bb34ea04b0d2  WHITE   73   \n",
              "15    RAADCT03355  4cacaa6bf00bd99f344f512c44f17717051aa92d  WHITE   82   \n",
              "\n",
              "     Country                                        Indication Sex  \\\n",
              "1540   Other                      Advanced or metastatic NSCLC   M   \n",
              "2752     GBR  Advanced or Metastatic Urothelial Bladder Cancer   M   \n",
              "348      USA                      Advanced or metastatic NSCLC   M   \n",
              "4265     USA                       Stage IV Non-Squamous NSCLC   M   \n",
              "15       USA                      Advanced or metastatic NSCLC   M   \n",
              "\n",
              "                   Ethnicity  Treatment  BaselineECOG   ...    DiseaseStage  \\\n",
              "1540  NOT HISPANIC OR LATINO      Chemo           0.0   ...             IVB   \n",
              "2752  NOT HISPANIC OR LATINO      Chemo           0.0   ...             T2B   \n",
              "348   NOT HISPANIC OR LATINO      Chemo           1.0   ...            IIIB   \n",
              "4265  NOT HISPANIC OR LATINO  Tecentriq           1.0   ...              IV   \n",
              "15    NOT HISPANIC OR LATINO  Tecentriq           0.0   ...            IIIA   \n",
              "\n",
              "              EGFR                    Histology      KRAS PriorChemo  \\\n",
              "1540           NaN                     SQUAMOUS       NaN          Y   \n",
              "2752           NaN  Transitional cell carcinoma       NaN        NaN   \n",
              "348       NOT DONE                 NON-SQUAMOUS  NOT DONE          Y   \n",
              "4265  NOT DETECTED               Adenocarcinoma  NOT DONE        NaN   \n",
              "15             NaN               ADENOCARCINOMA       NaN          Y   \n",
              "\n",
              "       SmokeHx      Status    TreatmentStartDate ObservationStartDate Respond  \n",
              "1540  Previous  METASTATIC  2014-09-17T14:10:00Z           2014-09-16       0  \n",
              "2752  Previous  METASTATIC  2015-03-31T14:00:00Z           2015-03-31       1  \n",
              "348   Previous  METASTATIC  2014-01-08T14:15:00Z           2014-01-06       0  \n",
              "4265   Current  METASTATIC  2016-08-15T10:07:00Z           2016-08-11       0  \n",
              "15    Previous  METASTATIC  2013-12-19T18:35:00Z           2013-12-19       0  \n",
              "\n",
              "[5 rows x 23 columns]"
            ]
          },
          "metadata": {
            "tags": []
          },
          "execution_count": 7
        }
      ]
    },
    {
      "metadata": {
        "id": "n2IaW2Lg0qPy",
        "colab_type": "code",
        "outputId": "43368685-8c69-4ebe-99b8-75a900150394",
        "colab": {
          "base_uri": "https://localhost:8080/",
          "height": 425
        }
      },
      "cell_type": "code",
      "source": [
        "# get the number of missing data points per column\n",
        "missing_values_count = train_bsl.isnull().sum()\n",
        "\n",
        "# look at the # of missing points in the first ten columns\n",
        "print(missing_values_count)"
      ],
      "execution_count": 8,
      "outputs": [
        {
          "output_type": "stream",
          "text": [
            "PatientID                  0\n",
            "Study                      0\n",
            "Race                       0\n",
            "Age                        0\n",
            "Country                    0\n",
            "Indication                 0\n",
            "Sex                        0\n",
            "Ethnicity                  0\n",
            "Treatment                  0\n",
            "BaselineECOG             306\n",
            "PDL1IC                   548\n",
            "PDL1TC                  2568\n",
            "ALK                     4298\n",
            "DiseaseStage             420\n",
            "EGFR                    3838\n",
            "Histology                741\n",
            "KRAS                    4160\n",
            "PriorChemo              3622\n",
            "SmokeHx                  307\n",
            "Status                   698\n",
            "TreatmentStartDate         9\n",
            "ObservationStartDate       9\n",
            "Respond                    0\n",
            "dtype: int64\n"
          ],
          "name": "stdout"
        }
      ]
    },
    {
      "metadata": {
        "id": "JbzjiYzl1YoP",
        "colab_type": "code",
        "outputId": "2d4f4f38-be93-4a05-bf16-9eadfa2ad382",
        "colab": {
          "base_uri": "https://localhost:8080/",
          "height": 34
        }
      },
      "cell_type": "code",
      "source": [
        "# how many total missing values do we have?\n",
        "total_cells = np.product(train_bsl.shape)\n",
        "total_missing = missing_values_count.sum()\n",
        "\n",
        "# percent of data that is missing\n",
        "(total_missing/total_cells) * 100"
      ],
      "execution_count": 9,
      "outputs": [
        {
          "output_type": "execute_result",
          "data": {
            "text/plain": [
              "17.061551266299393"
            ]
          },
          "metadata": {
            "tags": []
          },
          "execution_count": 9
        }
      ]
    },
    {
      "metadata": {
        "id": "oW_oHPlO1p9W",
        "colab_type": "code",
        "colab": {
          "base_uri": "https://localhost:8080/",
          "height": 5049
        },
        "outputId": "b8759d95-eb2e-4882-c8a7-37d777e85774"
      },
      "cell_type": "code",
      "source": [
        "# remove all the rows that contain a missing value\n",
        "train_bsl.dropna()"
      ],
      "execution_count": 10,
      "outputs": [
        {
          "output_type": "execute_result",
          "data": {
            "text/html": [
              "<div>\n",
              "<style scoped>\n",
              "    .dataframe tbody tr th:only-of-type {\n",
              "        vertical-align: middle;\n",
              "    }\n",
              "\n",
              "    .dataframe tbody tr th {\n",
              "        vertical-align: top;\n",
              "    }\n",
              "\n",
              "    .dataframe thead th {\n",
              "        text-align: right;\n",
              "    }\n",
              "</style>\n",
              "<table border=\"1\" class=\"dataframe\">\n",
              "  <thead>\n",
              "    <tr style=\"text-align: right;\">\n",
              "      <th></th>\n",
              "      <th>PatientID</th>\n",
              "      <th>Study</th>\n",
              "      <th>Race</th>\n",
              "      <th>Age</th>\n",
              "      <th>Country</th>\n",
              "      <th>Indication</th>\n",
              "      <th>Sex</th>\n",
              "      <th>Ethnicity</th>\n",
              "      <th>Treatment</th>\n",
              "      <th>BaselineECOG</th>\n",
              "      <th>...</th>\n",
              "      <th>DiseaseStage</th>\n",
              "      <th>EGFR</th>\n",
              "      <th>Histology</th>\n",
              "      <th>KRAS</th>\n",
              "      <th>PriorChemo</th>\n",
              "      <th>SmokeHx</th>\n",
              "      <th>Status</th>\n",
              "      <th>TreatmentStartDate</th>\n",
              "      <th>ObservationStartDate</th>\n",
              "      <th>Respond</th>\n",
              "    </tr>\n",
              "  </thead>\n",
              "  <tbody>\n",
              "    <tr>\n",
              "      <th>3602</th>\n",
              "      <td>RAADCT02704</td>\n",
              "      <td>7223af731e7e7cf48c29b5c137b0bb34ea04b0d2</td>\n",
              "      <td>BLACK OR AFRICAN AMERICAN</td>\n",
              "      <td>64</td>\n",
              "      <td>USA</td>\n",
              "      <td>Stage IV Non-Squamous NSCLC</td>\n",
              "      <td>M</td>\n",
              "      <td>NOT REPORTED</td>\n",
              "      <td>Chemo</td>\n",
              "      <td>1.0</td>\n",
              "      <td>...</td>\n",
              "      <td>IIIA</td>\n",
              "      <td>NOT DETECTED</td>\n",
              "      <td>Adenocarcinoma</td>\n",
              "      <td>NOT DONE</td>\n",
              "      <td>Y</td>\n",
              "      <td>Previous</td>\n",
              "      <td>METASTATIC</td>\n",
              "      <td>2015-09-18T08:35:00Z</td>\n",
              "      <td>2015-09-16</td>\n",
              "      <td>0</td>\n",
              "    </tr>\n",
              "    <tr>\n",
              "      <th>3607</th>\n",
              "      <td>RAADCT07395</td>\n",
              "      <td>7223af731e7e7cf48c29b5c137b0bb34ea04b0d2</td>\n",
              "      <td>WHITE</td>\n",
              "      <td>81</td>\n",
              "      <td>USA</td>\n",
              "      <td>Stage IV Non-Squamous NSCLC</td>\n",
              "      <td>F</td>\n",
              "      <td>NOT HISPANIC OR LATINO</td>\n",
              "      <td>Tecentriq</td>\n",
              "      <td>1.0</td>\n",
              "      <td>...</td>\n",
              "      <td>IV</td>\n",
              "      <td>NOT DETECTED</td>\n",
              "      <td>Adenocarcinoma</td>\n",
              "      <td>NOT DONE</td>\n",
              "      <td>Y</td>\n",
              "      <td>Previous</td>\n",
              "      <td>METASTATIC</td>\n",
              "      <td>2015-08-07T08:41:00Z</td>\n",
              "      <td>2015-08-06</td>\n",
              "      <td>0</td>\n",
              "    </tr>\n",
              "    <tr>\n",
              "      <th>3612</th>\n",
              "      <td>RAADCT03848</td>\n",
              "      <td>7223af731e7e7cf48c29b5c137b0bb34ea04b0d2</td>\n",
              "      <td>WHITE</td>\n",
              "      <td>77</td>\n",
              "      <td>USA</td>\n",
              "      <td>Stage IV Non-Squamous NSCLC</td>\n",
              "      <td>M</td>\n",
              "      <td>NOT HISPANIC OR LATINO</td>\n",
              "      <td>Tecentriq</td>\n",
              "      <td>0.0</td>\n",
              "      <td>...</td>\n",
              "      <td>IV</td>\n",
              "      <td>NOT DETECTED</td>\n",
              "      <td>Adenocarcinoma</td>\n",
              "      <td>NOT DONE</td>\n",
              "      <td>Y</td>\n",
              "      <td>Previous</td>\n",
              "      <td>METASTATIC</td>\n",
              "      <td>2016-07-21T08:58:00Z</td>\n",
              "      <td>2016-07-20</td>\n",
              "      <td>0</td>\n",
              "    </tr>\n",
              "    <tr>\n",
              "      <th>3613</th>\n",
              "      <td>RAADCT08809</td>\n",
              "      <td>7223af731e7e7cf48c29b5c137b0bb34ea04b0d2</td>\n",
              "      <td>WHITE</td>\n",
              "      <td>65</td>\n",
              "      <td>USA</td>\n",
              "      <td>Stage IV Non-Squamous NSCLC</td>\n",
              "      <td>F</td>\n",
              "      <td>NOT HISPANIC OR LATINO</td>\n",
              "      <td>Tecentriq</td>\n",
              "      <td>0.0</td>\n",
              "      <td>...</td>\n",
              "      <td>IV</td>\n",
              "      <td>NOT DETECTED</td>\n",
              "      <td>Adenocarcinoma</td>\n",
              "      <td>NOT DONE</td>\n",
              "      <td>Y</td>\n",
              "      <td>Previous</td>\n",
              "      <td>METASTATIC</td>\n",
              "      <td>2016-09-16T11:07:00Z</td>\n",
              "      <td>2016-09-14</td>\n",
              "      <td>0</td>\n",
              "    </tr>\n",
              "    <tr>\n",
              "      <th>3615</th>\n",
              "      <td>RAADCT02994</td>\n",
              "      <td>7223af731e7e7cf48c29b5c137b0bb34ea04b0d2</td>\n",
              "      <td>WHITE</td>\n",
              "      <td>59</td>\n",
              "      <td>USA</td>\n",
              "      <td>Stage IV Non-Squamous NSCLC</td>\n",
              "      <td>M</td>\n",
              "      <td>NOT HISPANIC OR LATINO</td>\n",
              "      <td>Tecentriq</td>\n",
              "      <td>1.0</td>\n",
              "      <td>...</td>\n",
              "      <td>IIIB</td>\n",
              "      <td>NOT DETECTED</td>\n",
              "      <td>Adenocarcinoma</td>\n",
              "      <td>NOT DONE</td>\n",
              "      <td>Y</td>\n",
              "      <td>Previous</td>\n",
              "      <td>METASTATIC</td>\n",
              "      <td>2015-04-03T10:21:00Z</td>\n",
              "      <td>2015-03-31</td>\n",
              "      <td>0</td>\n",
              "    </tr>\n",
              "    <tr>\n",
              "      <th>3616</th>\n",
              "      <td>RAADCT03925</td>\n",
              "      <td>7223af731e7e7cf48c29b5c137b0bb34ea04b0d2</td>\n",
              "      <td>WHITE</td>\n",
              "      <td>53</td>\n",
              "      <td>USA</td>\n",
              "      <td>Stage IV Non-Squamous NSCLC</td>\n",
              "      <td>F</td>\n",
              "      <td>NOT HISPANIC OR LATINO</td>\n",
              "      <td>Tecentriq</td>\n",
              "      <td>1.0</td>\n",
              "      <td>...</td>\n",
              "      <td>IV</td>\n",
              "      <td>NOT DETECTED</td>\n",
              "      <td>Adenocarcinoma</td>\n",
              "      <td>NOT DONE</td>\n",
              "      <td>Y</td>\n",
              "      <td>Previous</td>\n",
              "      <td>METASTATIC</td>\n",
              "      <td>2016-04-07T09:30:00Z</td>\n",
              "      <td>2016-04-04</td>\n",
              "      <td>0</td>\n",
              "    </tr>\n",
              "    <tr>\n",
              "      <th>3617</th>\n",
              "      <td>RAADCT04403</td>\n",
              "      <td>7223af731e7e7cf48c29b5c137b0bb34ea04b0d2</td>\n",
              "      <td>WHITE</td>\n",
              "      <td>62</td>\n",
              "      <td>Other</td>\n",
              "      <td>Stage IV Non-Squamous NSCLC</td>\n",
              "      <td>M</td>\n",
              "      <td>NOT HISPANIC OR LATINO</td>\n",
              "      <td>Tecentriq</td>\n",
              "      <td>0.0</td>\n",
              "      <td>...</td>\n",
              "      <td>IV</td>\n",
              "      <td>NOT DETECTED</td>\n",
              "      <td>Adenocarcinoma</td>\n",
              "      <td>NOT DETECTED</td>\n",
              "      <td>Y</td>\n",
              "      <td>Previous</td>\n",
              "      <td>METASTATIC</td>\n",
              "      <td>2015-10-27T10:35:00Z</td>\n",
              "      <td>2015-10-26</td>\n",
              "      <td>0</td>\n",
              "    </tr>\n",
              "    <tr>\n",
              "      <th>3622</th>\n",
              "      <td>RAADCT05842</td>\n",
              "      <td>7223af731e7e7cf48c29b5c137b0bb34ea04b0d2</td>\n",
              "      <td>WHITE</td>\n",
              "      <td>52</td>\n",
              "      <td>Other</td>\n",
              "      <td>Stage IV Non-Squamous NSCLC</td>\n",
              "      <td>M</td>\n",
              "      <td>NOT HISPANIC OR LATINO</td>\n",
              "      <td>Tecentriq</td>\n",
              "      <td>1.0</td>\n",
              "      <td>...</td>\n",
              "      <td>IV</td>\n",
              "      <td>NOT DETECTED</td>\n",
              "      <td>Adenocarcinoma</td>\n",
              "      <td>NOT DETECTED</td>\n",
              "      <td>Y</td>\n",
              "      <td>Never</td>\n",
              "      <td>METASTATIC</td>\n",
              "      <td>2016-01-06T09:13:00Z</td>\n",
              "      <td>2016-01-05</td>\n",
              "      <td>0</td>\n",
              "    </tr>\n",
              "    <tr>\n",
              "      <th>3623</th>\n",
              "      <td>RAADCT07791</td>\n",
              "      <td>7223af731e7e7cf48c29b5c137b0bb34ea04b0d2</td>\n",
              "      <td>WHITE</td>\n",
              "      <td>60</td>\n",
              "      <td>Other</td>\n",
              "      <td>Stage IV Non-Squamous NSCLC</td>\n",
              "      <td>M</td>\n",
              "      <td>NOT HISPANIC OR LATINO</td>\n",
              "      <td>Tecentriq</td>\n",
              "      <td>1.0</td>\n",
              "      <td>...</td>\n",
              "      <td>IV</td>\n",
              "      <td>NOT DETECTED</td>\n",
              "      <td>Adenocarcinoma</td>\n",
              "      <td>NOT DETECTED</td>\n",
              "      <td>Y</td>\n",
              "      <td>Current</td>\n",
              "      <td>METASTATIC</td>\n",
              "      <td>2016-01-08T09:07:00Z</td>\n",
              "      <td>2016-01-06</td>\n",
              "      <td>1</td>\n",
              "    </tr>\n",
              "    <tr>\n",
              "      <th>3624</th>\n",
              "      <td>RAADCT04166</td>\n",
              "      <td>7223af731e7e7cf48c29b5c137b0bb34ea04b0d2</td>\n",
              "      <td>WHITE</td>\n",
              "      <td>63</td>\n",
              "      <td>Other</td>\n",
              "      <td>Stage IV Non-Squamous NSCLC</td>\n",
              "      <td>F</td>\n",
              "      <td>NOT HISPANIC OR LATINO</td>\n",
              "      <td>Chemo</td>\n",
              "      <td>1.0</td>\n",
              "      <td>...</td>\n",
              "      <td>IV</td>\n",
              "      <td>NOT DETECTED</td>\n",
              "      <td>Adenocarcinoma</td>\n",
              "      <td>NOT DETECTED</td>\n",
              "      <td>Y</td>\n",
              "      <td>Previous</td>\n",
              "      <td>METASTATIC</td>\n",
              "      <td>2016-03-31T10:35:00Z</td>\n",
              "      <td>2016-03-30</td>\n",
              "      <td>0</td>\n",
              "    </tr>\n",
              "    <tr>\n",
              "      <th>3628</th>\n",
              "      <td>RAADCT04716</td>\n",
              "      <td>7223af731e7e7cf48c29b5c137b0bb34ea04b0d2</td>\n",
              "      <td>WHITE</td>\n",
              "      <td>71</td>\n",
              "      <td>Other</td>\n",
              "      <td>Stage IV Non-Squamous NSCLC</td>\n",
              "      <td>M</td>\n",
              "      <td>NOT HISPANIC OR LATINO</td>\n",
              "      <td>Tecentriq</td>\n",
              "      <td>1.0</td>\n",
              "      <td>...</td>\n",
              "      <td>IV</td>\n",
              "      <td>DETECTED</td>\n",
              "      <td>Adenocarcinoma</td>\n",
              "      <td>NOT DETECTED</td>\n",
              "      <td>Y</td>\n",
              "      <td>Previous</td>\n",
              "      <td>METASTATIC</td>\n",
              "      <td>2016-08-01T10:35:00Z</td>\n",
              "      <td>2016-07-29</td>\n",
              "      <td>0</td>\n",
              "    </tr>\n",
              "    <tr>\n",
              "      <th>3630</th>\n",
              "      <td>RAADCT08214</td>\n",
              "      <td>7223af731e7e7cf48c29b5c137b0bb34ea04b0d2</td>\n",
              "      <td>WHITE</td>\n",
              "      <td>69</td>\n",
              "      <td>Other</td>\n",
              "      <td>Stage IV Non-Squamous NSCLC</td>\n",
              "      <td>M</td>\n",
              "      <td>NOT HISPANIC OR LATINO</td>\n",
              "      <td>Chemo</td>\n",
              "      <td>0.0</td>\n",
              "      <td>...</td>\n",
              "      <td>IV</td>\n",
              "      <td>DETECTED</td>\n",
              "      <td>Adenocarcinoma</td>\n",
              "      <td>NOT DONE</td>\n",
              "      <td>Y</td>\n",
              "      <td>Previous</td>\n",
              "      <td>METASTATIC</td>\n",
              "      <td>2016-03-22T09:40:00Z</td>\n",
              "      <td>2016-03-21</td>\n",
              "      <td>0</td>\n",
              "    </tr>\n",
              "    <tr>\n",
              "      <th>3631</th>\n",
              "      <td>RAADCT06099</td>\n",
              "      <td>7223af731e7e7cf48c29b5c137b0bb34ea04b0d2</td>\n",
              "      <td>WHITE</td>\n",
              "      <td>74</td>\n",
              "      <td>Other</td>\n",
              "      <td>Stage IV Non-Squamous NSCLC</td>\n",
              "      <td>M</td>\n",
              "      <td>NOT HISPANIC OR LATINO</td>\n",
              "      <td>Tecentriq</td>\n",
              "      <td>1.0</td>\n",
              "      <td>...</td>\n",
              "      <td>IA</td>\n",
              "      <td>NOT DETECTED</td>\n",
              "      <td>Adenocarcinoma</td>\n",
              "      <td>NOT DONE</td>\n",
              "      <td>Y</td>\n",
              "      <td>Previous</td>\n",
              "      <td>METASTATIC</td>\n",
              "      <td>2016-04-05T10:05:00Z</td>\n",
              "      <td>2016-04-04</td>\n",
              "      <td>0</td>\n",
              "    </tr>\n",
              "    <tr>\n",
              "      <th>3633</th>\n",
              "      <td>RAADCT06126</td>\n",
              "      <td>7223af731e7e7cf48c29b5c137b0bb34ea04b0d2</td>\n",
              "      <td>WHITE</td>\n",
              "      <td>63</td>\n",
              "      <td>Other</td>\n",
              "      <td>Stage IV Non-Squamous NSCLC</td>\n",
              "      <td>F</td>\n",
              "      <td>NOT HISPANIC OR LATINO</td>\n",
              "      <td>Chemo</td>\n",
              "      <td>0.0</td>\n",
              "      <td>...</td>\n",
              "      <td>IV</td>\n",
              "      <td>DETECTED</td>\n",
              "      <td>Adenocarcinoma</td>\n",
              "      <td>NOT DONE</td>\n",
              "      <td>Y</td>\n",
              "      <td>Previous</td>\n",
              "      <td>METASTATIC</td>\n",
              "      <td>2016-08-31T10:15:00Z</td>\n",
              "      <td>2016-08-30</td>\n",
              "      <td>0</td>\n",
              "    </tr>\n",
              "    <tr>\n",
              "      <th>3634</th>\n",
              "      <td>RAADCT06217</td>\n",
              "      <td>7223af731e7e7cf48c29b5c137b0bb34ea04b0d2</td>\n",
              "      <td>WHITE</td>\n",
              "      <td>53</td>\n",
              "      <td>Other</td>\n",
              "      <td>Stage IV Non-Squamous NSCLC</td>\n",
              "      <td>F</td>\n",
              "      <td>NOT HISPANIC OR LATINO</td>\n",
              "      <td>Tecentriq</td>\n",
              "      <td>1.0</td>\n",
              "      <td>...</td>\n",
              "      <td>IV</td>\n",
              "      <td>NOT DETECTED</td>\n",
              "      <td>Adenocarcinoma</td>\n",
              "      <td>NOT DETECTED</td>\n",
              "      <td>Y</td>\n",
              "      <td>Current</td>\n",
              "      <td>METASTATIC</td>\n",
              "      <td>2016-10-12T09:30:00Z</td>\n",
              "      <td>2016-10-11</td>\n",
              "      <td>1</td>\n",
              "    </tr>\n",
              "    <tr>\n",
              "      <th>3635</th>\n",
              "      <td>RAADCT07061</td>\n",
              "      <td>7223af731e7e7cf48c29b5c137b0bb34ea04b0d2</td>\n",
              "      <td>WHITE</td>\n",
              "      <td>54</td>\n",
              "      <td>Other</td>\n",
              "      <td>Stage IV Non-Squamous NSCLC</td>\n",
              "      <td>M</td>\n",
              "      <td>NOT HISPANIC OR LATINO</td>\n",
              "      <td>Tecentriq</td>\n",
              "      <td>0.0</td>\n",
              "      <td>...</td>\n",
              "      <td>IV</td>\n",
              "      <td>NOT DETECTED</td>\n",
              "      <td>Adenocarcinoma</td>\n",
              "      <td>NOT DONE</td>\n",
              "      <td>Y</td>\n",
              "      <td>Current</td>\n",
              "      <td>METASTATIC</td>\n",
              "      <td>2016-10-25T09:20:00Z</td>\n",
              "      <td>2016-10-21</td>\n",
              "      <td>1</td>\n",
              "    </tr>\n",
              "    <tr>\n",
              "      <th>3636</th>\n",
              "      <td>RAADCT01125</td>\n",
              "      <td>7223af731e7e7cf48c29b5c137b0bb34ea04b0d2</td>\n",
              "      <td>ASIAN</td>\n",
              "      <td>53</td>\n",
              "      <td>Other</td>\n",
              "      <td>Stage IV Non-Squamous NSCLC</td>\n",
              "      <td>M</td>\n",
              "      <td>NOT HISPANIC OR LATINO</td>\n",
              "      <td>Tecentriq</td>\n",
              "      <td>1.0</td>\n",
              "      <td>...</td>\n",
              "      <td>IV</td>\n",
              "      <td>DETECTED</td>\n",
              "      <td>Adenocarcinoma</td>\n",
              "      <td>NOT DONE</td>\n",
              "      <td>Y</td>\n",
              "      <td>Never</td>\n",
              "      <td>METASTATIC</td>\n",
              "      <td>2015-10-08T09:40:00Z</td>\n",
              "      <td>2015-10-06</td>\n",
              "      <td>1</td>\n",
              "    </tr>\n",
              "    <tr>\n",
              "      <th>3637</th>\n",
              "      <td>RAADCT02515</td>\n",
              "      <td>7223af731e7e7cf48c29b5c137b0bb34ea04b0d2</td>\n",
              "      <td>WHITE</td>\n",
              "      <td>60</td>\n",
              "      <td>Other</td>\n",
              "      <td>Stage IV Non-Squamous NSCLC</td>\n",
              "      <td>M</td>\n",
              "      <td>NOT HISPANIC OR LATINO</td>\n",
              "      <td>Tecentriq</td>\n",
              "      <td>1.0</td>\n",
              "      <td>...</td>\n",
              "      <td>IV</td>\n",
              "      <td>NOT DETECTED</td>\n",
              "      <td>Adenocarcinoma</td>\n",
              "      <td>NOT DONE</td>\n",
              "      <td>Y</td>\n",
              "      <td>Current</td>\n",
              "      <td>METASTATIC</td>\n",
              "      <td>2015-11-16T10:30:00Z</td>\n",
              "      <td>2015-11-13</td>\n",
              "      <td>0</td>\n",
              "    </tr>\n",
              "    <tr>\n",
              "      <th>3638</th>\n",
              "      <td>RAADCT00181</td>\n",
              "      <td>7223af731e7e7cf48c29b5c137b0bb34ea04b0d2</td>\n",
              "      <td>WHITE</td>\n",
              "      <td>73</td>\n",
              "      <td>Other</td>\n",
              "      <td>Stage IV Non-Squamous NSCLC</td>\n",
              "      <td>M</td>\n",
              "      <td>NOT HISPANIC OR LATINO</td>\n",
              "      <td>Tecentriq</td>\n",
              "      <td>1.0</td>\n",
              "      <td>...</td>\n",
              "      <td>IV</td>\n",
              "      <td>NOT DETECTED</td>\n",
              "      <td>Adenocarcinoma</td>\n",
              "      <td>NOT DONE</td>\n",
              "      <td>Y</td>\n",
              "      <td>Previous</td>\n",
              "      <td>METASTATIC</td>\n",
              "      <td>2015-11-25T09:55:00Z</td>\n",
              "      <td>2015-11-24</td>\n",
              "      <td>1</td>\n",
              "    </tr>\n",
              "    <tr>\n",
              "      <th>3640</th>\n",
              "      <td>RAADCT04445</td>\n",
              "      <td>7223af731e7e7cf48c29b5c137b0bb34ea04b0d2</td>\n",
              "      <td>WHITE</td>\n",
              "      <td>73</td>\n",
              "      <td>Other</td>\n",
              "      <td>Stage IV Non-Squamous NSCLC</td>\n",
              "      <td>M</td>\n",
              "      <td>NOT HISPANIC OR LATINO</td>\n",
              "      <td>Tecentriq</td>\n",
              "      <td>1.0</td>\n",
              "      <td>...</td>\n",
              "      <td>IV</td>\n",
              "      <td>NOT DETECTED</td>\n",
              "      <td>Adenocarcinoma</td>\n",
              "      <td>NOT DETECTED</td>\n",
              "      <td>Y</td>\n",
              "      <td>Previous</td>\n",
              "      <td>METASTATIC</td>\n",
              "      <td>2016-07-21T09:32:00Z</td>\n",
              "      <td>2016-07-19</td>\n",
              "      <td>0</td>\n",
              "    </tr>\n",
              "    <tr>\n",
              "      <th>3641</th>\n",
              "      <td>RAADCT02582</td>\n",
              "      <td>7223af731e7e7cf48c29b5c137b0bb34ea04b0d2</td>\n",
              "      <td>UNKNOWN</td>\n",
              "      <td>71</td>\n",
              "      <td>Other</td>\n",
              "      <td>Stage IV Non-Squamous NSCLC</td>\n",
              "      <td>M</td>\n",
              "      <td>NOT HISPANIC OR LATINO</td>\n",
              "      <td>Tecentriq</td>\n",
              "      <td>0.0</td>\n",
              "      <td>...</td>\n",
              "      <td>IIIB</td>\n",
              "      <td>NOT DETECTED</td>\n",
              "      <td>Adenocarcinoma</td>\n",
              "      <td>NOT DONE</td>\n",
              "      <td>Y</td>\n",
              "      <td>Previous</td>\n",
              "      <td>METASTATIC</td>\n",
              "      <td>2016-10-06T09:20:00Z</td>\n",
              "      <td>2016-10-05</td>\n",
              "      <td>1</td>\n",
              "    </tr>\n",
              "    <tr>\n",
              "      <th>3651</th>\n",
              "      <td>RAADCT04446</td>\n",
              "      <td>7223af731e7e7cf48c29b5c137b0bb34ea04b0d2</td>\n",
              "      <td>WHITE</td>\n",
              "      <td>38</td>\n",
              "      <td>Other</td>\n",
              "      <td>Stage IV Non-Squamous NSCLC</td>\n",
              "      <td>M</td>\n",
              "      <td>NOT HISPANIC OR LATINO</td>\n",
              "      <td>Tecentriq</td>\n",
              "      <td>1.0</td>\n",
              "      <td>...</td>\n",
              "      <td>IV</td>\n",
              "      <td>NOT DETECTED</td>\n",
              "      <td>Adenocarcinoma</td>\n",
              "      <td>PRESENT</td>\n",
              "      <td>Y</td>\n",
              "      <td>Previous</td>\n",
              "      <td>METASTATIC</td>\n",
              "      <td>2016-12-05T10:40:00Z</td>\n",
              "      <td>2016-12-03</td>\n",
              "      <td>0</td>\n",
              "    </tr>\n",
              "    <tr>\n",
              "      <th>3652</th>\n",
              "      <td>RAADCT05236</td>\n",
              "      <td>7223af731e7e7cf48c29b5c137b0bb34ea04b0d2</td>\n",
              "      <td>WHITE</td>\n",
              "      <td>43</td>\n",
              "      <td>USA</td>\n",
              "      <td>Stage IV Non-Squamous NSCLC</td>\n",
              "      <td>F</td>\n",
              "      <td>NOT HISPANIC OR LATINO</td>\n",
              "      <td>Tecentriq</td>\n",
              "      <td>1.0</td>\n",
              "      <td>...</td>\n",
              "      <td>IIIA</td>\n",
              "      <td>NOT DETECTED</td>\n",
              "      <td>Adenocarcinoma</td>\n",
              "      <td>NOT DONE</td>\n",
              "      <td>Y</td>\n",
              "      <td>Previous</td>\n",
              "      <td>METASTATIC</td>\n",
              "      <td>2015-06-08T09:05:00Z</td>\n",
              "      <td>2015-06-03</td>\n",
              "      <td>0</td>\n",
              "    </tr>\n",
              "    <tr>\n",
              "      <th>3655</th>\n",
              "      <td>RAADCT03908</td>\n",
              "      <td>7223af731e7e7cf48c29b5c137b0bb34ea04b0d2</td>\n",
              "      <td>WHITE</td>\n",
              "      <td>68</td>\n",
              "      <td>Other</td>\n",
              "      <td>Stage IV Non-Squamous NSCLC</td>\n",
              "      <td>F</td>\n",
              "      <td>NOT HISPANIC OR LATINO</td>\n",
              "      <td>Chemo</td>\n",
              "      <td>1.0</td>\n",
              "      <td>...</td>\n",
              "      <td>IV</td>\n",
              "      <td>NOT DETECTED</td>\n",
              "      <td>Adenocarcinoma with neuroendocrine features</td>\n",
              "      <td>NOT DETECTED</td>\n",
              "      <td>Y</td>\n",
              "      <td>Previous</td>\n",
              "      <td>METASTATIC</td>\n",
              "      <td>2016-03-17T10:15:00Z</td>\n",
              "      <td>2016-03-17</td>\n",
              "      <td>1</td>\n",
              "    </tr>\n",
              "    <tr>\n",
              "      <th>3657</th>\n",
              "      <td>RAADCT07178</td>\n",
              "      <td>7223af731e7e7cf48c29b5c137b0bb34ea04b0d2</td>\n",
              "      <td>ASIAN</td>\n",
              "      <td>64</td>\n",
              "      <td>Other</td>\n",
              "      <td>Stage IV Non-Squamous NSCLC</td>\n",
              "      <td>M</td>\n",
              "      <td>NOT HISPANIC OR LATINO</td>\n",
              "      <td>Chemo</td>\n",
              "      <td>0.0</td>\n",
              "      <td>...</td>\n",
              "      <td>IV</td>\n",
              "      <td>DETECTED</td>\n",
              "      <td>Adenocarcinoma</td>\n",
              "      <td>PRESENT</td>\n",
              "      <td>Y</td>\n",
              "      <td>Never</td>\n",
              "      <td>METASTATIC</td>\n",
              "      <td>2016-11-24T10:00:00Z</td>\n",
              "      <td>2016-11-22</td>\n",
              "      <td>0</td>\n",
              "    </tr>\n",
              "    <tr>\n",
              "      <th>3658</th>\n",
              "      <td>RAADCT00928</td>\n",
              "      <td>7223af731e7e7cf48c29b5c137b0bb34ea04b0d2</td>\n",
              "      <td>ASIAN</td>\n",
              "      <td>58</td>\n",
              "      <td>Other</td>\n",
              "      <td>Stage IV Non-Squamous NSCLC</td>\n",
              "      <td>F</td>\n",
              "      <td>NOT HISPANIC OR LATINO</td>\n",
              "      <td>Tecentriq</td>\n",
              "      <td>1.0</td>\n",
              "      <td>...</td>\n",
              "      <td>IV</td>\n",
              "      <td>NOT DETECTED</td>\n",
              "      <td>Adenocarcinoma</td>\n",
              "      <td>NOT DETECTED</td>\n",
              "      <td>Y</td>\n",
              "      <td>Never</td>\n",
              "      <td>METASTATIC</td>\n",
              "      <td>2016-12-01T10:20:00Z</td>\n",
              "      <td>2016-12-01</td>\n",
              "      <td>0</td>\n",
              "    </tr>\n",
              "    <tr>\n",
              "      <th>3662</th>\n",
              "      <td>RAADCT00748</td>\n",
              "      <td>7223af731e7e7cf48c29b5c137b0bb34ea04b0d2</td>\n",
              "      <td>WHITE</td>\n",
              "      <td>77</td>\n",
              "      <td>Other</td>\n",
              "      <td>Stage IV Non-Squamous NSCLC</td>\n",
              "      <td>F</td>\n",
              "      <td>NOT HISPANIC OR LATINO</td>\n",
              "      <td>Chemo</td>\n",
              "      <td>1.0</td>\n",
              "      <td>...</td>\n",
              "      <td>IIIA</td>\n",
              "      <td>NOT DETECTED</td>\n",
              "      <td>Adenocarcinoma</td>\n",
              "      <td>NOT DONE</td>\n",
              "      <td>Y</td>\n",
              "      <td>Current</td>\n",
              "      <td>METASTATIC</td>\n",
              "      <td>2016-04-19T10:15:00Z</td>\n",
              "      <td>2016-04-15</td>\n",
              "      <td>1</td>\n",
              "    </tr>\n",
              "    <tr>\n",
              "      <th>3665</th>\n",
              "      <td>RAADCT05577</td>\n",
              "      <td>7223af731e7e7cf48c29b5c137b0bb34ea04b0d2</td>\n",
              "      <td>WHITE</td>\n",
              "      <td>54</td>\n",
              "      <td>Other</td>\n",
              "      <td>Stage IV Non-Squamous NSCLC</td>\n",
              "      <td>M</td>\n",
              "      <td>NOT HISPANIC OR LATINO</td>\n",
              "      <td>Tecentriq</td>\n",
              "      <td>0.0</td>\n",
              "      <td>...</td>\n",
              "      <td>IIIA</td>\n",
              "      <td>NOT DETECTED</td>\n",
              "      <td>Adenocarcinoma</td>\n",
              "      <td>NOT DONE</td>\n",
              "      <td>Y</td>\n",
              "      <td>Previous</td>\n",
              "      <td>METASTATIC</td>\n",
              "      <td>2017-01-04T10:15:00Z</td>\n",
              "      <td>2016-12-29</td>\n",
              "      <td>1</td>\n",
              "    </tr>\n",
              "    <tr>\n",
              "      <th>3667</th>\n",
              "      <td>RAADCT07638</td>\n",
              "      <td>7223af731e7e7cf48c29b5c137b0bb34ea04b0d2</td>\n",
              "      <td>WHITE</td>\n",
              "      <td>64</td>\n",
              "      <td>Other</td>\n",
              "      <td>Stage IV Non-Squamous NSCLC</td>\n",
              "      <td>M</td>\n",
              "      <td>NOT HISPANIC OR LATINO</td>\n",
              "      <td>Tecentriq</td>\n",
              "      <td>1.0</td>\n",
              "      <td>...</td>\n",
              "      <td>IV</td>\n",
              "      <td>NOT DETECTED</td>\n",
              "      <td>Adenocarcinoma</td>\n",
              "      <td>PRESENT</td>\n",
              "      <td>Y</td>\n",
              "      <td>Previous</td>\n",
              "      <td>METASTATIC</td>\n",
              "      <td>2015-10-07T12:55:00Z</td>\n",
              "      <td>2015-10-06</td>\n",
              "      <td>0</td>\n",
              "    </tr>\n",
              "    <tr>\n",
              "      <th>3669</th>\n",
              "      <td>RAADCT05004</td>\n",
              "      <td>7223af731e7e7cf48c29b5c137b0bb34ea04b0d2</td>\n",
              "      <td>WHITE</td>\n",
              "      <td>63</td>\n",
              "      <td>Other</td>\n",
              "      <td>Stage IV Non-Squamous NSCLC</td>\n",
              "      <td>F</td>\n",
              "      <td>NOT HISPANIC OR LATINO</td>\n",
              "      <td>Chemo</td>\n",
              "      <td>1.0</td>\n",
              "      <td>...</td>\n",
              "      <td>IV</td>\n",
              "      <td>NOT DETECTED</td>\n",
              "      <td>Adenocarcinoma</td>\n",
              "      <td>PRESENT</td>\n",
              "      <td>Y</td>\n",
              "      <td>Previous</td>\n",
              "      <td>METASTATIC</td>\n",
              "      <td>2016-03-23T12:00:00Z</td>\n",
              "      <td>2016-03-21</td>\n",
              "      <td>1</td>\n",
              "    </tr>\n",
              "    <tr>\n",
              "      <th>...</th>\n",
              "      <td>...</td>\n",
              "      <td>...</td>\n",
              "      <td>...</td>\n",
              "      <td>...</td>\n",
              "      <td>...</td>\n",
              "      <td>...</td>\n",
              "      <td>...</td>\n",
              "      <td>...</td>\n",
              "      <td>...</td>\n",
              "      <td>...</td>\n",
              "      <td>...</td>\n",
              "      <td>...</td>\n",
              "      <td>...</td>\n",
              "      <td>...</td>\n",
              "      <td>...</td>\n",
              "      <td>...</td>\n",
              "      <td>...</td>\n",
              "      <td>...</td>\n",
              "      <td>...</td>\n",
              "      <td>...</td>\n",
              "      <td>...</td>\n",
              "    </tr>\n",
              "    <tr>\n",
              "      <th>4670</th>\n",
              "      <td>RAADCT03875</td>\n",
              "      <td>7223af731e7e7cf48c29b5c137b0bb34ea04b0d2</td>\n",
              "      <td>ASIAN</td>\n",
              "      <td>69</td>\n",
              "      <td>JPN</td>\n",
              "      <td>Stage IV Non-Squamous NSCLC</td>\n",
              "      <td>M</td>\n",
              "      <td>NOT HISPANIC OR LATINO</td>\n",
              "      <td>Tecentriq</td>\n",
              "      <td>0.0</td>\n",
              "      <td>...</td>\n",
              "      <td>UNKNOWN</td>\n",
              "      <td>DETECTED</td>\n",
              "      <td>Adenocarcinoma</td>\n",
              "      <td>NOT DONE</td>\n",
              "      <td>Y</td>\n",
              "      <td>Never</td>\n",
              "      <td>METASTATIC</td>\n",
              "      <td>2016-01-21T10:43:00Z</td>\n",
              "      <td>2016-01-19</td>\n",
              "      <td>0</td>\n",
              "    </tr>\n",
              "    <tr>\n",
              "      <th>4681</th>\n",
              "      <td>RAADCT07799</td>\n",
              "      <td>7223af731e7e7cf48c29b5c137b0bb34ea04b0d2</td>\n",
              "      <td>ASIAN</td>\n",
              "      <td>64</td>\n",
              "      <td>JPN</td>\n",
              "      <td>Stage IV Non-Squamous NSCLC</td>\n",
              "      <td>F</td>\n",
              "      <td>NOT HISPANIC OR LATINO</td>\n",
              "      <td>Tecentriq</td>\n",
              "      <td>1.0</td>\n",
              "      <td>...</td>\n",
              "      <td>IV</td>\n",
              "      <td>DETECTED</td>\n",
              "      <td>Adenocarcinoma</td>\n",
              "      <td>NOT DONE</td>\n",
              "      <td>Y</td>\n",
              "      <td>Previous</td>\n",
              "      <td>METASTATIC</td>\n",
              "      <td>2015-09-17T11:10:00Z</td>\n",
              "      <td>2015-09-16</td>\n",
              "      <td>0</td>\n",
              "    </tr>\n",
              "    <tr>\n",
              "      <th>4685</th>\n",
              "      <td>RAADCT07396</td>\n",
              "      <td>7223af731e7e7cf48c29b5c137b0bb34ea04b0d2</td>\n",
              "      <td>ASIAN</td>\n",
              "      <td>62</td>\n",
              "      <td>JPN</td>\n",
              "      <td>Stage IV Non-Squamous NSCLC</td>\n",
              "      <td>M</td>\n",
              "      <td>NOT HISPANIC OR LATINO</td>\n",
              "      <td>Tecentriq</td>\n",
              "      <td>1.0</td>\n",
              "      <td>...</td>\n",
              "      <td>IV</td>\n",
              "      <td>NOT DETECTED</td>\n",
              "      <td>Adenocarcinoma</td>\n",
              "      <td>NOT DONE</td>\n",
              "      <td>Y</td>\n",
              "      <td>Previous</td>\n",
              "      <td>METASTATIC</td>\n",
              "      <td>2016-01-26T12:40:00Z</td>\n",
              "      <td>2016-01-25</td>\n",
              "      <td>1</td>\n",
              "    </tr>\n",
              "    <tr>\n",
              "      <th>4692</th>\n",
              "      <td>RAADCT06384</td>\n",
              "      <td>7223af731e7e7cf48c29b5c137b0bb34ea04b0d2</td>\n",
              "      <td>ASIAN</td>\n",
              "      <td>55</td>\n",
              "      <td>JPN</td>\n",
              "      <td>Stage IV Non-Squamous NSCLC</td>\n",
              "      <td>M</td>\n",
              "      <td>NOT HISPANIC OR LATINO</td>\n",
              "      <td>Tecentriq</td>\n",
              "      <td>1.0</td>\n",
              "      <td>...</td>\n",
              "      <td>IV</td>\n",
              "      <td>NOT DETECTED</td>\n",
              "      <td>Adenocarcinoma</td>\n",
              "      <td>NOT DONE</td>\n",
              "      <td>Y</td>\n",
              "      <td>Previous</td>\n",
              "      <td>METASTATIC</td>\n",
              "      <td>2015-12-02T11:21:00Z</td>\n",
              "      <td>2015-12-01</td>\n",
              "      <td>1</td>\n",
              "    </tr>\n",
              "    <tr>\n",
              "      <th>4693</th>\n",
              "      <td>RAADCT02521</td>\n",
              "      <td>7223af731e7e7cf48c29b5c137b0bb34ea04b0d2</td>\n",
              "      <td>ASIAN</td>\n",
              "      <td>59</td>\n",
              "      <td>JPN</td>\n",
              "      <td>Stage IV Non-Squamous NSCLC</td>\n",
              "      <td>F</td>\n",
              "      <td>NOT HISPANIC OR LATINO</td>\n",
              "      <td>Chemo</td>\n",
              "      <td>0.0</td>\n",
              "      <td>...</td>\n",
              "      <td>IIA</td>\n",
              "      <td>DETECTED</td>\n",
              "      <td>Adenocarcinoma</td>\n",
              "      <td>NOT DONE</td>\n",
              "      <td>Y</td>\n",
              "      <td>Previous</td>\n",
              "      <td>METASTATIC</td>\n",
              "      <td>2015-12-09T11:11:00Z</td>\n",
              "      <td>2015-12-07</td>\n",
              "      <td>1</td>\n",
              "    </tr>\n",
              "    <tr>\n",
              "      <th>4694</th>\n",
              "      <td>RAADCT04434</td>\n",
              "      <td>7223af731e7e7cf48c29b5c137b0bb34ea04b0d2</td>\n",
              "      <td>ASIAN</td>\n",
              "      <td>66</td>\n",
              "      <td>JPN</td>\n",
              "      <td>Stage IV Non-Squamous NSCLC</td>\n",
              "      <td>F</td>\n",
              "      <td>NOT HISPANIC OR LATINO</td>\n",
              "      <td>Tecentriq</td>\n",
              "      <td>1.0</td>\n",
              "      <td>...</td>\n",
              "      <td>IV</td>\n",
              "      <td>DETECTED</td>\n",
              "      <td>Adenocarcinoma</td>\n",
              "      <td>NOT DONE</td>\n",
              "      <td>Y</td>\n",
              "      <td>Previous</td>\n",
              "      <td>METASTATIC</td>\n",
              "      <td>2016-01-13T12:24:00Z</td>\n",
              "      <td>2016-01-12</td>\n",
              "      <td>0</td>\n",
              "    </tr>\n",
              "    <tr>\n",
              "      <th>4697</th>\n",
              "      <td>RAADCT00004</td>\n",
              "      <td>7223af731e7e7cf48c29b5c137b0bb34ea04b0d2</td>\n",
              "      <td>ASIAN</td>\n",
              "      <td>71</td>\n",
              "      <td>JPN</td>\n",
              "      <td>Stage IV Non-Squamous NSCLC</td>\n",
              "      <td>M</td>\n",
              "      <td>NOT HISPANIC OR LATINO</td>\n",
              "      <td>Chemo</td>\n",
              "      <td>1.0</td>\n",
              "      <td>...</td>\n",
              "      <td>IV</td>\n",
              "      <td>NOT DETECTED</td>\n",
              "      <td>Adenocarcinoma</td>\n",
              "      <td>NOT DONE</td>\n",
              "      <td>Y</td>\n",
              "      <td>Previous</td>\n",
              "      <td>METASTATIC</td>\n",
              "      <td>2016-07-05T11:02:00Z</td>\n",
              "      <td>2016-07-01</td>\n",
              "      <td>1</td>\n",
              "    </tr>\n",
              "    <tr>\n",
              "      <th>4700</th>\n",
              "      <td>RAADCT02296</td>\n",
              "      <td>7223af731e7e7cf48c29b5c137b0bb34ea04b0d2</td>\n",
              "      <td>ASIAN</td>\n",
              "      <td>65</td>\n",
              "      <td>JPN</td>\n",
              "      <td>Stage IV Non-Squamous NSCLC</td>\n",
              "      <td>M</td>\n",
              "      <td>NOT HISPANIC OR LATINO</td>\n",
              "      <td>Tecentriq</td>\n",
              "      <td>1.0</td>\n",
              "      <td>...</td>\n",
              "      <td>UNKNOWN</td>\n",
              "      <td>DETECTED</td>\n",
              "      <td>Adenocarcinoma</td>\n",
              "      <td>NOT DONE</td>\n",
              "      <td>Y</td>\n",
              "      <td>Never</td>\n",
              "      <td>METASTATIC</td>\n",
              "      <td>2016-09-28T10:59:00Z</td>\n",
              "      <td>2016-09-27</td>\n",
              "      <td>0</td>\n",
              "    </tr>\n",
              "    <tr>\n",
              "      <th>4704</th>\n",
              "      <td>RAADCT05914</td>\n",
              "      <td>7223af731e7e7cf48c29b5c137b0bb34ea04b0d2</td>\n",
              "      <td>ASIAN</td>\n",
              "      <td>45</td>\n",
              "      <td>JPN</td>\n",
              "      <td>Stage IV Non-Squamous NSCLC</td>\n",
              "      <td>M</td>\n",
              "      <td>NOT HISPANIC OR LATINO</td>\n",
              "      <td>Tecentriq</td>\n",
              "      <td>0.0</td>\n",
              "      <td>...</td>\n",
              "      <td>IV</td>\n",
              "      <td>DETECTED</td>\n",
              "      <td>Adenocarcinoma</td>\n",
              "      <td>NOT DONE</td>\n",
              "      <td>Y</td>\n",
              "      <td>Never</td>\n",
              "      <td>METASTATIC</td>\n",
              "      <td>2016-04-21T11:00:00Z</td>\n",
              "      <td>2016-04-20</td>\n",
              "      <td>1</td>\n",
              "    </tr>\n",
              "    <tr>\n",
              "      <th>4709</th>\n",
              "      <td>RAADCT08753</td>\n",
              "      <td>7223af731e7e7cf48c29b5c137b0bb34ea04b0d2</td>\n",
              "      <td>ASIAN</td>\n",
              "      <td>67</td>\n",
              "      <td>JPN</td>\n",
              "      <td>Stage IV Non-Squamous NSCLC</td>\n",
              "      <td>M</td>\n",
              "      <td>NOT HISPANIC OR LATINO</td>\n",
              "      <td>Tecentriq</td>\n",
              "      <td>0.0</td>\n",
              "      <td>...</td>\n",
              "      <td>IV</td>\n",
              "      <td>NOT DETECTED</td>\n",
              "      <td>Adenocarcinoma</td>\n",
              "      <td>NOT DONE</td>\n",
              "      <td>Y</td>\n",
              "      <td>Previous</td>\n",
              "      <td>METASTATIC</td>\n",
              "      <td>2016-02-06T11:03:00Z</td>\n",
              "      <td>2016-02-05</td>\n",
              "      <td>0</td>\n",
              "    </tr>\n",
              "    <tr>\n",
              "      <th>4711</th>\n",
              "      <td>RAADCT02981</td>\n",
              "      <td>7223af731e7e7cf48c29b5c137b0bb34ea04b0d2</td>\n",
              "      <td>ASIAN</td>\n",
              "      <td>58</td>\n",
              "      <td>JPN</td>\n",
              "      <td>Stage IV Non-Squamous NSCLC</td>\n",
              "      <td>M</td>\n",
              "      <td>NOT HISPANIC OR LATINO</td>\n",
              "      <td>Tecentriq</td>\n",
              "      <td>1.0</td>\n",
              "      <td>...</td>\n",
              "      <td>UNKNOWN</td>\n",
              "      <td>NOT DETECTED</td>\n",
              "      <td>Adenocarcinoma</td>\n",
              "      <td>NOT DONE</td>\n",
              "      <td>Y</td>\n",
              "      <td>Current</td>\n",
              "      <td>METASTATIC</td>\n",
              "      <td>2016-08-10T11:10:00Z</td>\n",
              "      <td>2016-08-09</td>\n",
              "      <td>0</td>\n",
              "    </tr>\n",
              "    <tr>\n",
              "      <th>4714</th>\n",
              "      <td>RAADCT01100</td>\n",
              "      <td>7223af731e7e7cf48c29b5c137b0bb34ea04b0d2</td>\n",
              "      <td>ASIAN</td>\n",
              "      <td>60</td>\n",
              "      <td>JPN</td>\n",
              "      <td>Stage IV Non-Squamous NSCLC</td>\n",
              "      <td>M</td>\n",
              "      <td>NOT HISPANIC OR LATINO</td>\n",
              "      <td>Tecentriq</td>\n",
              "      <td>0.0</td>\n",
              "      <td>...</td>\n",
              "      <td>IV</td>\n",
              "      <td>NOT DONE</td>\n",
              "      <td>Adenocarcinoma</td>\n",
              "      <td>NOT DONE</td>\n",
              "      <td>Y</td>\n",
              "      <td>Previous</td>\n",
              "      <td>METASTATIC</td>\n",
              "      <td>2016-04-21T14:15:00Z</td>\n",
              "      <td>2016-04-20</td>\n",
              "      <td>1</td>\n",
              "    </tr>\n",
              "    <tr>\n",
              "      <th>4717</th>\n",
              "      <td>RAADCT04633</td>\n",
              "      <td>7223af731e7e7cf48c29b5c137b0bb34ea04b0d2</td>\n",
              "      <td>ASIAN</td>\n",
              "      <td>64</td>\n",
              "      <td>JPN</td>\n",
              "      <td>Stage IV Non-Squamous NSCLC</td>\n",
              "      <td>M</td>\n",
              "      <td>NOT HISPANIC OR LATINO</td>\n",
              "      <td>Tecentriq</td>\n",
              "      <td>0.0</td>\n",
              "      <td>...</td>\n",
              "      <td>IIB</td>\n",
              "      <td>DETECTED</td>\n",
              "      <td>Adenocarcinoma</td>\n",
              "      <td>NOT DONE</td>\n",
              "      <td>Y</td>\n",
              "      <td>Previous</td>\n",
              "      <td>METASTATIC</td>\n",
              "      <td>2016-08-10T13:13:00Z</td>\n",
              "      <td>2016-08-09</td>\n",
              "      <td>1</td>\n",
              "    </tr>\n",
              "    <tr>\n",
              "      <th>4718</th>\n",
              "      <td>RAADCT00269</td>\n",
              "      <td>7223af731e7e7cf48c29b5c137b0bb34ea04b0d2</td>\n",
              "      <td>ASIAN</td>\n",
              "      <td>72</td>\n",
              "      <td>JPN</td>\n",
              "      <td>Stage IV Non-Squamous NSCLC</td>\n",
              "      <td>F</td>\n",
              "      <td>NOT HISPANIC OR LATINO</td>\n",
              "      <td>Tecentriq</td>\n",
              "      <td>0.0</td>\n",
              "      <td>...</td>\n",
              "      <td>IV</td>\n",
              "      <td>NOT DETECTED</td>\n",
              "      <td>Adenocarcinoma</td>\n",
              "      <td>NOT DONE</td>\n",
              "      <td>Y</td>\n",
              "      <td>Previous</td>\n",
              "      <td>METASTATIC</td>\n",
              "      <td>2016-11-10T13:15:00Z</td>\n",
              "      <td>2016-11-09</td>\n",
              "      <td>0</td>\n",
              "    </tr>\n",
              "    <tr>\n",
              "      <th>4736</th>\n",
              "      <td>RAADCT00370</td>\n",
              "      <td>7223af731e7e7cf48c29b5c137b0bb34ea04b0d2</td>\n",
              "      <td>WHITE</td>\n",
              "      <td>41</td>\n",
              "      <td>Other</td>\n",
              "      <td>Stage IV Non-Squamous NSCLC</td>\n",
              "      <td>F</td>\n",
              "      <td>HISPANIC OR LATINO</td>\n",
              "      <td>Tecentriq</td>\n",
              "      <td>0.0</td>\n",
              "      <td>...</td>\n",
              "      <td>IV</td>\n",
              "      <td>DETECTED</td>\n",
              "      <td>Adenocarcinoma</td>\n",
              "      <td>NOT DONE</td>\n",
              "      <td>Y</td>\n",
              "      <td>Never</td>\n",
              "      <td>METASTATIC</td>\n",
              "      <td>2016-11-04T12:20:00Z</td>\n",
              "      <td>2016-11-02</td>\n",
              "      <td>1</td>\n",
              "    </tr>\n",
              "    <tr>\n",
              "      <th>4737</th>\n",
              "      <td>RAADCT04664</td>\n",
              "      <td>7223af731e7e7cf48c29b5c137b0bb34ea04b0d2</td>\n",
              "      <td>WHITE</td>\n",
              "      <td>56</td>\n",
              "      <td>Other</td>\n",
              "      <td>Stage IV Non-Squamous NSCLC</td>\n",
              "      <td>M</td>\n",
              "      <td>HISPANIC OR LATINO</td>\n",
              "      <td>Tecentriq</td>\n",
              "      <td>0.0</td>\n",
              "      <td>...</td>\n",
              "      <td>IA</td>\n",
              "      <td>DETECTED</td>\n",
              "      <td>Adenocarcinoma</td>\n",
              "      <td>NE</td>\n",
              "      <td>Y</td>\n",
              "      <td>Never</td>\n",
              "      <td>METASTATIC</td>\n",
              "      <td>2016-12-01T14:00:00Z</td>\n",
              "      <td>2016-11-30</td>\n",
              "      <td>0</td>\n",
              "    </tr>\n",
              "    <tr>\n",
              "      <th>4738</th>\n",
              "      <td>RAADCT00917</td>\n",
              "      <td>7223af731e7e7cf48c29b5c137b0bb34ea04b0d2</td>\n",
              "      <td>WHITE</td>\n",
              "      <td>57</td>\n",
              "      <td>USA</td>\n",
              "      <td>Stage IV Non-Squamous NSCLC</td>\n",
              "      <td>M</td>\n",
              "      <td>NOT HISPANIC OR LATINO</td>\n",
              "      <td>Tecentriq</td>\n",
              "      <td>1.0</td>\n",
              "      <td>...</td>\n",
              "      <td>IV</td>\n",
              "      <td>NOT DETECTED</td>\n",
              "      <td>Adenocarcinoma</td>\n",
              "      <td>NOT DONE</td>\n",
              "      <td>Y</td>\n",
              "      <td>Previous</td>\n",
              "      <td>METASTATIC</td>\n",
              "      <td>2016-05-09T15:05:00Z</td>\n",
              "      <td>2016-05-05</td>\n",
              "      <td>1</td>\n",
              "    </tr>\n",
              "    <tr>\n",
              "      <th>4744</th>\n",
              "      <td>RAADCT02894</td>\n",
              "      <td>7223af731e7e7cf48c29b5c137b0bb34ea04b0d2</td>\n",
              "      <td>WHITE</td>\n",
              "      <td>43</td>\n",
              "      <td>USA</td>\n",
              "      <td>Stage IV Non-Squamous NSCLC</td>\n",
              "      <td>M</td>\n",
              "      <td>NOT HISPANIC OR LATINO</td>\n",
              "      <td>Tecentriq</td>\n",
              "      <td>0.0</td>\n",
              "      <td>...</td>\n",
              "      <td>IV</td>\n",
              "      <td>NOT DETECTED</td>\n",
              "      <td>Adenocarcinoma with neuroendocrine features</td>\n",
              "      <td>NOT DETECTED</td>\n",
              "      <td>Y</td>\n",
              "      <td>Current</td>\n",
              "      <td>METASTATIC</td>\n",
              "      <td>2016-08-22T09:59:00Z</td>\n",
              "      <td>2016-08-18</td>\n",
              "      <td>0</td>\n",
              "    </tr>\n",
              "    <tr>\n",
              "      <th>4748</th>\n",
              "      <td>RAADCT05457</td>\n",
              "      <td>7223af731e7e7cf48c29b5c137b0bb34ea04b0d2</td>\n",
              "      <td>UNKNOWN</td>\n",
              "      <td>74</td>\n",
              "      <td>USA</td>\n",
              "      <td>Stage IV Non-Squamous NSCLC</td>\n",
              "      <td>F</td>\n",
              "      <td>UNKNOWN</td>\n",
              "      <td>Tecentriq</td>\n",
              "      <td>1.0</td>\n",
              "      <td>...</td>\n",
              "      <td>IIIA</td>\n",
              "      <td>NOT DETECTED</td>\n",
              "      <td>Adenocarcinoma</td>\n",
              "      <td>NOT DONE</td>\n",
              "      <td>Y</td>\n",
              "      <td>Current</td>\n",
              "      <td>METASTATIC</td>\n",
              "      <td>2016-12-06T10:41:00Z</td>\n",
              "      <td>2016-12-02</td>\n",
              "      <td>0</td>\n",
              "    </tr>\n",
              "    <tr>\n",
              "      <th>4751</th>\n",
              "      <td>RAADCT05557</td>\n",
              "      <td>7223af731e7e7cf48c29b5c137b0bb34ea04b0d2</td>\n",
              "      <td>WHITE</td>\n",
              "      <td>67</td>\n",
              "      <td>USA</td>\n",
              "      <td>Stage IV Non-Squamous NSCLC</td>\n",
              "      <td>M</td>\n",
              "      <td>NOT HISPANIC OR LATINO</td>\n",
              "      <td>Chemo</td>\n",
              "      <td>1.0</td>\n",
              "      <td>...</td>\n",
              "      <td>IV</td>\n",
              "      <td>NOT DETECTED</td>\n",
              "      <td>Adenocarcinoma</td>\n",
              "      <td>NOT DONE</td>\n",
              "      <td>Y</td>\n",
              "      <td>Previous</td>\n",
              "      <td>METASTATIC</td>\n",
              "      <td>2016-08-09T10:55:00Z</td>\n",
              "      <td>2016-08-05</td>\n",
              "      <td>0</td>\n",
              "    </tr>\n",
              "    <tr>\n",
              "      <th>4754</th>\n",
              "      <td>RAADCT00850</td>\n",
              "      <td>7223af731e7e7cf48c29b5c137b0bb34ea04b0d2</td>\n",
              "      <td>WHITE</td>\n",
              "      <td>65</td>\n",
              "      <td>USA</td>\n",
              "      <td>Stage IV Non-Squamous NSCLC</td>\n",
              "      <td>M</td>\n",
              "      <td>NOT HISPANIC OR LATINO</td>\n",
              "      <td>Tecentriq</td>\n",
              "      <td>1.0</td>\n",
              "      <td>...</td>\n",
              "      <td>IV</td>\n",
              "      <td>NOT DETECTED</td>\n",
              "      <td>Adenocarcinoma</td>\n",
              "      <td>NOT DONE</td>\n",
              "      <td>Y</td>\n",
              "      <td>Previous</td>\n",
              "      <td>METASTATIC</td>\n",
              "      <td>2016-10-27T09:45:00Z</td>\n",
              "      <td>2016-10-14</td>\n",
              "      <td>1</td>\n",
              "    </tr>\n",
              "    <tr>\n",
              "      <th>4755</th>\n",
              "      <td>RAADCT06549</td>\n",
              "      <td>7223af731e7e7cf48c29b5c137b0bb34ea04b0d2</td>\n",
              "      <td>WHITE</td>\n",
              "      <td>46</td>\n",
              "      <td>USA</td>\n",
              "      <td>Stage IV Non-Squamous NSCLC</td>\n",
              "      <td>M</td>\n",
              "      <td>HISPANIC OR LATINO</td>\n",
              "      <td>Chemo</td>\n",
              "      <td>1.0</td>\n",
              "      <td>...</td>\n",
              "      <td>IV</td>\n",
              "      <td>NOT DETECTED</td>\n",
              "      <td>Adenocarcinoma</td>\n",
              "      <td>NOT DETECTED</td>\n",
              "      <td>Y</td>\n",
              "      <td>Previous</td>\n",
              "      <td>METASTATIC</td>\n",
              "      <td>2016-12-23T09:45:00Z</td>\n",
              "      <td>2016-12-22</td>\n",
              "      <td>1</td>\n",
              "    </tr>\n",
              "    <tr>\n",
              "      <th>4756</th>\n",
              "      <td>RAADCT02726</td>\n",
              "      <td>7223af731e7e7cf48c29b5c137b0bb34ea04b0d2</td>\n",
              "      <td>ASIAN</td>\n",
              "      <td>68</td>\n",
              "      <td>Other</td>\n",
              "      <td>Stage IV Non-Squamous NSCLC</td>\n",
              "      <td>F</td>\n",
              "      <td>NOT HISPANIC OR LATINO</td>\n",
              "      <td>Tecentriq</td>\n",
              "      <td>0.0</td>\n",
              "      <td>...</td>\n",
              "      <td>IV</td>\n",
              "      <td>NOT DETECTED</td>\n",
              "      <td>Adenocarcinoma</td>\n",
              "      <td>NOT DONE</td>\n",
              "      <td>Y</td>\n",
              "      <td>Never</td>\n",
              "      <td>METASTATIC</td>\n",
              "      <td>2016-03-03T11:25:00Z</td>\n",
              "      <td>2016-03-02</td>\n",
              "      <td>0</td>\n",
              "    </tr>\n",
              "    <tr>\n",
              "      <th>4758</th>\n",
              "      <td>RAADCT05999</td>\n",
              "      <td>7223af731e7e7cf48c29b5c137b0bb34ea04b0d2</td>\n",
              "      <td>WHITE</td>\n",
              "      <td>70</td>\n",
              "      <td>USA</td>\n",
              "      <td>Stage IV Non-Squamous NSCLC</td>\n",
              "      <td>M</td>\n",
              "      <td>NOT HISPANIC OR LATINO</td>\n",
              "      <td>Tecentriq</td>\n",
              "      <td>1.0</td>\n",
              "      <td>...</td>\n",
              "      <td>IV</td>\n",
              "      <td>NOT DETECTED</td>\n",
              "      <td>Adenocarcinoma</td>\n",
              "      <td>NOT DONE</td>\n",
              "      <td>Y</td>\n",
              "      <td>Previous</td>\n",
              "      <td>METASTATIC</td>\n",
              "      <td>2016-08-31T12:57:00Z</td>\n",
              "      <td>2016-08-29</td>\n",
              "      <td>0</td>\n",
              "    </tr>\n",
              "    <tr>\n",
              "      <th>4759</th>\n",
              "      <td>RAADCT03037</td>\n",
              "      <td>7223af731e7e7cf48c29b5c137b0bb34ea04b0d2</td>\n",
              "      <td>WHITE</td>\n",
              "      <td>74</td>\n",
              "      <td>Other</td>\n",
              "      <td>Stage IV Non-Squamous NSCLC</td>\n",
              "      <td>M</td>\n",
              "      <td>NOT HISPANIC OR LATINO</td>\n",
              "      <td>Tecentriq</td>\n",
              "      <td>1.0</td>\n",
              "      <td>...</td>\n",
              "      <td>IV</td>\n",
              "      <td>NOT DONE</td>\n",
              "      <td>Adenocarcinoma</td>\n",
              "      <td>NOT DONE</td>\n",
              "      <td>Y</td>\n",
              "      <td>Never</td>\n",
              "      <td>METASTATIC</td>\n",
              "      <td>2016-08-26T10:30:00Z</td>\n",
              "      <td>2016-08-25</td>\n",
              "      <td>0</td>\n",
              "    </tr>\n",
              "    <tr>\n",
              "      <th>4767</th>\n",
              "      <td>RAADCT08008</td>\n",
              "      <td>7223af731e7e7cf48c29b5c137b0bb34ea04b0d2</td>\n",
              "      <td>WHITE</td>\n",
              "      <td>60</td>\n",
              "      <td>DEU</td>\n",
              "      <td>Stage IV Non-Squamous NSCLC</td>\n",
              "      <td>F</td>\n",
              "      <td>NOT HISPANIC OR LATINO</td>\n",
              "      <td>Tecentriq</td>\n",
              "      <td>1.0</td>\n",
              "      <td>...</td>\n",
              "      <td>IV</td>\n",
              "      <td>NOT DETECTED</td>\n",
              "      <td>Adenocarcinoma</td>\n",
              "      <td>NOT DETECTED</td>\n",
              "      <td>Y</td>\n",
              "      <td>Current</td>\n",
              "      <td>METASTATIC</td>\n",
              "      <td>2016-10-07T15:00:00Z</td>\n",
              "      <td>2016-10-07</td>\n",
              "      <td>0</td>\n",
              "    </tr>\n",
              "    <tr>\n",
              "      <th>4768</th>\n",
              "      <td>RAADCT01174</td>\n",
              "      <td>7223af731e7e7cf48c29b5c137b0bb34ea04b0d2</td>\n",
              "      <td>WHITE</td>\n",
              "      <td>52</td>\n",
              "      <td>ESP</td>\n",
              "      <td>Stage IV Non-Squamous NSCLC</td>\n",
              "      <td>M</td>\n",
              "      <td>HISPANIC OR LATINO</td>\n",
              "      <td>Tecentriq</td>\n",
              "      <td>0.0</td>\n",
              "      <td>...</td>\n",
              "      <td>IIIA</td>\n",
              "      <td>NOT DETECTED</td>\n",
              "      <td>Adenocarcinoma</td>\n",
              "      <td>NOT DONE</td>\n",
              "      <td>Y</td>\n",
              "      <td>Current</td>\n",
              "      <td>METASTATIC</td>\n",
              "      <td>2016-10-11T12:00:00Z</td>\n",
              "      <td>2016-10-10</td>\n",
              "      <td>0</td>\n",
              "    </tr>\n",
              "    <tr>\n",
              "      <th>4777</th>\n",
              "      <td>RAADCT00731</td>\n",
              "      <td>7223af731e7e7cf48c29b5c137b0bb34ea04b0d2</td>\n",
              "      <td>WHITE</td>\n",
              "      <td>48</td>\n",
              "      <td>Other</td>\n",
              "      <td>Stage IV Non-Squamous NSCLC</td>\n",
              "      <td>M</td>\n",
              "      <td>NOT REPORTED</td>\n",
              "      <td>Tecentriq</td>\n",
              "      <td>0.0</td>\n",
              "      <td>...</td>\n",
              "      <td>IV</td>\n",
              "      <td>NOT DETECTED</td>\n",
              "      <td>Adenocarcinoma</td>\n",
              "      <td>PRESENT</td>\n",
              "      <td>Y</td>\n",
              "      <td>Current</td>\n",
              "      <td>METASTATIC</td>\n",
              "      <td>2016-11-30T09:15:00Z</td>\n",
              "      <td>2016-11-29</td>\n",
              "      <td>1</td>\n",
              "    </tr>\n",
              "    <tr>\n",
              "      <th>4778</th>\n",
              "      <td>RAADCT02177</td>\n",
              "      <td>7223af731e7e7cf48c29b5c137b0bb34ea04b0d2</td>\n",
              "      <td>WHITE</td>\n",
              "      <td>48</td>\n",
              "      <td>Other</td>\n",
              "      <td>Stage IV Non-Squamous NSCLC</td>\n",
              "      <td>F</td>\n",
              "      <td>NOT HISPANIC OR LATINO</td>\n",
              "      <td>Tecentriq</td>\n",
              "      <td>0.0</td>\n",
              "      <td>...</td>\n",
              "      <td>IV</td>\n",
              "      <td>NOT DETECTED</td>\n",
              "      <td>Adenocarcinoma</td>\n",
              "      <td>PRESENT</td>\n",
              "      <td>Y</td>\n",
              "      <td>Current</td>\n",
              "      <td>METASTATIC</td>\n",
              "      <td>2016-10-12T10:00:00Z</td>\n",
              "      <td>2016-10-10</td>\n",
              "      <td>1</td>\n",
              "    </tr>\n",
              "    <tr>\n",
              "      <th>4779</th>\n",
              "      <td>RAADCT07312</td>\n",
              "      <td>7223af731e7e7cf48c29b5c137b0bb34ea04b0d2</td>\n",
              "      <td>WHITE</td>\n",
              "      <td>61</td>\n",
              "      <td>Other</td>\n",
              "      <td>Stage IV Non-Squamous NSCLC</td>\n",
              "      <td>F</td>\n",
              "      <td>NOT HISPANIC OR LATINO</td>\n",
              "      <td>Tecentriq</td>\n",
              "      <td>1.0</td>\n",
              "      <td>...</td>\n",
              "      <td>IIIA</td>\n",
              "      <td>NOT DETECTED</td>\n",
              "      <td>Adenocarcinoma</td>\n",
              "      <td>NOT DONE</td>\n",
              "      <td>Y</td>\n",
              "      <td>Previous</td>\n",
              "      <td>METASTATIC</td>\n",
              "      <td>2016-10-26T09:50:00Z</td>\n",
              "      <td>2016-10-24</td>\n",
              "      <td>1</td>\n",
              "    </tr>\n",
              "  </tbody>\n",
              "</table>\n",
              "<p>342 rows × 23 columns</p>\n",
              "</div>"
            ],
            "text/plain": [
              "        PatientID                                     Study  \\\n",
              "3602  RAADCT02704  7223af731e7e7cf48c29b5c137b0bb34ea04b0d2   \n",
              "3607  RAADCT07395  7223af731e7e7cf48c29b5c137b0bb34ea04b0d2   \n",
              "3612  RAADCT03848  7223af731e7e7cf48c29b5c137b0bb34ea04b0d2   \n",
              "3613  RAADCT08809  7223af731e7e7cf48c29b5c137b0bb34ea04b0d2   \n",
              "3615  RAADCT02994  7223af731e7e7cf48c29b5c137b0bb34ea04b0d2   \n",
              "3616  RAADCT03925  7223af731e7e7cf48c29b5c137b0bb34ea04b0d2   \n",
              "3617  RAADCT04403  7223af731e7e7cf48c29b5c137b0bb34ea04b0d2   \n",
              "3622  RAADCT05842  7223af731e7e7cf48c29b5c137b0bb34ea04b0d2   \n",
              "3623  RAADCT07791  7223af731e7e7cf48c29b5c137b0bb34ea04b0d2   \n",
              "3624  RAADCT04166  7223af731e7e7cf48c29b5c137b0bb34ea04b0d2   \n",
              "3628  RAADCT04716  7223af731e7e7cf48c29b5c137b0bb34ea04b0d2   \n",
              "3630  RAADCT08214  7223af731e7e7cf48c29b5c137b0bb34ea04b0d2   \n",
              "3631  RAADCT06099  7223af731e7e7cf48c29b5c137b0bb34ea04b0d2   \n",
              "3633  RAADCT06126  7223af731e7e7cf48c29b5c137b0bb34ea04b0d2   \n",
              "3634  RAADCT06217  7223af731e7e7cf48c29b5c137b0bb34ea04b0d2   \n",
              "3635  RAADCT07061  7223af731e7e7cf48c29b5c137b0bb34ea04b0d2   \n",
              "3636  RAADCT01125  7223af731e7e7cf48c29b5c137b0bb34ea04b0d2   \n",
              "3637  RAADCT02515  7223af731e7e7cf48c29b5c137b0bb34ea04b0d2   \n",
              "3638  RAADCT00181  7223af731e7e7cf48c29b5c137b0bb34ea04b0d2   \n",
              "3640  RAADCT04445  7223af731e7e7cf48c29b5c137b0bb34ea04b0d2   \n",
              "3641  RAADCT02582  7223af731e7e7cf48c29b5c137b0bb34ea04b0d2   \n",
              "3651  RAADCT04446  7223af731e7e7cf48c29b5c137b0bb34ea04b0d2   \n",
              "3652  RAADCT05236  7223af731e7e7cf48c29b5c137b0bb34ea04b0d2   \n",
              "3655  RAADCT03908  7223af731e7e7cf48c29b5c137b0bb34ea04b0d2   \n",
              "3657  RAADCT07178  7223af731e7e7cf48c29b5c137b0bb34ea04b0d2   \n",
              "3658  RAADCT00928  7223af731e7e7cf48c29b5c137b0bb34ea04b0d2   \n",
              "3662  RAADCT00748  7223af731e7e7cf48c29b5c137b0bb34ea04b0d2   \n",
              "3665  RAADCT05577  7223af731e7e7cf48c29b5c137b0bb34ea04b0d2   \n",
              "3667  RAADCT07638  7223af731e7e7cf48c29b5c137b0bb34ea04b0d2   \n",
              "3669  RAADCT05004  7223af731e7e7cf48c29b5c137b0bb34ea04b0d2   \n",
              "...           ...                                       ...   \n",
              "4670  RAADCT03875  7223af731e7e7cf48c29b5c137b0bb34ea04b0d2   \n",
              "4681  RAADCT07799  7223af731e7e7cf48c29b5c137b0bb34ea04b0d2   \n",
              "4685  RAADCT07396  7223af731e7e7cf48c29b5c137b0bb34ea04b0d2   \n",
              "4692  RAADCT06384  7223af731e7e7cf48c29b5c137b0bb34ea04b0d2   \n",
              "4693  RAADCT02521  7223af731e7e7cf48c29b5c137b0bb34ea04b0d2   \n",
              "4694  RAADCT04434  7223af731e7e7cf48c29b5c137b0bb34ea04b0d2   \n",
              "4697  RAADCT00004  7223af731e7e7cf48c29b5c137b0bb34ea04b0d2   \n",
              "4700  RAADCT02296  7223af731e7e7cf48c29b5c137b0bb34ea04b0d2   \n",
              "4704  RAADCT05914  7223af731e7e7cf48c29b5c137b0bb34ea04b0d2   \n",
              "4709  RAADCT08753  7223af731e7e7cf48c29b5c137b0bb34ea04b0d2   \n",
              "4711  RAADCT02981  7223af731e7e7cf48c29b5c137b0bb34ea04b0d2   \n",
              "4714  RAADCT01100  7223af731e7e7cf48c29b5c137b0bb34ea04b0d2   \n",
              "4717  RAADCT04633  7223af731e7e7cf48c29b5c137b0bb34ea04b0d2   \n",
              "4718  RAADCT00269  7223af731e7e7cf48c29b5c137b0bb34ea04b0d2   \n",
              "4736  RAADCT00370  7223af731e7e7cf48c29b5c137b0bb34ea04b0d2   \n",
              "4737  RAADCT04664  7223af731e7e7cf48c29b5c137b0bb34ea04b0d2   \n",
              "4738  RAADCT00917  7223af731e7e7cf48c29b5c137b0bb34ea04b0d2   \n",
              "4744  RAADCT02894  7223af731e7e7cf48c29b5c137b0bb34ea04b0d2   \n",
              "4748  RAADCT05457  7223af731e7e7cf48c29b5c137b0bb34ea04b0d2   \n",
              "4751  RAADCT05557  7223af731e7e7cf48c29b5c137b0bb34ea04b0d2   \n",
              "4754  RAADCT00850  7223af731e7e7cf48c29b5c137b0bb34ea04b0d2   \n",
              "4755  RAADCT06549  7223af731e7e7cf48c29b5c137b0bb34ea04b0d2   \n",
              "4756  RAADCT02726  7223af731e7e7cf48c29b5c137b0bb34ea04b0d2   \n",
              "4758  RAADCT05999  7223af731e7e7cf48c29b5c137b0bb34ea04b0d2   \n",
              "4759  RAADCT03037  7223af731e7e7cf48c29b5c137b0bb34ea04b0d2   \n",
              "4767  RAADCT08008  7223af731e7e7cf48c29b5c137b0bb34ea04b0d2   \n",
              "4768  RAADCT01174  7223af731e7e7cf48c29b5c137b0bb34ea04b0d2   \n",
              "4777  RAADCT00731  7223af731e7e7cf48c29b5c137b0bb34ea04b0d2   \n",
              "4778  RAADCT02177  7223af731e7e7cf48c29b5c137b0bb34ea04b0d2   \n",
              "4779  RAADCT07312  7223af731e7e7cf48c29b5c137b0bb34ea04b0d2   \n",
              "\n",
              "                           Race  Age Country                   Indication Sex  \\\n",
              "3602  BLACK OR AFRICAN AMERICAN   64     USA  Stage IV Non-Squamous NSCLC   M   \n",
              "3607                      WHITE   81     USA  Stage IV Non-Squamous NSCLC   F   \n",
              "3612                      WHITE   77     USA  Stage IV Non-Squamous NSCLC   M   \n",
              "3613                      WHITE   65     USA  Stage IV Non-Squamous NSCLC   F   \n",
              "3615                      WHITE   59     USA  Stage IV Non-Squamous NSCLC   M   \n",
              "3616                      WHITE   53     USA  Stage IV Non-Squamous NSCLC   F   \n",
              "3617                      WHITE   62   Other  Stage IV Non-Squamous NSCLC   M   \n",
              "3622                      WHITE   52   Other  Stage IV Non-Squamous NSCLC   M   \n",
              "3623                      WHITE   60   Other  Stage IV Non-Squamous NSCLC   M   \n",
              "3624                      WHITE   63   Other  Stage IV Non-Squamous NSCLC   F   \n",
              "3628                      WHITE   71   Other  Stage IV Non-Squamous NSCLC   M   \n",
              "3630                      WHITE   69   Other  Stage IV Non-Squamous NSCLC   M   \n",
              "3631                      WHITE   74   Other  Stage IV Non-Squamous NSCLC   M   \n",
              "3633                      WHITE   63   Other  Stage IV Non-Squamous NSCLC   F   \n",
              "3634                      WHITE   53   Other  Stage IV Non-Squamous NSCLC   F   \n",
              "3635                      WHITE   54   Other  Stage IV Non-Squamous NSCLC   M   \n",
              "3636                      ASIAN   53   Other  Stage IV Non-Squamous NSCLC   M   \n",
              "3637                      WHITE   60   Other  Stage IV Non-Squamous NSCLC   M   \n",
              "3638                      WHITE   73   Other  Stage IV Non-Squamous NSCLC   M   \n",
              "3640                      WHITE   73   Other  Stage IV Non-Squamous NSCLC   M   \n",
              "3641                    UNKNOWN   71   Other  Stage IV Non-Squamous NSCLC   M   \n",
              "3651                      WHITE   38   Other  Stage IV Non-Squamous NSCLC   M   \n",
              "3652                      WHITE   43     USA  Stage IV Non-Squamous NSCLC   F   \n",
              "3655                      WHITE   68   Other  Stage IV Non-Squamous NSCLC   F   \n",
              "3657                      ASIAN   64   Other  Stage IV Non-Squamous NSCLC   M   \n",
              "3658                      ASIAN   58   Other  Stage IV Non-Squamous NSCLC   F   \n",
              "3662                      WHITE   77   Other  Stage IV Non-Squamous NSCLC   F   \n",
              "3665                      WHITE   54   Other  Stage IV Non-Squamous NSCLC   M   \n",
              "3667                      WHITE   64   Other  Stage IV Non-Squamous NSCLC   M   \n",
              "3669                      WHITE   63   Other  Stage IV Non-Squamous NSCLC   F   \n",
              "...                         ...  ...     ...                          ...  ..   \n",
              "4670                      ASIAN   69     JPN  Stage IV Non-Squamous NSCLC   M   \n",
              "4681                      ASIAN   64     JPN  Stage IV Non-Squamous NSCLC   F   \n",
              "4685                      ASIAN   62     JPN  Stage IV Non-Squamous NSCLC   M   \n",
              "4692                      ASIAN   55     JPN  Stage IV Non-Squamous NSCLC   M   \n",
              "4693                      ASIAN   59     JPN  Stage IV Non-Squamous NSCLC   F   \n",
              "4694                      ASIAN   66     JPN  Stage IV Non-Squamous NSCLC   F   \n",
              "4697                      ASIAN   71     JPN  Stage IV Non-Squamous NSCLC   M   \n",
              "4700                      ASIAN   65     JPN  Stage IV Non-Squamous NSCLC   M   \n",
              "4704                      ASIAN   45     JPN  Stage IV Non-Squamous NSCLC   M   \n",
              "4709                      ASIAN   67     JPN  Stage IV Non-Squamous NSCLC   M   \n",
              "4711                      ASIAN   58     JPN  Stage IV Non-Squamous NSCLC   M   \n",
              "4714                      ASIAN   60     JPN  Stage IV Non-Squamous NSCLC   M   \n",
              "4717                      ASIAN   64     JPN  Stage IV Non-Squamous NSCLC   M   \n",
              "4718                      ASIAN   72     JPN  Stage IV Non-Squamous NSCLC   F   \n",
              "4736                      WHITE   41   Other  Stage IV Non-Squamous NSCLC   F   \n",
              "4737                      WHITE   56   Other  Stage IV Non-Squamous NSCLC   M   \n",
              "4738                      WHITE   57     USA  Stage IV Non-Squamous NSCLC   M   \n",
              "4744                      WHITE   43     USA  Stage IV Non-Squamous NSCLC   M   \n",
              "4748                    UNKNOWN   74     USA  Stage IV Non-Squamous NSCLC   F   \n",
              "4751                      WHITE   67     USA  Stage IV Non-Squamous NSCLC   M   \n",
              "4754                      WHITE   65     USA  Stage IV Non-Squamous NSCLC   M   \n",
              "4755                      WHITE   46     USA  Stage IV Non-Squamous NSCLC   M   \n",
              "4756                      ASIAN   68   Other  Stage IV Non-Squamous NSCLC   F   \n",
              "4758                      WHITE   70     USA  Stage IV Non-Squamous NSCLC   M   \n",
              "4759                      WHITE   74   Other  Stage IV Non-Squamous NSCLC   M   \n",
              "4767                      WHITE   60     DEU  Stage IV Non-Squamous NSCLC   F   \n",
              "4768                      WHITE   52     ESP  Stage IV Non-Squamous NSCLC   M   \n",
              "4777                      WHITE   48   Other  Stage IV Non-Squamous NSCLC   M   \n",
              "4778                      WHITE   48   Other  Stage IV Non-Squamous NSCLC   F   \n",
              "4779                      WHITE   61   Other  Stage IV Non-Squamous NSCLC   F   \n",
              "\n",
              "                   Ethnicity  Treatment  BaselineECOG   ...    DiseaseStage  \\\n",
              "3602            NOT REPORTED      Chemo           1.0   ...            IIIA   \n",
              "3607  NOT HISPANIC OR LATINO  Tecentriq           1.0   ...              IV   \n",
              "3612  NOT HISPANIC OR LATINO  Tecentriq           0.0   ...              IV   \n",
              "3613  NOT HISPANIC OR LATINO  Tecentriq           0.0   ...              IV   \n",
              "3615  NOT HISPANIC OR LATINO  Tecentriq           1.0   ...            IIIB   \n",
              "3616  NOT HISPANIC OR LATINO  Tecentriq           1.0   ...              IV   \n",
              "3617  NOT HISPANIC OR LATINO  Tecentriq           0.0   ...              IV   \n",
              "3622  NOT HISPANIC OR LATINO  Tecentriq           1.0   ...              IV   \n",
              "3623  NOT HISPANIC OR LATINO  Tecentriq           1.0   ...              IV   \n",
              "3624  NOT HISPANIC OR LATINO      Chemo           1.0   ...              IV   \n",
              "3628  NOT HISPANIC OR LATINO  Tecentriq           1.0   ...              IV   \n",
              "3630  NOT HISPANIC OR LATINO      Chemo           0.0   ...              IV   \n",
              "3631  NOT HISPANIC OR LATINO  Tecentriq           1.0   ...              IA   \n",
              "3633  NOT HISPANIC OR LATINO      Chemo           0.0   ...              IV   \n",
              "3634  NOT HISPANIC OR LATINO  Tecentriq           1.0   ...              IV   \n",
              "3635  NOT HISPANIC OR LATINO  Tecentriq           0.0   ...              IV   \n",
              "3636  NOT HISPANIC OR LATINO  Tecentriq           1.0   ...              IV   \n",
              "3637  NOT HISPANIC OR LATINO  Tecentriq           1.0   ...              IV   \n",
              "3638  NOT HISPANIC OR LATINO  Tecentriq           1.0   ...              IV   \n",
              "3640  NOT HISPANIC OR LATINO  Tecentriq           1.0   ...              IV   \n",
              "3641  NOT HISPANIC OR LATINO  Tecentriq           0.0   ...            IIIB   \n",
              "3651  NOT HISPANIC OR LATINO  Tecentriq           1.0   ...              IV   \n",
              "3652  NOT HISPANIC OR LATINO  Tecentriq           1.0   ...            IIIA   \n",
              "3655  NOT HISPANIC OR LATINO      Chemo           1.0   ...              IV   \n",
              "3657  NOT HISPANIC OR LATINO      Chemo           0.0   ...              IV   \n",
              "3658  NOT HISPANIC OR LATINO  Tecentriq           1.0   ...              IV   \n",
              "3662  NOT HISPANIC OR LATINO      Chemo           1.0   ...            IIIA   \n",
              "3665  NOT HISPANIC OR LATINO  Tecentriq           0.0   ...            IIIA   \n",
              "3667  NOT HISPANIC OR LATINO  Tecentriq           1.0   ...              IV   \n",
              "3669  NOT HISPANIC OR LATINO      Chemo           1.0   ...              IV   \n",
              "...                      ...        ...           ...   ...             ...   \n",
              "4670  NOT HISPANIC OR LATINO  Tecentriq           0.0   ...         UNKNOWN   \n",
              "4681  NOT HISPANIC OR LATINO  Tecentriq           1.0   ...              IV   \n",
              "4685  NOT HISPANIC OR LATINO  Tecentriq           1.0   ...              IV   \n",
              "4692  NOT HISPANIC OR LATINO  Tecentriq           1.0   ...              IV   \n",
              "4693  NOT HISPANIC OR LATINO      Chemo           0.0   ...             IIA   \n",
              "4694  NOT HISPANIC OR LATINO  Tecentriq           1.0   ...              IV   \n",
              "4697  NOT HISPANIC OR LATINO      Chemo           1.0   ...              IV   \n",
              "4700  NOT HISPANIC OR LATINO  Tecentriq           1.0   ...         UNKNOWN   \n",
              "4704  NOT HISPANIC OR LATINO  Tecentriq           0.0   ...              IV   \n",
              "4709  NOT HISPANIC OR LATINO  Tecentriq           0.0   ...              IV   \n",
              "4711  NOT HISPANIC OR LATINO  Tecentriq           1.0   ...         UNKNOWN   \n",
              "4714  NOT HISPANIC OR LATINO  Tecentriq           0.0   ...              IV   \n",
              "4717  NOT HISPANIC OR LATINO  Tecentriq           0.0   ...             IIB   \n",
              "4718  NOT HISPANIC OR LATINO  Tecentriq           0.0   ...              IV   \n",
              "4736      HISPANIC OR LATINO  Tecentriq           0.0   ...              IV   \n",
              "4737      HISPANIC OR LATINO  Tecentriq           0.0   ...              IA   \n",
              "4738  NOT HISPANIC OR LATINO  Tecentriq           1.0   ...              IV   \n",
              "4744  NOT HISPANIC OR LATINO  Tecentriq           0.0   ...              IV   \n",
              "4748                 UNKNOWN  Tecentriq           1.0   ...            IIIA   \n",
              "4751  NOT HISPANIC OR LATINO      Chemo           1.0   ...              IV   \n",
              "4754  NOT HISPANIC OR LATINO  Tecentriq           1.0   ...              IV   \n",
              "4755      HISPANIC OR LATINO      Chemo           1.0   ...              IV   \n",
              "4756  NOT HISPANIC OR LATINO  Tecentriq           0.0   ...              IV   \n",
              "4758  NOT HISPANIC OR LATINO  Tecentriq           1.0   ...              IV   \n",
              "4759  NOT HISPANIC OR LATINO  Tecentriq           1.0   ...              IV   \n",
              "4767  NOT HISPANIC OR LATINO  Tecentriq           1.0   ...              IV   \n",
              "4768      HISPANIC OR LATINO  Tecentriq           0.0   ...            IIIA   \n",
              "4777            NOT REPORTED  Tecentriq           0.0   ...              IV   \n",
              "4778  NOT HISPANIC OR LATINO  Tecentriq           0.0   ...              IV   \n",
              "4779  NOT HISPANIC OR LATINO  Tecentriq           1.0   ...            IIIA   \n",
              "\n",
              "              EGFR                                    Histology          KRAS  \\\n",
              "3602  NOT DETECTED                               Adenocarcinoma      NOT DONE   \n",
              "3607  NOT DETECTED                               Adenocarcinoma      NOT DONE   \n",
              "3612  NOT DETECTED                               Adenocarcinoma      NOT DONE   \n",
              "3613  NOT DETECTED                               Adenocarcinoma      NOT DONE   \n",
              "3615  NOT DETECTED                               Adenocarcinoma      NOT DONE   \n",
              "3616  NOT DETECTED                               Adenocarcinoma      NOT DONE   \n",
              "3617  NOT DETECTED                               Adenocarcinoma  NOT DETECTED   \n",
              "3622  NOT DETECTED                               Adenocarcinoma  NOT DETECTED   \n",
              "3623  NOT DETECTED                               Adenocarcinoma  NOT DETECTED   \n",
              "3624  NOT DETECTED                               Adenocarcinoma  NOT DETECTED   \n",
              "3628      DETECTED                               Adenocarcinoma  NOT DETECTED   \n",
              "3630      DETECTED                               Adenocarcinoma      NOT DONE   \n",
              "3631  NOT DETECTED                               Adenocarcinoma      NOT DONE   \n",
              "3633      DETECTED                               Adenocarcinoma      NOT DONE   \n",
              "3634  NOT DETECTED                               Adenocarcinoma  NOT DETECTED   \n",
              "3635  NOT DETECTED                               Adenocarcinoma      NOT DONE   \n",
              "3636      DETECTED                               Adenocarcinoma      NOT DONE   \n",
              "3637  NOT DETECTED                               Adenocarcinoma      NOT DONE   \n",
              "3638  NOT DETECTED                               Adenocarcinoma      NOT DONE   \n",
              "3640  NOT DETECTED                               Adenocarcinoma  NOT DETECTED   \n",
              "3641  NOT DETECTED                               Adenocarcinoma      NOT DONE   \n",
              "3651  NOT DETECTED                               Adenocarcinoma       PRESENT   \n",
              "3652  NOT DETECTED                               Adenocarcinoma      NOT DONE   \n",
              "3655  NOT DETECTED  Adenocarcinoma with neuroendocrine features  NOT DETECTED   \n",
              "3657      DETECTED                               Adenocarcinoma       PRESENT   \n",
              "3658  NOT DETECTED                               Adenocarcinoma  NOT DETECTED   \n",
              "3662  NOT DETECTED                               Adenocarcinoma      NOT DONE   \n",
              "3665  NOT DETECTED                               Adenocarcinoma      NOT DONE   \n",
              "3667  NOT DETECTED                               Adenocarcinoma       PRESENT   \n",
              "3669  NOT DETECTED                               Adenocarcinoma       PRESENT   \n",
              "...            ...                                          ...           ...   \n",
              "4670      DETECTED                               Adenocarcinoma      NOT DONE   \n",
              "4681      DETECTED                               Adenocarcinoma      NOT DONE   \n",
              "4685  NOT DETECTED                               Adenocarcinoma      NOT DONE   \n",
              "4692  NOT DETECTED                               Adenocarcinoma      NOT DONE   \n",
              "4693      DETECTED                               Adenocarcinoma      NOT DONE   \n",
              "4694      DETECTED                               Adenocarcinoma      NOT DONE   \n",
              "4697  NOT DETECTED                               Adenocarcinoma      NOT DONE   \n",
              "4700      DETECTED                               Adenocarcinoma      NOT DONE   \n",
              "4704      DETECTED                               Adenocarcinoma      NOT DONE   \n",
              "4709  NOT DETECTED                               Adenocarcinoma      NOT DONE   \n",
              "4711  NOT DETECTED                               Adenocarcinoma      NOT DONE   \n",
              "4714      NOT DONE                               Adenocarcinoma      NOT DONE   \n",
              "4717      DETECTED                               Adenocarcinoma      NOT DONE   \n",
              "4718  NOT DETECTED                               Adenocarcinoma      NOT DONE   \n",
              "4736      DETECTED                               Adenocarcinoma      NOT DONE   \n",
              "4737      DETECTED                               Adenocarcinoma            NE   \n",
              "4738  NOT DETECTED                               Adenocarcinoma      NOT DONE   \n",
              "4744  NOT DETECTED  Adenocarcinoma with neuroendocrine features  NOT DETECTED   \n",
              "4748  NOT DETECTED                               Adenocarcinoma      NOT DONE   \n",
              "4751  NOT DETECTED                               Adenocarcinoma      NOT DONE   \n",
              "4754  NOT DETECTED                               Adenocarcinoma      NOT DONE   \n",
              "4755  NOT DETECTED                               Adenocarcinoma  NOT DETECTED   \n",
              "4756  NOT DETECTED                               Adenocarcinoma      NOT DONE   \n",
              "4758  NOT DETECTED                               Adenocarcinoma      NOT DONE   \n",
              "4759      NOT DONE                               Adenocarcinoma      NOT DONE   \n",
              "4767  NOT DETECTED                               Adenocarcinoma  NOT DETECTED   \n",
              "4768  NOT DETECTED                               Adenocarcinoma      NOT DONE   \n",
              "4777  NOT DETECTED                               Adenocarcinoma       PRESENT   \n",
              "4778  NOT DETECTED                               Adenocarcinoma       PRESENT   \n",
              "4779  NOT DETECTED                               Adenocarcinoma      NOT DONE   \n",
              "\n",
              "     PriorChemo   SmokeHx      Status    TreatmentStartDate  \\\n",
              "3602          Y  Previous  METASTATIC  2015-09-18T08:35:00Z   \n",
              "3607          Y  Previous  METASTATIC  2015-08-07T08:41:00Z   \n",
              "3612          Y  Previous  METASTATIC  2016-07-21T08:58:00Z   \n",
              "3613          Y  Previous  METASTATIC  2016-09-16T11:07:00Z   \n",
              "3615          Y  Previous  METASTATIC  2015-04-03T10:21:00Z   \n",
              "3616          Y  Previous  METASTATIC  2016-04-07T09:30:00Z   \n",
              "3617          Y  Previous  METASTATIC  2015-10-27T10:35:00Z   \n",
              "3622          Y     Never  METASTATIC  2016-01-06T09:13:00Z   \n",
              "3623          Y   Current  METASTATIC  2016-01-08T09:07:00Z   \n",
              "3624          Y  Previous  METASTATIC  2016-03-31T10:35:00Z   \n",
              "3628          Y  Previous  METASTATIC  2016-08-01T10:35:00Z   \n",
              "3630          Y  Previous  METASTATIC  2016-03-22T09:40:00Z   \n",
              "3631          Y  Previous  METASTATIC  2016-04-05T10:05:00Z   \n",
              "3633          Y  Previous  METASTATIC  2016-08-31T10:15:00Z   \n",
              "3634          Y   Current  METASTATIC  2016-10-12T09:30:00Z   \n",
              "3635          Y   Current  METASTATIC  2016-10-25T09:20:00Z   \n",
              "3636          Y     Never  METASTATIC  2015-10-08T09:40:00Z   \n",
              "3637          Y   Current  METASTATIC  2015-11-16T10:30:00Z   \n",
              "3638          Y  Previous  METASTATIC  2015-11-25T09:55:00Z   \n",
              "3640          Y  Previous  METASTATIC  2016-07-21T09:32:00Z   \n",
              "3641          Y  Previous  METASTATIC  2016-10-06T09:20:00Z   \n",
              "3651          Y  Previous  METASTATIC  2016-12-05T10:40:00Z   \n",
              "3652          Y  Previous  METASTATIC  2015-06-08T09:05:00Z   \n",
              "3655          Y  Previous  METASTATIC  2016-03-17T10:15:00Z   \n",
              "3657          Y     Never  METASTATIC  2016-11-24T10:00:00Z   \n",
              "3658          Y     Never  METASTATIC  2016-12-01T10:20:00Z   \n",
              "3662          Y   Current  METASTATIC  2016-04-19T10:15:00Z   \n",
              "3665          Y  Previous  METASTATIC  2017-01-04T10:15:00Z   \n",
              "3667          Y  Previous  METASTATIC  2015-10-07T12:55:00Z   \n",
              "3669          Y  Previous  METASTATIC  2016-03-23T12:00:00Z   \n",
              "...         ...       ...         ...                   ...   \n",
              "4670          Y     Never  METASTATIC  2016-01-21T10:43:00Z   \n",
              "4681          Y  Previous  METASTATIC  2015-09-17T11:10:00Z   \n",
              "4685          Y  Previous  METASTATIC  2016-01-26T12:40:00Z   \n",
              "4692          Y  Previous  METASTATIC  2015-12-02T11:21:00Z   \n",
              "4693          Y  Previous  METASTATIC  2015-12-09T11:11:00Z   \n",
              "4694          Y  Previous  METASTATIC  2016-01-13T12:24:00Z   \n",
              "4697          Y  Previous  METASTATIC  2016-07-05T11:02:00Z   \n",
              "4700          Y     Never  METASTATIC  2016-09-28T10:59:00Z   \n",
              "4704          Y     Never  METASTATIC  2016-04-21T11:00:00Z   \n",
              "4709          Y  Previous  METASTATIC  2016-02-06T11:03:00Z   \n",
              "4711          Y   Current  METASTATIC  2016-08-10T11:10:00Z   \n",
              "4714          Y  Previous  METASTATIC  2016-04-21T14:15:00Z   \n",
              "4717          Y  Previous  METASTATIC  2016-08-10T13:13:00Z   \n",
              "4718          Y  Previous  METASTATIC  2016-11-10T13:15:00Z   \n",
              "4736          Y     Never  METASTATIC  2016-11-04T12:20:00Z   \n",
              "4737          Y     Never  METASTATIC  2016-12-01T14:00:00Z   \n",
              "4738          Y  Previous  METASTATIC  2016-05-09T15:05:00Z   \n",
              "4744          Y   Current  METASTATIC  2016-08-22T09:59:00Z   \n",
              "4748          Y   Current  METASTATIC  2016-12-06T10:41:00Z   \n",
              "4751          Y  Previous  METASTATIC  2016-08-09T10:55:00Z   \n",
              "4754          Y  Previous  METASTATIC  2016-10-27T09:45:00Z   \n",
              "4755          Y  Previous  METASTATIC  2016-12-23T09:45:00Z   \n",
              "4756          Y     Never  METASTATIC  2016-03-03T11:25:00Z   \n",
              "4758          Y  Previous  METASTATIC  2016-08-31T12:57:00Z   \n",
              "4759          Y     Never  METASTATIC  2016-08-26T10:30:00Z   \n",
              "4767          Y   Current  METASTATIC  2016-10-07T15:00:00Z   \n",
              "4768          Y   Current  METASTATIC  2016-10-11T12:00:00Z   \n",
              "4777          Y   Current  METASTATIC  2016-11-30T09:15:00Z   \n",
              "4778          Y   Current  METASTATIC  2016-10-12T10:00:00Z   \n",
              "4779          Y  Previous  METASTATIC  2016-10-26T09:50:00Z   \n",
              "\n",
              "     ObservationStartDate Respond  \n",
              "3602           2015-09-16       0  \n",
              "3607           2015-08-06       0  \n",
              "3612           2016-07-20       0  \n",
              "3613           2016-09-14       0  \n",
              "3615           2015-03-31       0  \n",
              "3616           2016-04-04       0  \n",
              "3617           2015-10-26       0  \n",
              "3622           2016-01-05       0  \n",
              "3623           2016-01-06       1  \n",
              "3624           2016-03-30       0  \n",
              "3628           2016-07-29       0  \n",
              "3630           2016-03-21       0  \n",
              "3631           2016-04-04       0  \n",
              "3633           2016-08-30       0  \n",
              "3634           2016-10-11       1  \n",
              "3635           2016-10-21       1  \n",
              "3636           2015-10-06       1  \n",
              "3637           2015-11-13       0  \n",
              "3638           2015-11-24       1  \n",
              "3640           2016-07-19       0  \n",
              "3641           2016-10-05       1  \n",
              "3651           2016-12-03       0  \n",
              "3652           2015-06-03       0  \n",
              "3655           2016-03-17       1  \n",
              "3657           2016-11-22       0  \n",
              "3658           2016-12-01       0  \n",
              "3662           2016-04-15       1  \n",
              "3665           2016-12-29       1  \n",
              "3667           2015-10-06       0  \n",
              "3669           2016-03-21       1  \n",
              "...                   ...     ...  \n",
              "4670           2016-01-19       0  \n",
              "4681           2015-09-16       0  \n",
              "4685           2016-01-25       1  \n",
              "4692           2015-12-01       1  \n",
              "4693           2015-12-07       1  \n",
              "4694           2016-01-12       0  \n",
              "4697           2016-07-01       1  \n",
              "4700           2016-09-27       0  \n",
              "4704           2016-04-20       1  \n",
              "4709           2016-02-05       0  \n",
              "4711           2016-08-09       0  \n",
              "4714           2016-04-20       1  \n",
              "4717           2016-08-09       1  \n",
              "4718           2016-11-09       0  \n",
              "4736           2016-11-02       1  \n",
              "4737           2016-11-30       0  \n",
              "4738           2016-05-05       1  \n",
              "4744           2016-08-18       0  \n",
              "4748           2016-12-02       0  \n",
              "4751           2016-08-05       0  \n",
              "4754           2016-10-14       1  \n",
              "4755           2016-12-22       1  \n",
              "4756           2016-03-02       0  \n",
              "4758           2016-08-29       0  \n",
              "4759           2016-08-25       0  \n",
              "4767           2016-10-07       0  \n",
              "4768           2016-10-10       0  \n",
              "4777           2016-11-29       1  \n",
              "4778           2016-10-10       1  \n",
              "4779           2016-10-24       1  \n",
              "\n",
              "[342 rows x 23 columns]"
            ]
          },
          "metadata": {
            "tags": []
          },
          "execution_count": 10
        }
      ]
    },
    {
      "metadata": {
        "id": "JFXl9iO21q-Y",
        "colab_type": "code",
        "colab": {
          "base_uri": "https://localhost:8080/",
          "height": 204
        },
        "outputId": "c27e310d-9db0-449b-ff6e-6a8556df485e"
      },
      "cell_type": "code",
      "source": [
        " #remove all columns with at least one missing value\n",
        "columns_with_na_dropped = train_bsl.dropna(axis=1)\n",
        "columns_with_na_dropped.head()"
      ],
      "execution_count": 11,
      "outputs": [
        {
          "output_type": "execute_result",
          "data": {
            "text/html": [
              "<div>\n",
              "<style scoped>\n",
              "    .dataframe tbody tr th:only-of-type {\n",
              "        vertical-align: middle;\n",
              "    }\n",
              "\n",
              "    .dataframe tbody tr th {\n",
              "        vertical-align: top;\n",
              "    }\n",
              "\n",
              "    .dataframe thead th {\n",
              "        text-align: right;\n",
              "    }\n",
              "</style>\n",
              "<table border=\"1\" class=\"dataframe\">\n",
              "  <thead>\n",
              "    <tr style=\"text-align: right;\">\n",
              "      <th></th>\n",
              "      <th>PatientID</th>\n",
              "      <th>Study</th>\n",
              "      <th>Race</th>\n",
              "      <th>Age</th>\n",
              "      <th>Country</th>\n",
              "      <th>Indication</th>\n",
              "      <th>Sex</th>\n",
              "      <th>Ethnicity</th>\n",
              "      <th>Treatment</th>\n",
              "      <th>Respond</th>\n",
              "    </tr>\n",
              "  </thead>\n",
              "  <tbody>\n",
              "    <tr>\n",
              "      <th>0</th>\n",
              "      <td>RAADCT00179</td>\n",
              "      <td>4cacaa6bf00bd99f344f512c44f17717051aa92d</td>\n",
              "      <td>WHITE</td>\n",
              "      <td>69</td>\n",
              "      <td>USA</td>\n",
              "      <td>Advanced or metastatic NSCLC</td>\n",
              "      <td>M</td>\n",
              "      <td>NOT HISPANIC OR LATINO</td>\n",
              "      <td>Tecentriq</td>\n",
              "      <td>0</td>\n",
              "    </tr>\n",
              "    <tr>\n",
              "      <th>1</th>\n",
              "      <td>RAADCT06221</td>\n",
              "      <td>4cacaa6bf00bd99f344f512c44f17717051aa92d</td>\n",
              "      <td>WHITE</td>\n",
              "      <td>64</td>\n",
              "      <td>USA</td>\n",
              "      <td>Advanced or metastatic NSCLC</td>\n",
              "      <td>F</td>\n",
              "      <td>NOT HISPANIC OR LATINO</td>\n",
              "      <td>Tecentriq</td>\n",
              "      <td>0</td>\n",
              "    </tr>\n",
              "    <tr>\n",
              "      <th>2</th>\n",
              "      <td>RAADCT02892</td>\n",
              "      <td>4cacaa6bf00bd99f344f512c44f17717051aa92d</td>\n",
              "      <td>WHITE</td>\n",
              "      <td>76</td>\n",
              "      <td>USA</td>\n",
              "      <td>Advanced or metastatic NSCLC</td>\n",
              "      <td>M</td>\n",
              "      <td>NOT HISPANIC OR LATINO</td>\n",
              "      <td>Tecentriq</td>\n",
              "      <td>0</td>\n",
              "    </tr>\n",
              "    <tr>\n",
              "      <th>3</th>\n",
              "      <td>RAADCT06937</td>\n",
              "      <td>4cacaa6bf00bd99f344f512c44f17717051aa92d</td>\n",
              "      <td>WHITE</td>\n",
              "      <td>54</td>\n",
              "      <td>USA</td>\n",
              "      <td>Advanced or metastatic NSCLC</td>\n",
              "      <td>F</td>\n",
              "      <td>NOT HISPANIC OR LATINO</td>\n",
              "      <td>Tecentriq</td>\n",
              "      <td>0</td>\n",
              "    </tr>\n",
              "    <tr>\n",
              "      <th>4</th>\n",
              "      <td>RAADCT05885</td>\n",
              "      <td>4cacaa6bf00bd99f344f512c44f17717051aa92d</td>\n",
              "      <td>WHITE</td>\n",
              "      <td>67</td>\n",
              "      <td>USA</td>\n",
              "      <td>Advanced or metastatic NSCLC</td>\n",
              "      <td>M</td>\n",
              "      <td>NOT HISPANIC OR LATINO</td>\n",
              "      <td>Tecentriq</td>\n",
              "      <td>0</td>\n",
              "    </tr>\n",
              "  </tbody>\n",
              "</table>\n",
              "</div>"
            ],
            "text/plain": [
              "     PatientID                                     Study   Race  Age Country  \\\n",
              "0  RAADCT00179  4cacaa6bf00bd99f344f512c44f17717051aa92d  WHITE   69     USA   \n",
              "1  RAADCT06221  4cacaa6bf00bd99f344f512c44f17717051aa92d  WHITE   64     USA   \n",
              "2  RAADCT02892  4cacaa6bf00bd99f344f512c44f17717051aa92d  WHITE   76     USA   \n",
              "3  RAADCT06937  4cacaa6bf00bd99f344f512c44f17717051aa92d  WHITE   54     USA   \n",
              "4  RAADCT05885  4cacaa6bf00bd99f344f512c44f17717051aa92d  WHITE   67     USA   \n",
              "\n",
              "                     Indication Sex               Ethnicity  Treatment  \\\n",
              "0  Advanced or metastatic NSCLC   M  NOT HISPANIC OR LATINO  Tecentriq   \n",
              "1  Advanced or metastatic NSCLC   F  NOT HISPANIC OR LATINO  Tecentriq   \n",
              "2  Advanced or metastatic NSCLC   M  NOT HISPANIC OR LATINO  Tecentriq   \n",
              "3  Advanced or metastatic NSCLC   F  NOT HISPANIC OR LATINO  Tecentriq   \n",
              "4  Advanced or metastatic NSCLC   M  NOT HISPANIC OR LATINO  Tecentriq   \n",
              "\n",
              "   Respond  \n",
              "0        0  \n",
              "1        0  \n",
              "2        0  \n",
              "3        0  \n",
              "4        0  "
            ]
          },
          "metadata": {
            "tags": []
          },
          "execution_count": 11
        }
      ]
    },
    {
      "metadata": {
        "id": "Xf_tn4zD11Tq",
        "colab_type": "code",
        "colab": {
          "base_uri": "https://localhost:8080/",
          "height": 68
        },
        "outputId": "7108672c-eb6c-40ba-8da0-f4a5bfd7b306"
      },
      "cell_type": "code",
      "source": [
        "# just how much data did we lose?\n",
        "print(\"Columns in original dataset: %d \\n\" % train_bsl.shape[1])\n",
        "print(\"Columns with na's dropped: %d\" % columns_with_na_dropped.shape[1])"
      ],
      "execution_count": 12,
      "outputs": [
        {
          "output_type": "stream",
          "text": [
            "Columns in original dataset: 23 \n",
            "\n",
            "Columns with na's dropped: 10\n"
          ],
          "name": "stdout"
        }
      ]
    },
    {
      "metadata": {
        "id": "1-YqzJQi2DuX",
        "colab_type": "code",
        "colab": {
          "base_uri": "https://localhost:8080/",
          "height": 479
        },
        "outputId": "327e49d3-e662-4596-b7a3-4dfc8fa3aa06"
      },
      "cell_type": "code",
      "source": [
        "# get a small subset of the  dataset\n",
        "subset_train_bsl = train_bsl.loc[:, 'PatientID':'DiseaseStage'].head()\n",
        "subset_train_bsl"
      ],
      "execution_count": 13,
      "outputs": [
        {
          "output_type": "execute_result",
          "data": {
            "text/html": [
              "<div>\n",
              "<style scoped>\n",
              "    .dataframe tbody tr th:only-of-type {\n",
              "        vertical-align: middle;\n",
              "    }\n",
              "\n",
              "    .dataframe tbody tr th {\n",
              "        vertical-align: top;\n",
              "    }\n",
              "\n",
              "    .dataframe thead th {\n",
              "        text-align: right;\n",
              "    }\n",
              "</style>\n",
              "<table border=\"1\" class=\"dataframe\">\n",
              "  <thead>\n",
              "    <tr style=\"text-align: right;\">\n",
              "      <th></th>\n",
              "      <th>PatientID</th>\n",
              "      <th>Study</th>\n",
              "      <th>Race</th>\n",
              "      <th>Age</th>\n",
              "      <th>Country</th>\n",
              "      <th>Indication</th>\n",
              "      <th>Sex</th>\n",
              "      <th>Ethnicity</th>\n",
              "      <th>Treatment</th>\n",
              "      <th>BaselineECOG</th>\n",
              "      <th>PDL1IC</th>\n",
              "      <th>PDL1TC</th>\n",
              "      <th>ALK</th>\n",
              "      <th>DiseaseStage</th>\n",
              "    </tr>\n",
              "  </thead>\n",
              "  <tbody>\n",
              "    <tr>\n",
              "      <th>0</th>\n",
              "      <td>RAADCT00179</td>\n",
              "      <td>4cacaa6bf00bd99f344f512c44f17717051aa92d</td>\n",
              "      <td>WHITE</td>\n",
              "      <td>69</td>\n",
              "      <td>USA</td>\n",
              "      <td>Advanced or metastatic NSCLC</td>\n",
              "      <td>M</td>\n",
              "      <td>NOT HISPANIC OR LATINO</td>\n",
              "      <td>Tecentriq</td>\n",
              "      <td>1.0</td>\n",
              "      <td>NaN</td>\n",
              "      <td>2.0</td>\n",
              "      <td>NaN</td>\n",
              "      <td>IIIB</td>\n",
              "    </tr>\n",
              "    <tr>\n",
              "      <th>1</th>\n",
              "      <td>RAADCT06221</td>\n",
              "      <td>4cacaa6bf00bd99f344f512c44f17717051aa92d</td>\n",
              "      <td>WHITE</td>\n",
              "      <td>64</td>\n",
              "      <td>USA</td>\n",
              "      <td>Advanced or metastatic NSCLC</td>\n",
              "      <td>F</td>\n",
              "      <td>NOT HISPANIC OR LATINO</td>\n",
              "      <td>Tecentriq</td>\n",
              "      <td>1.0</td>\n",
              "      <td>NaN</td>\n",
              "      <td>3.0</td>\n",
              "      <td>NaN</td>\n",
              "      <td>IV</td>\n",
              "    </tr>\n",
              "    <tr>\n",
              "      <th>2</th>\n",
              "      <td>RAADCT02892</td>\n",
              "      <td>4cacaa6bf00bd99f344f512c44f17717051aa92d</td>\n",
              "      <td>WHITE</td>\n",
              "      <td>76</td>\n",
              "      <td>USA</td>\n",
              "      <td>Advanced or metastatic NSCLC</td>\n",
              "      <td>M</td>\n",
              "      <td>NOT HISPANIC OR LATINO</td>\n",
              "      <td>Tecentriq</td>\n",
              "      <td>1.0</td>\n",
              "      <td>NaN</td>\n",
              "      <td>1.0</td>\n",
              "      <td>NaN</td>\n",
              "      <td>IV</td>\n",
              "    </tr>\n",
              "    <tr>\n",
              "      <th>3</th>\n",
              "      <td>RAADCT06937</td>\n",
              "      <td>4cacaa6bf00bd99f344f512c44f17717051aa92d</td>\n",
              "      <td>WHITE</td>\n",
              "      <td>54</td>\n",
              "      <td>USA</td>\n",
              "      <td>Advanced or metastatic NSCLC</td>\n",
              "      <td>F</td>\n",
              "      <td>NOT HISPANIC OR LATINO</td>\n",
              "      <td>Tecentriq</td>\n",
              "      <td>1.0</td>\n",
              "      <td>NaN</td>\n",
              "      <td>1.0</td>\n",
              "      <td>NaN</td>\n",
              "      <td>IV</td>\n",
              "    </tr>\n",
              "    <tr>\n",
              "      <th>4</th>\n",
              "      <td>RAADCT05885</td>\n",
              "      <td>4cacaa6bf00bd99f344f512c44f17717051aa92d</td>\n",
              "      <td>WHITE</td>\n",
              "      <td>67</td>\n",
              "      <td>USA</td>\n",
              "      <td>Advanced or metastatic NSCLC</td>\n",
              "      <td>M</td>\n",
              "      <td>NOT HISPANIC OR LATINO</td>\n",
              "      <td>Tecentriq</td>\n",
              "      <td>1.0</td>\n",
              "      <td>NaN</td>\n",
              "      <td>2.0</td>\n",
              "      <td>NaN</td>\n",
              "      <td>IV</td>\n",
              "    </tr>\n",
              "  </tbody>\n",
              "</table>\n",
              "</div>"
            ],
            "text/plain": [
              "     PatientID                                     Study   Race  Age Country  \\\n",
              "0  RAADCT00179  4cacaa6bf00bd99f344f512c44f17717051aa92d  WHITE   69     USA   \n",
              "1  RAADCT06221  4cacaa6bf00bd99f344f512c44f17717051aa92d  WHITE   64     USA   \n",
              "2  RAADCT02892  4cacaa6bf00bd99f344f512c44f17717051aa92d  WHITE   76     USA   \n",
              "3  RAADCT06937  4cacaa6bf00bd99f344f512c44f17717051aa92d  WHITE   54     USA   \n",
              "4  RAADCT05885  4cacaa6bf00bd99f344f512c44f17717051aa92d  WHITE   67     USA   \n",
              "\n",
              "                     Indication Sex               Ethnicity  Treatment  \\\n",
              "0  Advanced or metastatic NSCLC   M  NOT HISPANIC OR LATINO  Tecentriq   \n",
              "1  Advanced or metastatic NSCLC   F  NOT HISPANIC OR LATINO  Tecentriq   \n",
              "2  Advanced or metastatic NSCLC   M  NOT HISPANIC OR LATINO  Tecentriq   \n",
              "3  Advanced or metastatic NSCLC   F  NOT HISPANIC OR LATINO  Tecentriq   \n",
              "4  Advanced or metastatic NSCLC   M  NOT HISPANIC OR LATINO  Tecentriq   \n",
              "\n",
              "   BaselineECOG  PDL1IC  PDL1TC  ALK DiseaseStage  \n",
              "0           1.0     NaN     2.0  NaN         IIIB  \n",
              "1           1.0     NaN     3.0  NaN           IV  \n",
              "2           1.0     NaN     1.0  NaN           IV  \n",
              "3           1.0     NaN     1.0  NaN           IV  \n",
              "4           1.0     NaN     2.0  NaN           IV  "
            ]
          },
          "metadata": {
            "tags": []
          },
          "execution_count": 13
        }
      ]
    },
    {
      "metadata": {
        "id": "g8OcSCBS2MX3",
        "colab_type": "code",
        "colab": {
          "base_uri": "https://localhost:8080/",
          "height": 479
        },
        "outputId": "39209649-71e6-4b88-aa23-b93c89c0066e"
      },
      "cell_type": "code",
      "source": [
        "# replace all NA's with 0\n",
        "subset_train_bsl.fillna(0)"
      ],
      "execution_count": 14,
      "outputs": [
        {
          "output_type": "execute_result",
          "data": {
            "text/html": [
              "<div>\n",
              "<style scoped>\n",
              "    .dataframe tbody tr th:only-of-type {\n",
              "        vertical-align: middle;\n",
              "    }\n",
              "\n",
              "    .dataframe tbody tr th {\n",
              "        vertical-align: top;\n",
              "    }\n",
              "\n",
              "    .dataframe thead th {\n",
              "        text-align: right;\n",
              "    }\n",
              "</style>\n",
              "<table border=\"1\" class=\"dataframe\">\n",
              "  <thead>\n",
              "    <tr style=\"text-align: right;\">\n",
              "      <th></th>\n",
              "      <th>PatientID</th>\n",
              "      <th>Study</th>\n",
              "      <th>Race</th>\n",
              "      <th>Age</th>\n",
              "      <th>Country</th>\n",
              "      <th>Indication</th>\n",
              "      <th>Sex</th>\n",
              "      <th>Ethnicity</th>\n",
              "      <th>Treatment</th>\n",
              "      <th>BaselineECOG</th>\n",
              "      <th>PDL1IC</th>\n",
              "      <th>PDL1TC</th>\n",
              "      <th>ALK</th>\n",
              "      <th>DiseaseStage</th>\n",
              "    </tr>\n",
              "  </thead>\n",
              "  <tbody>\n",
              "    <tr>\n",
              "      <th>0</th>\n",
              "      <td>RAADCT00179</td>\n",
              "      <td>4cacaa6bf00bd99f344f512c44f17717051aa92d</td>\n",
              "      <td>WHITE</td>\n",
              "      <td>69</td>\n",
              "      <td>USA</td>\n",
              "      <td>Advanced or metastatic NSCLC</td>\n",
              "      <td>M</td>\n",
              "      <td>NOT HISPANIC OR LATINO</td>\n",
              "      <td>Tecentriq</td>\n",
              "      <td>1.0</td>\n",
              "      <td>0.0</td>\n",
              "      <td>2.0</td>\n",
              "      <td>0</td>\n",
              "      <td>IIIB</td>\n",
              "    </tr>\n",
              "    <tr>\n",
              "      <th>1</th>\n",
              "      <td>RAADCT06221</td>\n",
              "      <td>4cacaa6bf00bd99f344f512c44f17717051aa92d</td>\n",
              "      <td>WHITE</td>\n",
              "      <td>64</td>\n",
              "      <td>USA</td>\n",
              "      <td>Advanced or metastatic NSCLC</td>\n",
              "      <td>F</td>\n",
              "      <td>NOT HISPANIC OR LATINO</td>\n",
              "      <td>Tecentriq</td>\n",
              "      <td>1.0</td>\n",
              "      <td>0.0</td>\n",
              "      <td>3.0</td>\n",
              "      <td>0</td>\n",
              "      <td>IV</td>\n",
              "    </tr>\n",
              "    <tr>\n",
              "      <th>2</th>\n",
              "      <td>RAADCT02892</td>\n",
              "      <td>4cacaa6bf00bd99f344f512c44f17717051aa92d</td>\n",
              "      <td>WHITE</td>\n",
              "      <td>76</td>\n",
              "      <td>USA</td>\n",
              "      <td>Advanced or metastatic NSCLC</td>\n",
              "      <td>M</td>\n",
              "      <td>NOT HISPANIC OR LATINO</td>\n",
              "      <td>Tecentriq</td>\n",
              "      <td>1.0</td>\n",
              "      <td>0.0</td>\n",
              "      <td>1.0</td>\n",
              "      <td>0</td>\n",
              "      <td>IV</td>\n",
              "    </tr>\n",
              "    <tr>\n",
              "      <th>3</th>\n",
              "      <td>RAADCT06937</td>\n",
              "      <td>4cacaa6bf00bd99f344f512c44f17717051aa92d</td>\n",
              "      <td>WHITE</td>\n",
              "      <td>54</td>\n",
              "      <td>USA</td>\n",
              "      <td>Advanced or metastatic NSCLC</td>\n",
              "      <td>F</td>\n",
              "      <td>NOT HISPANIC OR LATINO</td>\n",
              "      <td>Tecentriq</td>\n",
              "      <td>1.0</td>\n",
              "      <td>0.0</td>\n",
              "      <td>1.0</td>\n",
              "      <td>0</td>\n",
              "      <td>IV</td>\n",
              "    </tr>\n",
              "    <tr>\n",
              "      <th>4</th>\n",
              "      <td>RAADCT05885</td>\n",
              "      <td>4cacaa6bf00bd99f344f512c44f17717051aa92d</td>\n",
              "      <td>WHITE</td>\n",
              "      <td>67</td>\n",
              "      <td>USA</td>\n",
              "      <td>Advanced or metastatic NSCLC</td>\n",
              "      <td>M</td>\n",
              "      <td>NOT HISPANIC OR LATINO</td>\n",
              "      <td>Tecentriq</td>\n",
              "      <td>1.0</td>\n",
              "      <td>0.0</td>\n",
              "      <td>2.0</td>\n",
              "      <td>0</td>\n",
              "      <td>IV</td>\n",
              "    </tr>\n",
              "  </tbody>\n",
              "</table>\n",
              "</div>"
            ],
            "text/plain": [
              "     PatientID                                     Study   Race  Age Country  \\\n",
              "0  RAADCT00179  4cacaa6bf00bd99f344f512c44f17717051aa92d  WHITE   69     USA   \n",
              "1  RAADCT06221  4cacaa6bf00bd99f344f512c44f17717051aa92d  WHITE   64     USA   \n",
              "2  RAADCT02892  4cacaa6bf00bd99f344f512c44f17717051aa92d  WHITE   76     USA   \n",
              "3  RAADCT06937  4cacaa6bf00bd99f344f512c44f17717051aa92d  WHITE   54     USA   \n",
              "4  RAADCT05885  4cacaa6bf00bd99f344f512c44f17717051aa92d  WHITE   67     USA   \n",
              "\n",
              "                     Indication Sex               Ethnicity  Treatment  \\\n",
              "0  Advanced or metastatic NSCLC   M  NOT HISPANIC OR LATINO  Tecentriq   \n",
              "1  Advanced or metastatic NSCLC   F  NOT HISPANIC OR LATINO  Tecentriq   \n",
              "2  Advanced or metastatic NSCLC   M  NOT HISPANIC OR LATINO  Tecentriq   \n",
              "3  Advanced or metastatic NSCLC   F  NOT HISPANIC OR LATINO  Tecentriq   \n",
              "4  Advanced or metastatic NSCLC   M  NOT HISPANIC OR LATINO  Tecentriq   \n",
              "\n",
              "   BaselineECOG  PDL1IC  PDL1TC  ALK DiseaseStage  \n",
              "0           1.0     0.0     2.0    0         IIIB  \n",
              "1           1.0     0.0     3.0    0           IV  \n",
              "2           1.0     0.0     1.0    0           IV  \n",
              "3           1.0     0.0     1.0    0           IV  \n",
              "4           1.0     0.0     2.0    0           IV  "
            ]
          },
          "metadata": {
            "tags": []
          },
          "execution_count": 14
        }
      ]
    },
    {
      "metadata": {
        "id": "MRS0kE4U2TCG",
        "colab_type": "code",
        "colab": {
          "base_uri": "https://localhost:8080/",
          "height": 479
        },
        "outputId": "a77f9a1a-d417-43e8-c7b3-1a94a4082d30"
      },
      "cell_type": "code",
      "source": [
        "# replace all NA's the value that comes directly after it in the same column, \n",
        "# then replace all the reamining na's with 0\n",
        "subset_train_bsl.fillna(method = 'bfill', axis=0).fillna(\"0\")"
      ],
      "execution_count": 15,
      "outputs": [
        {
          "output_type": "execute_result",
          "data": {
            "text/html": [
              "<div>\n",
              "<style scoped>\n",
              "    .dataframe tbody tr th:only-of-type {\n",
              "        vertical-align: middle;\n",
              "    }\n",
              "\n",
              "    .dataframe tbody tr th {\n",
              "        vertical-align: top;\n",
              "    }\n",
              "\n",
              "    .dataframe thead th {\n",
              "        text-align: right;\n",
              "    }\n",
              "</style>\n",
              "<table border=\"1\" class=\"dataframe\">\n",
              "  <thead>\n",
              "    <tr style=\"text-align: right;\">\n",
              "      <th></th>\n",
              "      <th>PatientID</th>\n",
              "      <th>Study</th>\n",
              "      <th>Race</th>\n",
              "      <th>Age</th>\n",
              "      <th>Country</th>\n",
              "      <th>Indication</th>\n",
              "      <th>Sex</th>\n",
              "      <th>Ethnicity</th>\n",
              "      <th>Treatment</th>\n",
              "      <th>BaselineECOG</th>\n",
              "      <th>PDL1IC</th>\n",
              "      <th>PDL1TC</th>\n",
              "      <th>ALK</th>\n",
              "      <th>DiseaseStage</th>\n",
              "    </tr>\n",
              "  </thead>\n",
              "  <tbody>\n",
              "    <tr>\n",
              "      <th>0</th>\n",
              "      <td>RAADCT00179</td>\n",
              "      <td>4cacaa6bf00bd99f344f512c44f17717051aa92d</td>\n",
              "      <td>WHITE</td>\n",
              "      <td>69</td>\n",
              "      <td>USA</td>\n",
              "      <td>Advanced or metastatic NSCLC</td>\n",
              "      <td>M</td>\n",
              "      <td>NOT HISPANIC OR LATINO</td>\n",
              "      <td>Tecentriq</td>\n",
              "      <td>1.0</td>\n",
              "      <td>0</td>\n",
              "      <td>2.0</td>\n",
              "      <td>0</td>\n",
              "      <td>IIIB</td>\n",
              "    </tr>\n",
              "    <tr>\n",
              "      <th>1</th>\n",
              "      <td>RAADCT06221</td>\n",
              "      <td>4cacaa6bf00bd99f344f512c44f17717051aa92d</td>\n",
              "      <td>WHITE</td>\n",
              "      <td>64</td>\n",
              "      <td>USA</td>\n",
              "      <td>Advanced or metastatic NSCLC</td>\n",
              "      <td>F</td>\n",
              "      <td>NOT HISPANIC OR LATINO</td>\n",
              "      <td>Tecentriq</td>\n",
              "      <td>1.0</td>\n",
              "      <td>0</td>\n",
              "      <td>3.0</td>\n",
              "      <td>0</td>\n",
              "      <td>IV</td>\n",
              "    </tr>\n",
              "    <tr>\n",
              "      <th>2</th>\n",
              "      <td>RAADCT02892</td>\n",
              "      <td>4cacaa6bf00bd99f344f512c44f17717051aa92d</td>\n",
              "      <td>WHITE</td>\n",
              "      <td>76</td>\n",
              "      <td>USA</td>\n",
              "      <td>Advanced or metastatic NSCLC</td>\n",
              "      <td>M</td>\n",
              "      <td>NOT HISPANIC OR LATINO</td>\n",
              "      <td>Tecentriq</td>\n",
              "      <td>1.0</td>\n",
              "      <td>0</td>\n",
              "      <td>1.0</td>\n",
              "      <td>0</td>\n",
              "      <td>IV</td>\n",
              "    </tr>\n",
              "    <tr>\n",
              "      <th>3</th>\n",
              "      <td>RAADCT06937</td>\n",
              "      <td>4cacaa6bf00bd99f344f512c44f17717051aa92d</td>\n",
              "      <td>WHITE</td>\n",
              "      <td>54</td>\n",
              "      <td>USA</td>\n",
              "      <td>Advanced or metastatic NSCLC</td>\n",
              "      <td>F</td>\n",
              "      <td>NOT HISPANIC OR LATINO</td>\n",
              "      <td>Tecentriq</td>\n",
              "      <td>1.0</td>\n",
              "      <td>0</td>\n",
              "      <td>1.0</td>\n",
              "      <td>0</td>\n",
              "      <td>IV</td>\n",
              "    </tr>\n",
              "    <tr>\n",
              "      <th>4</th>\n",
              "      <td>RAADCT05885</td>\n",
              "      <td>4cacaa6bf00bd99f344f512c44f17717051aa92d</td>\n",
              "      <td>WHITE</td>\n",
              "      <td>67</td>\n",
              "      <td>USA</td>\n",
              "      <td>Advanced or metastatic NSCLC</td>\n",
              "      <td>M</td>\n",
              "      <td>NOT HISPANIC OR LATINO</td>\n",
              "      <td>Tecentriq</td>\n",
              "      <td>1.0</td>\n",
              "      <td>0</td>\n",
              "      <td>2.0</td>\n",
              "      <td>0</td>\n",
              "      <td>IV</td>\n",
              "    </tr>\n",
              "  </tbody>\n",
              "</table>\n",
              "</div>"
            ],
            "text/plain": [
              "     PatientID                                     Study   Race  Age Country  \\\n",
              "0  RAADCT00179  4cacaa6bf00bd99f344f512c44f17717051aa92d  WHITE   69     USA   \n",
              "1  RAADCT06221  4cacaa6bf00bd99f344f512c44f17717051aa92d  WHITE   64     USA   \n",
              "2  RAADCT02892  4cacaa6bf00bd99f344f512c44f17717051aa92d  WHITE   76     USA   \n",
              "3  RAADCT06937  4cacaa6bf00bd99f344f512c44f17717051aa92d  WHITE   54     USA   \n",
              "4  RAADCT05885  4cacaa6bf00bd99f344f512c44f17717051aa92d  WHITE   67     USA   \n",
              "\n",
              "                     Indication Sex               Ethnicity  Treatment  \\\n",
              "0  Advanced or metastatic NSCLC   M  NOT HISPANIC OR LATINO  Tecentriq   \n",
              "1  Advanced or metastatic NSCLC   F  NOT HISPANIC OR LATINO  Tecentriq   \n",
              "2  Advanced or metastatic NSCLC   M  NOT HISPANIC OR LATINO  Tecentriq   \n",
              "3  Advanced or metastatic NSCLC   F  NOT HISPANIC OR LATINO  Tecentriq   \n",
              "4  Advanced or metastatic NSCLC   M  NOT HISPANIC OR LATINO  Tecentriq   \n",
              "\n",
              "   BaselineECOG PDL1IC  PDL1TC ALK DiseaseStage  \n",
              "0           1.0      0     2.0   0         IIIB  \n",
              "1           1.0      0     3.0   0           IV  \n",
              "2           1.0      0     1.0   0           IV  \n",
              "3           1.0      0     1.0   0           IV  \n",
              "4           1.0      0     2.0   0           IV  "
            ]
          },
          "metadata": {
            "tags": []
          },
          "execution_count": 15
        }
      ]
    },
    {
      "metadata": {
        "id": "nTeeKTzp6ZYU",
        "colab_type": "code",
        "colab": {
          "base_uri": "https://localhost:8080/",
          "height": 390
        },
        "outputId": "373f9e5b-761c-4c6c-d3a6-744ea75ff7fb"
      },
      "cell_type": "code",
      "source": [
        "#Encoding of treatment in baseline test data\n",
        "from sklearn.preprocessing import LabelEncoder\n",
        "\n",
        "lb_make = LabelEncoder()\n",
        "train_bsl[\"PriorChemo_encoded\"] = lb_make.fit_transform(train_bsl[\"PriorChemo\"].astype(str))\n",
        "train_bsl[[\"PriorChemo\", \"PriorChemo_encoded\"]].head(11)"
      ],
      "execution_count": 17,
      "outputs": [
        {
          "output_type": "execute_result",
          "data": {
            "text/html": [
              "<div>\n",
              "<style scoped>\n",
              "    .dataframe tbody tr th:only-of-type {\n",
              "        vertical-align: middle;\n",
              "    }\n",
              "\n",
              "    .dataframe tbody tr th {\n",
              "        vertical-align: top;\n",
              "    }\n",
              "\n",
              "    .dataframe thead th {\n",
              "        text-align: right;\n",
              "    }\n",
              "</style>\n",
              "<table border=\"1\" class=\"dataframe\">\n",
              "  <thead>\n",
              "    <tr style=\"text-align: right;\">\n",
              "      <th></th>\n",
              "      <th>PriorChemo</th>\n",
              "      <th>PriorChemo_encoded</th>\n",
              "    </tr>\n",
              "  </thead>\n",
              "  <tbody>\n",
              "    <tr>\n",
              "      <th>0</th>\n",
              "      <td>NaN</td>\n",
              "      <td>1</td>\n",
              "    </tr>\n",
              "    <tr>\n",
              "      <th>1</th>\n",
              "      <td>NaN</td>\n",
              "      <td>1</td>\n",
              "    </tr>\n",
              "    <tr>\n",
              "      <th>2</th>\n",
              "      <td>NaN</td>\n",
              "      <td>1</td>\n",
              "    </tr>\n",
              "    <tr>\n",
              "      <th>3</th>\n",
              "      <td>Y</td>\n",
              "      <td>0</td>\n",
              "    </tr>\n",
              "    <tr>\n",
              "      <th>4</th>\n",
              "      <td>Y</td>\n",
              "      <td>0</td>\n",
              "    </tr>\n",
              "    <tr>\n",
              "      <th>5</th>\n",
              "      <td>Y</td>\n",
              "      <td>0</td>\n",
              "    </tr>\n",
              "    <tr>\n",
              "      <th>6</th>\n",
              "      <td>Y</td>\n",
              "      <td>0</td>\n",
              "    </tr>\n",
              "    <tr>\n",
              "      <th>7</th>\n",
              "      <td>Y</td>\n",
              "      <td>0</td>\n",
              "    </tr>\n",
              "    <tr>\n",
              "      <th>8</th>\n",
              "      <td>Y</td>\n",
              "      <td>0</td>\n",
              "    </tr>\n",
              "    <tr>\n",
              "      <th>9</th>\n",
              "      <td>Y</td>\n",
              "      <td>0</td>\n",
              "    </tr>\n",
              "    <tr>\n",
              "      <th>10</th>\n",
              "      <td>NaN</td>\n",
              "      <td>1</td>\n",
              "    </tr>\n",
              "  </tbody>\n",
              "</table>\n",
              "</div>"
            ],
            "text/plain": [
              "   PriorChemo  PriorChemo_encoded\n",
              "0         NaN                   1\n",
              "1         NaN                   1\n",
              "2         NaN                   1\n",
              "3           Y                   0\n",
              "4           Y                   0\n",
              "5           Y                   0\n",
              "6           Y                   0\n",
              "7           Y                   0\n",
              "8           Y                   0\n",
              "9           Y                   0\n",
              "10        NaN                   1"
            ]
          },
          "metadata": {
            "tags": []
          },
          "execution_count": 17
        }
      ]
    },
    {
      "metadata": {
        "id": "YfE4u5QK6g8H",
        "colab_type": "code",
        "colab": {
          "base_uri": "https://localhost:8080/",
          "height": 412
        },
        "outputId": "197a8371-9bf2-4e80-c947-7167e446b711"
      },
      "cell_type": "code",
      "source": [
        "import seaborn as sns\n",
        "x = train_bsl.PriorChemo_encoded\n",
        "sns.distplot(x);"
      ],
      "execution_count": 20,
      "outputs": [
        {
          "output_type": "stream",
          "text": [
            "/usr/local/lib/python3.6/dist-packages/matplotlib/axes/_axes.py:6521: MatplotlibDeprecationWarning: \n",
            "The 'normed' kwarg was deprecated in Matplotlib 2.1 and will be removed in 3.1. Use 'density' instead.\n",
            "  alternative=\"'density'\", removal=\"3.1\")\n"
          ],
          "name": "stderr"
        },
        {
          "output_type": "display_data",
          "data": {
            "image/png": "[encoded data removed]",
            "text/plain": [
              "<Figure size 576x396 with 1 Axes>"
            ]
          },
          "metadata": {
            "tags": []
          }
        }
      ]
    },
    {
      "metadata": {
        "id": "19SAUMd5Ktlx",
        "colab_type": "code",
        "colab": {}
      },
      "cell_type": "code",
      "source": [
        ""
      ],
      "execution_count": 0,
      "outputs": []
    },
    {
      "metadata": {
        "id": "HmTWw7JW6pU1",
        "colab_type": "code",
        "colab": {}
      },
      "cell_type": "code",
      "source": [
        "train_bsl['Treatment'] = np.where(train_bsl['Treatment']==True, 'Tecentriq', 'Chemo')"
      ],
      "execution_count": 0,
      "outputs": []
    },
    {
      "metadata": {
        "id": "ImiCXpjN6qKi",
        "colab_type": "code",
        "colab": {}
      },
      "cell_type": "code",
      "source": [
        "#baseline with only tecentric data\n",
        "train_bsl_tctrq=train_bsl.loc[train_bsl['Treatment'] == 'Tecentriq']"
      ],
      "execution_count": 0,
      "outputs": []
    },
    {
      "metadata": {
        "id": "6j_sBdSX6s-F",
        "colab_type": "code",
        "colab": {}
      },
      "cell_type": "code",
      "source": [
        "##baseline with only Standard of Care\n",
        "train_bsl_soc=train_bsl.loc[train_bsl['Treatment'] != 'Tecentriq']"
      ],
      "execution_count": 0,
      "outputs": []
    },
    {
      "metadata": {
        "id": "Uno12ltJ6vQW",
        "colab_type": "code",
        "colab": {
          "base_uri": "https://localhost:8080/",
          "height": 51
        },
        "outputId": "183f1a8f-718f-41b6-e0bf-00bdc17650f5"
      },
      "cell_type": "code",
      "source": [
        "categorical_list = []\n",
        "numerical_list = []\n",
        "for i in train_bsl.columns.tolist():\n",
        "    if train_bsl[i].dtype=='object':\n",
        "        categorical_list.append(i)\n",
        "    else:\n",
        "        numerical_list.append(i)\n",
        "print('Number of categorical features:', str(len(categorical_list)))\n",
        "print('Number of numerical features:', str(len(numerical_list)))"
      ],
      "execution_count": 28,
      "outputs": [
        {
          "output_type": "stream",
          "text": [
            "Number of categorical features: 18\n",
            "Number of numerical features: 6\n"
          ],
          "name": "stdout"
        }
      ]
    },
    {
      "metadata": {
        "id": "G3Bml1z86ziq",
        "colab_type": "code",
        "colab": {}
      },
      "cell_type": "code",
      "source": [
        "train_prcssd_rna_seq = pd.read_csv('/home/jovyan/data/train_ProcessedRNAseq.csv.gz', compression='gzip',\n",
        "                   error_bad_lines=False)"
      ],
      "execution_count": 0,
      "outputs": []
    },
    {
      "metadata": {
        "id": "ofc4P2V267un",
        "colab_type": "code",
        "colab": {}
      },
      "cell_type": "code",
      "source": [
        "  #Left Merge the baseline and labs data\n",
        "  merg_train_bsl_labs = pd.merge(train_bsl, train_labs, on='PatientID', how='left')"
      ],
      "execution_count": 0,
      "outputs": []
    },
    {
      "metadata": {
        "id": "UBN4foj9NJ6p",
        "colab_type": "code",
        "colab": {}
      },
      "cell_type": "code",
      "source": [
        "#left merge the merg_train_bsl_labs dataframe with vitals data\n",
        "merg_train_bsl_labs_vitals = pd.merge(merg_train_bsl_labs, train_vitals, on='PatientID', how='left')"
      ],
      "execution_count": 0,
      "outputs": []
    },
    {
      "metadata": {
        "id": "XQ4id2_r6-7e",
        "colab_type": "code",
        "colab": {
          "base_uri": "https://localhost:8080/",
          "height": 119
        },
        "outputId": "6bb21a1a-4cd0-4595-b6f3-2dc557819972"
      },
      "cell_type": "code",
      "source": [
        "#Feature Selection for Tecentriq only data\n",
        "corr_tctrq = merg_train_bsl_labs_vitals.corr()['Respond'][merg_train_bsl_labs_vitals.corr()['Respond'] < 1].abs()\n",
        "corr_tctrq.sort_values(ascending=False)\n",
        "corr_tctrq.head()"
      ],
      "execution_count": 39,
      "outputs": [
        {
          "output_type": "execute_result",
          "data": {
            "text/plain": [
              "Age             0.004881\n",
              "BaselineECOG    0.091503\n",
              "PDL1IC          0.048768\n",
              "PDL1TC          0.014036\n",
              "TestDay         0.006734\n",
              "Name: Respond, dtype: float64"
            ]
          },
          "metadata": {
            "tags": []
          },
          "execution_count": 39
        }
      ]
    },
    {
      "metadata": {
        "id": "Aj6maXCX7Ik9",
        "colab_type": "code",
        "colab": {}
      },
      "cell_type": "code",
      "source": [
        "#Define a generic function using Pandas replace function\n",
        "    def coding(col, codeDict):\n",
        "      colCoded = pd.Series(col, copy=True)\n",
        "      for key, value in codeDict.items():\n",
        "        colCoded.replace(key, value, inplace=True)\n",
        "      return colCoded\n",
        "\n",
        "    #Coding Brand as Y=1, N=0:\n",
        "    print ('Before Coding:')\n",
        "    print (pd.value_counts(train_bsl[\"Age\"]))\n",
        "    train_bsl[\"Age_coded\"] = coding(train_bsl[\"Age\"], {'M':0,'F':1})\n",
        "    print ('\\nAfter Coding:')\n",
        "    print (pd.value_counts(train_bsl[\"age_Coded\"]))"
      ],
      "execution_count": 0,
      "outputs": []
    },
    {
      "metadata": {
        "id": "n_lBs_PFNzl2",
        "colab_type": "text"
      },
      "cell_type": "markdown",
      "source": [
        "# Univariate plotting with pandas"
      ]
    },
    {
      "metadata": {
        "id": "8bDxOCVgN54r",
        "colab_type": "code",
        "colab": {
          "base_uri": "https://localhost:8080/",
          "height": 379
        },
        "outputId": "127d9d8b-6f80-49d6-dbef-4bead48acbb5"
      },
      "cell_type": "code",
      "source": [
        "train_bsl['Country'].value_counts().head(10).plot.bar()"
      ],
      "execution_count": 43,
      "outputs": [
        {
          "output_type": "execute_result",
          "data": {
            "text/plain": [
              "<matplotlib.axes._subplots.AxesSubplot at 0x7fc252b2fba8>"
            ]
          },
          "metadata": {
            "tags": []
          },
          "execution_count": 43
        },
        {
          "output_type": "display_data",
          "data": {
            "image/png": "[encoded data removed]",
            "text/plain": [
              "<Figure size 576x396 with 1 Axes>"
            ]
          },
          "metadata": {
            "tags": []
          }
        }
      ]
    },
    {
      "metadata": {
        "id": "tGXXYW2sOe05",
        "colab_type": "code",
        "colab": {
          "base_uri": "https://localhost:8080/",
          "height": 347
        },
        "outputId": "49b369ae-b5ba-4f8f-cf69-d640e6173996"
      },
      "cell_type": "code",
      "source": [
        "train_bsl['Country'].value_counts().head(10).plot.line()"
      ],
      "execution_count": 44,
      "outputs": [
        {
          "output_type": "execute_result",
          "data": {
            "text/plain": [
              "<matplotlib.axes._subplots.AxesSubplot at 0x7fc252110978>"
            ]
          },
          "metadata": {
            "tags": []
          },
          "execution_count": 44
        },
        {
          "output_type": "display_data",
          "data": {
            "image/png": "[encoded data removed]",
            "text/plain": [
              "<Figure size 576x396 with 1 Axes>"
            ]
          },
          "metadata": {
            "tags": []
          }
        }
      ]
    },
    {
      "metadata": {
        "id": "zQYOqlkxOnCx",
        "colab_type": "code",
        "colab": {
          "base_uri": "https://localhost:8080/",
          "height": 34
        },
        "outputId": "170b8621-1084-4066-fa81-b0673c6e8e79"
      },
      "cell_type": "code",
      "source": [
        "train_bsl['Age'].value_counts().head(10).plot.area"
      ],
      "execution_count": 47,
      "outputs": [
        {
          "output_type": "execute_result",
          "data": {
            "text/plain": [
              "<bound method SeriesPlotMethods.area of <pandas.plotting._core.SeriesPlotMethods object at 0x7fc252047128>>"
            ]
          },
          "metadata": {
            "tags": []
          },
          "execution_count": 47
        }
      ]
    },
    {
      "metadata": {
        "id": "YdWDT93WOn9I",
        "colab_type": "code",
        "colab": {
          "base_uri": "https://localhost:8080/",
          "height": 367
        },
        "outputId": "ab102ee7-f68d-4757-a173-915aef1b6619"
      },
      "cell_type": "code",
      "source": [
        "train_bsl[train_bsl['Age'] < 50]['Age'].plot.hist()"
      ],
      "execution_count": 48,
      "outputs": [
        {
          "output_type": "execute_result",
          "data": {
            "text/plain": [
              "<matplotlib.axes._subplots.AxesSubplot at 0x7fc25205b8d0>"
            ]
          },
          "metadata": {
            "tags": []
          },
          "execution_count": 48
        },
        {
          "output_type": "display_data",
          "data": {
            "image/png": "[encoded data removed]",
            "text/plain": [
              "<Figure size 576x396 with 1 Axes>"
            ]
          },
          "metadata": {
            "tags": []
          }
        }
      ]
    },
    {
      "metadata": {
        "id": "QZ2e1zzHPTSW",
        "colab_type": "text"
      },
      "cell_type": "markdown",
      "source": [
        "#Bivariating Plot"
      ]
    },
    {
      "metadata": {
        "id": "YL3BwMD7P2E9",
        "colab_type": "code",
        "colab": {
          "base_uri": "https://localhost:8080/",
          "height": 415
        },
        "outputId": "3ec6ca57-e4d4-494f-db67-cbb1f818e849"
      },
      "cell_type": "code",
      "source": [
        "train_bsl[train_bsl['Age'] < 100].sample(100).plot.scatter(x='Age', y='Respond')"
      ],
      "execution_count": 52,
      "outputs": [
        {
          "output_type": "stream",
          "text": [
            "'c' argument looks like a single numeric RGB or RGBA sequence, which should be avoided as value-mapping will have precedence in case its length matches with 'x' & 'y'.  Please use a 2-D array with a single row if you really want to specify the same RGB or RGBA value for all points.\n"
          ],
          "name": "stderr"
        },
        {
          "output_type": "execute_result",
          "data": {
            "text/plain": [
              "<matplotlib.axes._subplots.AxesSubplot at 0x7fc251f31b00>"
            ]
          },
          "metadata": {
            "tags": []
          },
          "execution_count": 52
        },
        {
          "output_type": "display_data",
          "data": {
            "image/png": "[encoded data removed]",
            "text/plain": [
              "<Figure size 576x396 with 1 Axes>"
            ]
          },
          "metadata": {
            "tags": []
          }
        }
      ]
    },
    {
      "metadata": {
        "id": "Reu9hZnVRLiq",
        "colab_type": "code",
        "colab": {
          "base_uri": "https://localhost:8080/",
          "height": 415
        },
        "outputId": "dbed5130-af43-4469-a7f8-c72e46a3af1f"
      },
      "cell_type": "code",
      "source": [
        "train_bsl[train_bsl['Age'] < 100].plot.scatter(x='Age', y='Respond')"
      ],
      "execution_count": 53,
      "outputs": [
        {
          "output_type": "stream",
          "text": [
            "'c' argument looks like a single numeric RGB or RGBA sequence, which should be avoided as value-mapping will have precedence in case its length matches with 'x' & 'y'.  Please use a 2-D array with a single row if you really want to specify the same RGB or RGBA value for all points.\n"
          ],
          "name": "stderr"
        },
        {
          "output_type": "execute_result",
          "data": {
            "text/plain": [
              "<matplotlib.axes._subplots.AxesSubplot at 0x7fc251eae7f0>"
            ]
          },
          "metadata": {
            "tags": []
          },
          "execution_count": 53
        },
        {
          "output_type": "display_data",
          "data": {
            "image/png": "[encoded data removed]",
            "text/plain": [
              "<Figure size 576x396 with 1 Axes>"
            ]
          },
          "metadata": {
            "tags": []
          }
        }
      ]
    },
    {
      "metadata": {
        "id": "LbnzrKvGRQ_F",
        "colab_type": "code",
        "colab": {
          "base_uri": "https://localhost:8080/",
          "height": 353
        },
        "outputId": "20844079-b0d2-48a2-d79e-a6ce714635bd"
      },
      "cell_type": "code",
      "source": [
        "train_bsl[train_bsl['Age'] < 100].plot.hexbin(x='Age', y='Respond', gridsize=15)"
      ],
      "execution_count": 54,
      "outputs": [
        {
          "output_type": "execute_result",
          "data": {
            "text/plain": [
              "<matplotlib.axes._subplots.AxesSubplot at 0x7fc251ea49e8>"
            ]
          },
          "metadata": {
            "tags": []
          },
          "execution_count": 54
        },
        {
          "output_type": "display_data",
          "data": {
            "image/png": "[encoded data removed]",
            "text/plain": [
              "<Figure size 576x396 with 2 Axes>"
            ]
          },
          "metadata": {
            "tags": []
          }
        }
      ]
    },
    {
      "metadata": {
        "id": "12I-Z5f6SkZT",
        "colab_type": "text"
      },
      "cell_type": "markdown",
      "source": [
        "# Seaborn"
      ]
    },
    {
      "metadata": {
        "id": "fja1R15RSZCp",
        "colab_type": "code",
        "colab": {
          "base_uri": "https://localhost:8080/",
          "height": 412
        },
        "outputId": "a9deab22-a0d2-4b25-c4e6-c7be7c1689dd"
      },
      "cell_type": "code",
      "source": [
        "sns.countplot(train_bsl['Country'])"
      ],
      "execution_count": 58,
      "outputs": [
        {
          "output_type": "stream",
          "text": [
            "/usr/local/lib/python3.6/dist-packages/seaborn/categorical.py:1428: FutureWarning: remove_na is deprecated and is a private function. Do not use.\n",
            "  stat_data = remove_na(group_data)\n"
          ],
          "name": "stderr"
        },
        {
          "output_type": "execute_result",
          "data": {
            "text/plain": [
              "<matplotlib.axes._subplots.AxesSubplot at 0x7fc25037beb8>"
            ]
          },
          "metadata": {
            "tags": []
          },
          "execution_count": 58
        },
        {
          "output_type": "display_data",
          "data": {
            "image/png": "[encoded data removed]",
            "text/plain": [
              "<Figure size 576x396 with 1 Axes>"
            ]
          },
          "metadata": {
            "tags": []
          }
        }
      ]
    },
    {
      "metadata": {
        "id": "oRioEsiMSdzs",
        "colab_type": "code",
        "colab": {
          "base_uri": "https://localhost:8080/",
          "height": 364
        },
        "outputId": "072429eb-f38a-448a-a775-d5bee43e650e"
      },
      "cell_type": "code",
      "source": [
        "sns.kdeplot(train_bsl.query('Age < 30').Age)"
      ],
      "execution_count": 59,
      "outputs": [
        {
          "output_type": "execute_result",
          "data": {
            "text/plain": [
              "<matplotlib.axes._subplots.AxesSubplot at 0x7fc2483741d0>"
            ]
          },
          "metadata": {
            "tags": []
          },
          "execution_count": 59
        },
        {
          "output_type": "display_data",
          "data": {
            "image/png": "[encoded data removed]",
            "text/plain": [
              "<Figure size 576x396 with 1 Axes>"
            ]
          },
          "metadata": {
            "tags": []
          }
        }
      ]
    },
    {
      "metadata": {
        "id": "KFbrq7hXSy6Y",
        "colab_type": "code",
        "colab": {
          "base_uri": "https://localhost:8080/",
          "height": 368
        },
        "outputId": "84c80bb8-9343-4ca1-b6fa-4da7c342dae2"
      },
      "cell_type": "code",
      "source": [
        "train_bsl[train_bsl['Age'] < 90]['Age'].value_counts().sort_index().plot.line()"
      ],
      "execution_count": 61,
      "outputs": [
        {
          "output_type": "execute_result",
          "data": {
            "text/plain": [
              "<matplotlib.axes._subplots.AxesSubplot at 0x7fc25122cb70>"
            ]
          },
          "metadata": {
            "tags": []
          },
          "execution_count": 61
        },
        {
          "output_type": "display_data",
          "data": {
            "image/png": "[encoded data removed]",
            "text/plain": [
              "<Figure size 576x396 with 1 Axes>"
            ]
          },
          "metadata": {
            "tags": []
          }
        }
      ]
    },
    {
      "metadata": {
        "id": "CUq8023BS8Kj",
        "colab_type": "code",
        "colab": {
          "base_uri": "https://localhost:8080/",
          "height": 364
        },
        "outputId": "4c448d23-3315-429e-f8b1-76d848f63ec2"
      },
      "cell_type": "code",
      "source": [
        "sns.kdeplot(train_bsl[train_bsl['Age'] < 90].loc[:, ['Age', 'Respond']].dropna().sample(5000))"
      ],
      "execution_count": 62,
      "outputs": [
        {
          "output_type": "execute_result",
          "data": {
            "text/plain": [
              "<matplotlib.axes._subplots.AxesSubplot at 0x7fc2472c6208>"
            ]
          },
          "metadata": {
            "tags": []
          },
          "execution_count": 62
        },
        {
          "output_type": "display_data",
          "data": {
            "image/png": "[encoded data removed]",
            "text/plain": [
              "<Figure size 576x396 with 1 Axes>"
            ]
          },
          "metadata": {
            "tags": []
          }
        }
      ]
    },
    {
      "metadata": {
        "id": "hiTu3oU0TJTS",
        "colab_type": "code",
        "colab": {
          "base_uri": "https://localhost:8080/",
          "height": 429
        },
        "outputId": "149f304d-e3e1-4f1e-f354-eea53a02fa53"
      },
      "cell_type": "code",
      "source": [
        "sns.distplot(train_bsl['Age'], bins=10, kde=False)"
      ],
      "execution_count": 63,
      "outputs": [
        {
          "output_type": "stream",
          "text": [
            "/usr/local/lib/python3.6/dist-packages/matplotlib/axes/_axes.py:6521: MatplotlibDeprecationWarning: \n",
            "The 'normed' kwarg was deprecated in Matplotlib 2.1 and will be removed in 3.1. Use 'density' instead.\n",
            "  alternative=\"'density'\", removal=\"3.1\")\n"
          ],
          "name": "stderr"
        },
        {
          "output_type": "execute_result",
          "data": {
            "text/plain": [
              "<matplotlib.axes._subplots.AxesSubplot at 0x7fc247271400>"
            ]
          },
          "metadata": {
            "tags": []
          },
          "execution_count": 63
        },
        {
          "output_type": "display_data",
          "data": {
            "image/png": "[encoded data removed]",
            "text/plain": [
              "<Figure size 576x396 with 1 Axes>"
            ]
          },
          "metadata": {
            "tags": []
          }
        }
      ]
    },
    {
      "metadata": {
        "id": "abTW5-v0TQBe",
        "colab_type": "code",
        "colab": {
          "base_uri": "https://localhost:8080/",
          "height": 505
        },
        "outputId": "bc1eda45-007e-4949-c07b-da9ad5c10ffc"
      },
      "cell_type": "code",
      "source": [
        "sns.jointplot(x='Age', y='Respond', data=train_bsl[train_bsl['Age'] < 100])"
      ],
      "execution_count": 64,
      "outputs": [
        {
          "output_type": "stream",
          "text": [
            "/usr/local/lib/python3.6/dist-packages/matplotlib/axes/_axes.py:6521: MatplotlibDeprecationWarning: \n",
            "The 'normed' kwarg was deprecated in Matplotlib 2.1 and will be removed in 3.1. Use 'density' instead.\n",
            "  alternative=\"'density'\", removal=\"3.1\")\n"
          ],
          "name": "stderr"
        },
        {
          "output_type": "execute_result",
          "data": {
            "text/plain": [
              "<seaborn.axisgrid.JointGrid at 0x7fc2472acf28>"
            ]
          },
          "metadata": {
            "tags": []
          },
          "execution_count": 64
        },
        {
          "output_type": "display_data",
          "data": {
            "image/png": "[encoded data removed]",
            "text/plain": [
              "<Figure size 432x432 with 3 Axes>"
            ]
          },
          "metadata": {
            "tags": []
          }
        }
      ]
    },
    {
      "metadata": {
        "id": "2yZHTk6gTYL8",
        "colab_type": "code",
        "colab": {
          "base_uri": "https://localhost:8080/",
          "height": 505
        },
        "outputId": "c0bdbbcc-7855-41f3-e02e-cdfc28f971f5"
      },
      "cell_type": "code",
      "source": [
        "sns.jointplot(x='Age', y='Respond', data=train_bsl[train_bsl['Age'] < 100], kind='hex', \n",
        "              gridsize=20)"
      ],
      "execution_count": 65,
      "outputs": [
        {
          "output_type": "stream",
          "text": [
            "/usr/local/lib/python3.6/dist-packages/matplotlib/axes/_axes.py:6521: MatplotlibDeprecationWarning: \n",
            "The 'normed' kwarg was deprecated in Matplotlib 2.1 and will be removed in 3.1. Use 'density' instead.\n",
            "  alternative=\"'density'\", removal=\"3.1\")\n"
          ],
          "name": "stderr"
        },
        {
          "output_type": "execute_result",
          "data": {
            "text/plain": [
              "<seaborn.axisgrid.JointGrid at 0x7fc251d4aa90>"
            ]
          },
          "metadata": {
            "tags": []
          },
          "execution_count": 65
        },
        {
          "output_type": "display_data",
          "data": {
            "image/png": "[encoded data removed]",
            "text/plain": [
              "<Figure size 432x432 with 3 Axes>"
            ]
          },
          "metadata": {
            "tags": []
          }
        }
      ]
    },
    {
      "metadata": {
        "id": "r7Dr6ccrTi-2",
        "colab_type": "code",
        "colab": {
          "base_uri": "https://localhost:8080/",
          "height": 412
        },
        "outputId": "073c4818-2b3b-4b20-f7e9-f22e456b7e42"
      },
      "cell_type": "code",
      "source": [
        "df = train_bsl[train_bsl.Country.isin(train_bsl.Country.value_counts().head(5).index)]\n",
        "\n",
        "sns.boxplot(\n",
        "    x='Country',\n",
        "    y='Age',\n",
        "    data=df\n",
        ")"
      ],
      "execution_count": 68,
      "outputs": [
        {
          "output_type": "stream",
          "text": [
            "/usr/local/lib/python3.6/dist-packages/seaborn/categorical.py:454: FutureWarning: remove_na is deprecated and is a private function. Do not use.\n",
            "  box_data = remove_na(group_data)\n"
          ],
          "name": "stderr"
        },
        {
          "output_type": "execute_result",
          "data": {
            "text/plain": [
              "<matplotlib.axes._subplots.AxesSubplot at 0x7fc246e53828>"
            ]
          },
          "metadata": {
            "tags": []
          },
          "execution_count": 68
        },
        {
          "output_type": "display_data",
          "data": {
            "image/png": "[encoded data removed]",
            "text/plain": [
              "<Figure size 576x396 with 1 Axes>"
            ]
          },
          "metadata": {
            "tags": []
          }
        }
      ]
    },
    {
      "metadata": {
        "id": "eeVuBiLGTsBG",
        "colab_type": "code",
        "colab": {
          "base_uri": "https://localhost:8080/",
          "height": 449
        },
        "outputId": "67ac839a-afde-41dc-9f45-72c1cb6e9590"
      },
      "cell_type": "code",
      "source": [
        "sns.violinplot(\n",
        "    x='Country',\n",
        "    y='Age',\n",
        "    data=train_bsl[train_bsl.Country.isin(train_bsl.Country.value_counts()[:5].index)]\n",
        ")"
      ],
      "execution_count": 69,
      "outputs": [
        {
          "output_type": "stream",
          "text": [
            "/usr/local/lib/python3.6/dist-packages/seaborn/categorical.py:588: FutureWarning: remove_na is deprecated and is a private function. Do not use.\n",
            "  kde_data = remove_na(group_data)\n",
            "/usr/local/lib/python3.6/dist-packages/seaborn/categorical.py:816: FutureWarning: remove_na is deprecated and is a private function. Do not use.\n",
            "  violin_data = remove_na(group_data)\n"
          ],
          "name": "stderr"
        },
        {
          "output_type": "execute_result",
          "data": {
            "text/plain": [
              "<matplotlib.axes._subplots.AxesSubplot at 0x7fc246dbeeb8>"
            ]
          },
          "metadata": {
            "tags": []
          },
          "execution_count": 69
        },
        {
          "output_type": "display_data",
          "data": {
            "image/png": "[encoded data removed]",
            "text/plain": [
              "<Figure size 576x396 with 1 Axes>"
            ]
          },
          "metadata": {
            "tags": []
          }
        }
      ]
    },
    {
      "metadata": {
        "id": "6V9GQVSlUeAS",
        "colab_type": "text"
      },
      "cell_type": "markdown",
      "source": [
        "#Subplot"
      ]
    },
    {
      "metadata": {
        "id": "k5Hp9uB-UCIV",
        "colab_type": "code",
        "colab": {
          "base_uri": "https://localhost:8080/",
          "height": 487
        },
        "outputId": "d3746eae-6dc6-430c-c02a-e2889e008ea3"
      },
      "cell_type": "code",
      "source": [
        "import matplotlib.pyplot as plt\n",
        "fig, axarr = plt.subplots(2, 1, figsize=(12, 8))"
      ],
      "execution_count": 70,
      "outputs": [
        {
          "output_type": "display_data",
          "data": {
            "image/png": "[encoded data removed]",
            "text/plain": [
              "<Figure size 864x576 with 2 Axes>"
            ]
          },
          "metadata": {
            "tags": []
          }
        }
      ]
    },
    {
      "metadata": {
        "id": "QstHnPIGUlZ3",
        "colab_type": "code",
        "colab": {
          "base_uri": "https://localhost:8080/",
          "height": 515
        },
        "outputId": "7af6b8eb-5163-40e0-f3c6-b2d758b71b62"
      },
      "cell_type": "code",
      "source": [
        "fig, axarr = plt.subplots(2, 1, figsize=(12, 8))\n",
        "\n",
        "train_bsl['Respond'].value_counts().sort_index().plot.bar(\n",
        "    ax=axarr[0]\n",
        ")\n",
        "\n",
        "train_bsl['Country'].value_counts().head(20).plot.bar(\n",
        "    ax=axarr[1]\n",
        ")"
      ],
      "execution_count": 72,
      "outputs": [
        {
          "output_type": "execute_result",
          "data": {
            "text/plain": [
              "<matplotlib.axes._subplots.AxesSubplot at 0x7fc246a82710>"
            ]
          },
          "metadata": {
            "tags": []
          },
          "execution_count": 72
        },
        {
          "output_type": "display_data",
          "data": {
            "image/png": "[encoded data removed]",
            "text/plain": [
              "<Figure size 864x576 with 2 Axes>"
            ]
          },
          "metadata": {
            "tags": []
          }
        }
      ]
    },
    {
      "metadata": {
        "id": "_aXVX9vHUsyc",
        "colab_type": "code",
        "colab": {
          "base_uri": "https://localhost:8080/",
          "height": 487
        },
        "outputId": "dae41922-ce5f-43ba-df65-35ceec43deef"
      },
      "cell_type": "code",
      "source": [
        "fig, axarr = plt.subplots(2, 2, figsize=(12, 8))"
      ],
      "execution_count": 73,
      "outputs": [
        {
          "output_type": "display_data",
          "data": {
            "image/png": "[encoded data removed]",
            "text/plain": [
              "<Figure size 864x576 with 4 Axes>"
            ]
          },
          "metadata": {
            "tags": []
          }
        }
      ]
    },
    {
      "metadata": {
        "id": "y_Ru_LJbU6er",
        "colab_type": "code",
        "colab": {
          "base_uri": "https://localhost:8080/",
          "height": 102
        },
        "outputId": "0439048e-7122-498f-a898-9cc486439905"
      },
      "cell_type": "code",
      "source": [
        "axarr"
      ],
      "execution_count": 74,
      "outputs": [
        {
          "output_type": "execute_result",
          "data": {
            "text/plain": [
              "array([[<matplotlib.axes._subplots.AxesSubplot object at 0x7fc246b484a8>,\n",
              "        <matplotlib.axes._subplots.AxesSubplot object at 0x7fc2469c8940>],\n",
              "       [<matplotlib.axes._subplots.AxesSubplot object at 0x7fc2469742b0>,\n",
              "        <matplotlib.axes._subplots.AxesSubplot object at 0x7fc246999c18>]],\n",
              "      dtype=object)"
            ]
          },
          "metadata": {
            "tags": []
          },
          "execution_count": 74
        }
      ]
    },
    {
      "metadata": {
        "id": "UNhzPY_OU9GC",
        "colab_type": "code",
        "colab": {
          "base_uri": "https://localhost:8080/",
          "height": 519
        },
        "outputId": "d953971b-0d08-4930-bc09-14aa62b61455"
      },
      "cell_type": "code",
      "source": [
        "fig, axarr = plt.subplots(2, 2, figsize=(12, 8))\n",
        "\n",
        "train_bsl['Age'].value_counts().sort_index().plot.bar(\n",
        "    ax=axarr[0][0]\n",
        ")\n",
        "\n",
        "train_bsl['Country'].value_counts().head(20).plot.bar(\n",
        "    ax=axarr[1][1]\n",
        ")"
      ],
      "execution_count": 75,
      "outputs": [
        {
          "output_type": "execute_result",
          "data": {
            "text/plain": [
              "<matplotlib.axes._subplots.AxesSubplot at 0x7fc2468387f0>"
            ]
          },
          "metadata": {
            "tags": []
          },
          "execution_count": 75
        },
        {
          "output_type": "display_data",
          "data": {
            "image/png": "[encoded data removed]",
            "text/plain": [
              "<Figure size 864x576 with 4 Axes>"
            ]
          },
          "metadata": {
            "tags": []
          }
        }
      ]
    },
    {
      "metadata": {
        "id": "XGpXVfzCVDrN",
        "colab_type": "code",
        "colab": {
          "base_uri": "https://localhost:8080/",
          "height": 779
        },
        "outputId": "216dc018-603b-4d71-b686-04589d553034"
      },
      "cell_type": "code",
      "source": [
        "fig, axarr = plt.subplots(2, 2, figsize=(12, 8))\n",
        "\n",
        "train_bsl['Age'].value_counts().sort_index().plot.bar(\n",
        "    ax=axarr[0][0], fontsize=12, color='mediumvioletred'\n",
        ")\n",
        "axarr[0][0].set_title(\"Age\", fontsize=18)\n",
        "\n",
        "train_bsl['Country'].value_counts().head(20).plot.bar(\n",
        "    ax=axarr[1][0], fontsize=12, color='mediumvioletred'\n",
        ")\n",
        "axarr[1][0].set_title(\"Country\", fontsize=18)\n",
        "\n",
        "train_bsl['Race'].value_counts().head(20).plot.bar(\n",
        "    ax=axarr[1][1], fontsize=12, color='mediumvioletred'\n",
        ")\n",
        "axarr[1][1].set_title(\"Race\", fontsize=18)\n",
        "\n",
        "train_bsl['Sex'].value_counts().plot.hist(\n",
        "    ax=axarr[0][1], fontsize=12, color='mediumvioletred'\n",
        ")\n",
        "axarr[0][1].set_title(\"Sex\", fontsize=18)\n",
        "\n",
        "plt.subplots_adjust(hspace=.3)\n",
        "\n",
        "import seaborn as sns\n",
        "sns.despine()"
      ],
      "execution_count": 76,
      "outputs": [
        {
          "output_type": "display_data",
          "data": {
            "image/png": "[encoded data removed]",
            "text/plain": [
              "<Figure size 864x576 with 4 Axes>"
            ]
          },
          "metadata": {
            "tags": []
          }
        }
      ]
    },
    {
      "metadata": {
        "id": "u3V9KKzfVd6d",
        "colab_type": "code",
        "colab": {
          "base_uri": "https://localhost:8080/",
          "height": 221
        },
        "outputId": "bdc9b430-864b-4127-e0f4-510d3b6dda74"
      },
      "cell_type": "code",
      "source": [
        "df = train_bsl[train_bsl['Country'].isin(['USA', 'ESP'])]\n",
        "g = sns.FacetGrid(df, col=\"Country\")"
      ],
      "execution_count": 79,
      "outputs": [
        {
          "output_type": "display_data",
          "data": {
            "image/png": "[encoded data removed]",
            "text/plain": [
              "<Figure size 432x216 with 2 Axes>"
            ]
          },
          "metadata": {
            "tags": []
          }
        }
      ]
    },
    {
      "metadata": {
        "id": "9BC7eyvNWkJz",
        "colab_type": "code",
        "colab": {}
      },
      "cell_type": "code",
      "source": [
        ""
      ],
      "execution_count": 0,
      "outputs": []
    }
  ]
}