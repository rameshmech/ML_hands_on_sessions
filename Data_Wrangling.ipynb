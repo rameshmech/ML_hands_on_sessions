{
  "nbformat": 4,
  "nbformat_minor": 0,
  "metadata": {
    "colab": {
      "name": "Data_Wrangling.ipynb",
      "version": "0.3.2",
      "provenance": [],
      "include_colab_link": true
    },
    "kernelspec": {
      "name": "python3",
      "display_name": "Python 3"
    }
  },
  "cells": [
    {
      "cell_type": "markdown",
      "metadata": {
        "id": "view-in-github",
        "colab_type": "text"
      },
      "source": [
        "<a href=\"https://colab.research.google.com/github/rameshmech/ML_hands_on_sessions/blob/master/Data_Wrangling.ipynb\" target=\"_parent\"><img src=\"https://colab.research.google.com/assets/colab-badge.svg\" alt=\"Open In Colab\"/></a>"
      ]
    },
    {
      "metadata": {
        "id": "aN-Aat1BwEZe",
        "colab_type": "code",
        "colab": {}
      },
      "cell_type": "code",
      "source": [
        "# modules we'll use\n",
        "import pandas as pd\n",
        "import numpy as np\n",
        "\n",
        "# read in all our data\n",
        "train_bsl = pd.read_csv(\"train_baseline.csv\")\n",
        "\n",
        "# set seed for reproducibility\n",
        "np.random.seed(0) "
      ],
      "execution_count": 0,
      "outputs": []
    },
    {
      "metadata": {
        "id": "RJVVRAlZ0jaQ",
        "colab_type": "code",
        "colab": {
          "base_uri": "https://localhost:8080/",
          "height": 542
        },
        "outputId": "3a885ac7-dca3-4040-b3a7-fda1ba0a71d4"
      },
      "cell_type": "code",
      "source": [
        "# look at a few rows of the data file. I can see a handful of missing data already!\n",
        "train_bsl.sample(5)"
      ],
      "execution_count": 4,
      "outputs": [
        {
          "output_type": "execute_result",
          "data": {
            "text/html": [
              "<div>\n",
              "<style scoped>\n",
              "    .dataframe tbody tr th:only-of-type {\n",
              "        vertical-align: middle;\n",
              "    }\n",
              "\n",
              "    .dataframe tbody tr th {\n",
              "        vertical-align: top;\n",
              "    }\n",
              "\n",
              "    .dataframe thead th {\n",
              "        text-align: right;\n",
              "    }\n",
              "</style>\n",
              "<table border=\"1\" class=\"dataframe\">\n",
              "  <thead>\n",
              "    <tr style=\"text-align: right;\">\n",
              "      <th></th>\n",
              "      <th>PatientID</th>\n",
              "      <th>Study</th>\n",
              "      <th>Race</th>\n",
              "      <th>Age</th>\n",
              "      <th>Country</th>\n",
              "      <th>Indication</th>\n",
              "      <th>Sex</th>\n",
              "      <th>Ethnicity</th>\n",
              "      <th>Treatment</th>\n",
              "      <th>BaselineECOG</th>\n",
              "      <th>...</th>\n",
              "      <th>DiseaseStage</th>\n",
              "      <th>EGFR</th>\n",
              "      <th>Histology</th>\n",
              "      <th>KRAS</th>\n",
              "      <th>PriorChemo</th>\n",
              "      <th>SmokeHx</th>\n",
              "      <th>Status</th>\n",
              "      <th>TreatmentStartDate</th>\n",
              "      <th>ObservationStartDate</th>\n",
              "      <th>Respond</th>\n",
              "    </tr>\n",
              "  </thead>\n",
              "  <tbody>\n",
              "    <tr>\n",
              "      <th>1540</th>\n",
              "      <td>RAADCT01922</td>\n",
              "      <td>11ff0321a67fef522bef3f970c492399337d4e97</td>\n",
              "      <td>ASIAN</td>\n",
              "      <td>62</td>\n",
              "      <td>Other</td>\n",
              "      <td>Advanced or metastatic NSCLC</td>\n",
              "      <td>M</td>\n",
              "      <td>NOT HISPANIC OR LATINO</td>\n",
              "      <td>Chemo</td>\n",
              "      <td>0.0</td>\n",
              "      <td>...</td>\n",
              "      <td>IVB</td>\n",
              "      <td>NaN</td>\n",
              "      <td>SQUAMOUS</td>\n",
              "      <td>NaN</td>\n",
              "      <td>Y</td>\n",
              "      <td>Previous</td>\n",
              "      <td>METASTATIC</td>\n",
              "      <td>2014-09-17T14:10:00Z</td>\n",
              "      <td>2014-09-16</td>\n",
              "      <td>0</td>\n",
              "    </tr>\n",
              "    <tr>\n",
              "      <th>2752</th>\n",
              "      <td>RAADCT04468</td>\n",
              "      <td>9d6b9b28c35b1d16fb573ce42b56f40aff45355b</td>\n",
              "      <td>WHITE</td>\n",
              "      <td>70</td>\n",
              "      <td>GBR</td>\n",
              "      <td>Advanced or Metastatic Urothelial Bladder Cancer</td>\n",
              "      <td>M</td>\n",
              "      <td>NOT HISPANIC OR LATINO</td>\n",
              "      <td>Chemo</td>\n",
              "      <td>0.0</td>\n",
              "      <td>...</td>\n",
              "      <td>T2B</td>\n",
              "      <td>NaN</td>\n",
              "      <td>Transitional cell carcinoma</td>\n",
              "      <td>NaN</td>\n",
              "      <td>NaN</td>\n",
              "      <td>Previous</td>\n",
              "      <td>METASTATIC</td>\n",
              "      <td>2015-03-31T14:00:00Z</td>\n",
              "      <td>2015-03-31</td>\n",
              "      <td>1</td>\n",
              "    </tr>\n",
              "    <tr>\n",
              "      <th>348</th>\n",
              "      <td>RAADCT08698</td>\n",
              "      <td>f881e62928966b381b83f630d1e6b4ef5003b40c</td>\n",
              "      <td>WHITE</td>\n",
              "      <td>63</td>\n",
              "      <td>USA</td>\n",
              "      <td>Advanced or metastatic NSCLC</td>\n",
              "      <td>M</td>\n",
              "      <td>NOT HISPANIC OR LATINO</td>\n",
              "      <td>Chemo</td>\n",
              "      <td>1.0</td>\n",
              "      <td>...</td>\n",
              "      <td>IIIB</td>\n",
              "      <td>NOT DONE</td>\n",
              "      <td>NON-SQUAMOUS</td>\n",
              "      <td>NOT DONE</td>\n",
              "      <td>Y</td>\n",
              "      <td>Previous</td>\n",
              "      <td>METASTATIC</td>\n",
              "      <td>2014-01-08T14:15:00Z</td>\n",
              "      <td>2014-01-06</td>\n",
              "      <td>0</td>\n",
              "    </tr>\n",
              "    <tr>\n",
              "      <th>4265</th>\n",
              "      <td>RAADCT06572</td>\n",
              "      <td>7223af731e7e7cf48c29b5c137b0bb34ea04b0d2</td>\n",
              "      <td>WHITE</td>\n",
              "      <td>73</td>\n",
              "      <td>USA</td>\n",
              "      <td>Stage IV Non-Squamous NSCLC</td>\n",
              "      <td>M</td>\n",
              "      <td>NOT HISPANIC OR LATINO</td>\n",
              "      <td>Tecentriq</td>\n",
              "      <td>1.0</td>\n",
              "      <td>...</td>\n",
              "      <td>IV</td>\n",
              "      <td>NOT DETECTED</td>\n",
              "      <td>Adenocarcinoma</td>\n",
              "      <td>NOT DONE</td>\n",
              "      <td>NaN</td>\n",
              "      <td>Current</td>\n",
              "      <td>METASTATIC</td>\n",
              "      <td>2016-08-15T10:07:00Z</td>\n",
              "      <td>2016-08-11</td>\n",
              "      <td>0</td>\n",
              "    </tr>\n",
              "    <tr>\n",
              "      <th>15</th>\n",
              "      <td>RAADCT03355</td>\n",
              "      <td>4cacaa6bf00bd99f344f512c44f17717051aa92d</td>\n",
              "      <td>WHITE</td>\n",
              "      <td>82</td>\n",
              "      <td>USA</td>\n",
              "      <td>Advanced or metastatic NSCLC</td>\n",
              "      <td>M</td>\n",
              "      <td>NOT HISPANIC OR LATINO</td>\n",
              "      <td>Tecentriq</td>\n",
              "      <td>0.0</td>\n",
              "      <td>...</td>\n",
              "      <td>IIIA</td>\n",
              "      <td>NaN</td>\n",
              "      <td>ADENOCARCINOMA</td>\n",
              "      <td>NaN</td>\n",
              "      <td>Y</td>\n",
              "      <td>Previous</td>\n",
              "      <td>METASTATIC</td>\n",
              "      <td>2013-12-19T18:35:00Z</td>\n",
              "      <td>2013-12-19</td>\n",
              "      <td>0</td>\n",
              "    </tr>\n",
              "  </tbody>\n",
              "</table>\n",
              "<p>5 rows × 23 columns</p>\n",
              "</div>"
            ],
            "text/plain": [
              "        PatientID                                     Study   Race  Age  \\\n",
              "1540  RAADCT01922  11ff0321a67fef522bef3f970c492399337d4e97  ASIAN   62   \n",
              "2752  RAADCT04468  9d6b9b28c35b1d16fb573ce42b56f40aff45355b  WHITE   70   \n",
              "348   RAADCT08698  f881e62928966b381b83f630d1e6b4ef5003b40c  WHITE   63   \n",
              "4265  RAADCT06572  7223af731e7e7cf48c29b5c137b0bb34ea04b0d2  WHITE   73   \n",
              "15    RAADCT03355  4cacaa6bf00bd99f344f512c44f17717051aa92d  WHITE   82   \n",
              "\n",
              "     Country                                        Indication Sex  \\\n",
              "1540   Other                      Advanced or metastatic NSCLC   M   \n",
              "2752     GBR  Advanced or Metastatic Urothelial Bladder Cancer   M   \n",
              "348      USA                      Advanced or metastatic NSCLC   M   \n",
              "4265     USA                       Stage IV Non-Squamous NSCLC   M   \n",
              "15       USA                      Advanced or metastatic NSCLC   M   \n",
              "\n",
              "                   Ethnicity  Treatment  BaselineECOG   ...    DiseaseStage  \\\n",
              "1540  NOT HISPANIC OR LATINO      Chemo           0.0   ...             IVB   \n",
              "2752  NOT HISPANIC OR LATINO      Chemo           0.0   ...             T2B   \n",
              "348   NOT HISPANIC OR LATINO      Chemo           1.0   ...            IIIB   \n",
              "4265  NOT HISPANIC OR LATINO  Tecentriq           1.0   ...              IV   \n",
              "15    NOT HISPANIC OR LATINO  Tecentriq           0.0   ...            IIIA   \n",
              "\n",
              "              EGFR                    Histology      KRAS PriorChemo  \\\n",
              "1540           NaN                     SQUAMOUS       NaN          Y   \n",
              "2752           NaN  Transitional cell carcinoma       NaN        NaN   \n",
              "348       NOT DONE                 NON-SQUAMOUS  NOT DONE          Y   \n",
              "4265  NOT DETECTED               Adenocarcinoma  NOT DONE        NaN   \n",
              "15             NaN               ADENOCARCINOMA       NaN          Y   \n",
              "\n",
              "       SmokeHx      Status    TreatmentStartDate ObservationStartDate Respond  \n",
              "1540  Previous  METASTATIC  2014-09-17T14:10:00Z           2014-09-16       0  \n",
              "2752  Previous  METASTATIC  2015-03-31T14:00:00Z           2015-03-31       1  \n",
              "348   Previous  METASTATIC  2014-01-08T14:15:00Z           2014-01-06       0  \n",
              "4265   Current  METASTATIC  2016-08-15T10:07:00Z           2016-08-11       0  \n",
              "15    Previous  METASTATIC  2013-12-19T18:35:00Z           2013-12-19       0  \n",
              "\n",
              "[5 rows x 23 columns]"
            ]
          },
          "metadata": {
            "tags": []
          },
          "execution_count": 4
        }
      ]
    },
    {
      "metadata": {
        "id": "n2IaW2Lg0qPy",
        "colab_type": "code",
        "colab": {
          "base_uri": "https://localhost:8080/",
          "height": 425
        },
        "outputId": "d540913e-b812-42e2-9869-70a60c2173a9"
      },
      "cell_type": "code",
      "source": [
        "# get the number of missing data points per column\n",
        "missing_values_count = train_bsl.isnull().sum()\n",
        "\n",
        "# look at the # of missing points in the first ten columns\n",
        "print(missing_values_count)"
      ],
      "execution_count": 8,
      "outputs": [
        {
          "output_type": "stream",
          "text": [
            "PatientID                  0\n",
            "Study                      0\n",
            "Race                       0\n",
            "Age                        0\n",
            "Country                    0\n",
            "Indication                 0\n",
            "Sex                        0\n",
            "Ethnicity                  0\n",
            "Treatment                  0\n",
            "BaselineECOG             306\n",
            "PDL1IC                   548\n",
            "PDL1TC                  2568\n",
            "ALK                     4298\n",
            "DiseaseStage             420\n",
            "EGFR                    3838\n",
            "Histology                741\n",
            "KRAS                    4160\n",
            "PriorChemo              3622\n",
            "SmokeHx                  307\n",
            "Status                   698\n",
            "TreatmentStartDate         9\n",
            "ObservationStartDate       9\n",
            "Respond                    0\n",
            "dtype: int64\n"
          ],
          "name": "stdout"
        }
      ]
    },
    {
      "metadata": {
        "id": "JbzjiYzl1YoP",
        "colab_type": "code",
        "colab": {
          "base_uri": "https://localhost:8080/",
          "height": 34
        },
        "outputId": "8b3f6796-bd7d-4c9a-869a-f1ced7a87a11"
      },
      "cell_type": "code",
      "source": [
        "# how many total missing values do we have?\n",
        "total_cells = np.product(train_bsl.shape)\n",
        "total_missing = missing_values_count.sum()\n",
        "\n",
        "# percent of data that is missing\n",
        "(total_missing/total_cells) * 100"
      ],
      "execution_count": 7,
      "outputs": [
        {
          "output_type": "execute_result",
          "data": {
            "text/plain": [
              "17.061551266299393"
            ]
          },
          "metadata": {
            "tags": []
          },
          "execution_count": 7
        }
      ]
    },
    {
      "metadata": {
        "id": "oW_oHPlO1p9W",
        "colab_type": "code",
        "colab": {}
      },
      "cell_type": "code",
      "source": [
        "# remove all the rows that contain a missing value\n",
        "train_bsl.dropna()"
      ],
      "execution_count": 0,
      "outputs": []
    },
    {
      "metadata": {
        "id": "JFXl9iO21q-Y",
        "colab_type": "code",
        "colab": {}
      },
      "cell_type": "code",
      "source": [
        " #remove all columns with at least one missing value\n",
        "columns_with_na_dropped = train_bsl.dropna(axis=1)\n",
        "columns_with_na_dropped.head()"
      ],
      "execution_count": 0,
      "outputs": []
    },
    {
      "metadata": {
        "id": "Xf_tn4zD11Tq",
        "colab_type": "code",
        "colab": {}
      },
      "cell_type": "code",
      "source": [
        "# just how much data did we lose?\n",
        "print(\"Columns in original dataset: %d \\n\" % train_bsl.shape[1])\n",
        "print(\"Columns with na's dropped: %d\" % columns_with_na_dropped.shape[1])"
      ],
      "execution_count": 0,
      "outputs": []
    },
    {
      "metadata": {
        "id": "1-YqzJQi2DuX",
        "colab_type": "code",
        "colab": {}
      },
      "cell_type": "code",
      "source": [
        "# get a small subset of the  dataset\n",
        "subset_train_bsl = train_bsl.loc[:, 'PatientID':'DiseaseStage'].head()\n",
        "subset_train_bsl"
      ],
      "execution_count": 0,
      "outputs": []
    },
    {
      "metadata": {
        "id": "g8OcSCBS2MX3",
        "colab_type": "code",
        "colab": {}
      },
      "cell_type": "code",
      "source": [
        "# replace all NA's with 0\n",
        "subset_train_bsl.fillna(0)"
      ],
      "execution_count": 0,
      "outputs": []
    },
    {
      "metadata": {
        "id": "MRS0kE4U2TCG",
        "colab_type": "code",
        "colab": {}
      },
      "cell_type": "code",
      "source": [
        "# replace all NA's the value that comes directly after it in the same column, \n",
        "# then replace all the reamining na's with 0\n",
        "subset_train_bsl.fillna(method = 'bfill', axis=0).fillna(\"0\")"
      ],
      "execution_count": 0,
      "outputs": []
    },
    {
      "metadata": {
        "id": "RFotNDxJ2nPR",
        "colab_type": "code",
        "colab": {
          "base_uri": "https://localhost:8080/",
          "height": 119
        },
        "outputId": "369cb191-4e20-4406-ccde-81710e7fe1e0"
      },
      "cell_type": "code",
      "source": [
        "# print the first few rows of the date column\n",
        "print(train_bsl['TreatmentStartDate'].head())"
      ],
      "execution_count": 9,
      "outputs": [
        {
          "output_type": "stream",
          "text": [
            "0    2013-07-11T16:20:00Z\n",
            "1    2013-07-12T15:50:00Z\n",
            "2    2013-07-25T14:40:00Z\n",
            "3    2013-08-01T14:48:00Z\n",
            "4    2013-08-08T16:10:00Z\n",
            "Name: TreatmentStartDate, dtype: object\n"
          ],
          "name": "stdout"
        }
      ]
    },
    {
      "metadata": {
        "id": "c8SXN_Qm7BXW",
        "colab_type": "code",
        "colab": {
          "base_uri": "https://localhost:8080/",
          "height": 1071
        },
        "outputId": "820dfd7a-45cd-4b0c-b2f3-cb00973bc0fb"
      },
      "cell_type": "code",
      "source": [
        "train_bsl['TreatmentStartDate'] = pd.to_datetime(train_bsl['TreatmentStartDate'], infer_datetime_format=True)\n",
        "print(train_bsl['TreatmentStartDate'])"
      ],
      "execution_count": 14,
      "outputs": [
        {
          "output_type": "stream",
          "text": [
            "0      2013-07-11 16:20:00\n",
            "1      2013-07-12 15:50:00\n",
            "2      2013-07-25 14:40:00\n",
            "3      2013-08-01 14:48:00\n",
            "4      2013-08-08 16:10:00\n",
            "5      2013-08-14 17:17:00\n",
            "6      2013-08-23 17:00:00\n",
            "7      2013-08-30 13:52:00\n",
            "8      2013-09-05 17:00:00\n",
            "9      2013-10-03 18:15:00\n",
            "10     2013-10-08 19:50:00\n",
            "11     2013-10-04 17:50:00\n",
            "12     2013-10-18 15:15:00\n",
            "13     2013-10-21 13:00:00\n",
            "14     2013-11-07 17:15:00\n",
            "15     2013-12-19 18:35:00\n",
            "16     2014-02-28 14:20:00\n",
            "17     2014-03-06 12:45:00\n",
            "18     2014-03-14 13:00:00\n",
            "19     2014-04-15 15:45:00\n",
            "20     2013-10-17 11:10:00\n",
            "21     2013-10-21 12:10:00\n",
            "22     2013-12-03 10:50:00\n",
            "23     2013-12-26 11:20:00\n",
            "24     2014-02-12 11:33:00\n",
            "25     2014-05-05 10:50:00\n",
            "26     2014-05-07 11:42:00\n",
            "27     2014-05-02 14:00:00\n",
            "28     2014-05-20 14:18:00\n",
            "29     2014-06-03 15:23:00\n",
            "               ...        \n",
            "5455   2015-02-10 10:15:00\n",
            "5456   2015-02-12 00:00:00\n",
            "5457   2015-03-03 00:00:00\n",
            "5458   2015-03-16 10:50:00\n",
            "5459   2014-08-11 10:55:00\n",
            "5460   2014-08-19 12:20:00\n",
            "5461   2015-03-11 10:42:00\n",
            "5462   2015-03-16 00:00:00\n",
            "5463   2015-03-17 00:00:00\n",
            "5464   2015-03-17 11:50:00\n",
            "5465   2015-03-02 00:00:00\n",
            "5466   2014-12-23 00:00:00\n",
            "5467   2014-12-30 12:30:00\n",
            "5468   2015-01-20 00:00:00\n",
            "5469   2015-01-26 13:15:00\n",
            "5470   2015-02-10 11:17:00\n",
            "5471   2015-02-24 12:50:00\n",
            "5472   2014-07-29 00:00:00\n",
            "5473   2015-02-26 00:00:00\n",
            "5474   2014-11-24 12:10:00\n",
            "5475   2015-02-18 12:01:00\n",
            "5476   2015-02-02 11:50:00\n",
            "5477   2015-02-13 13:40:00\n",
            "5478   2014-09-29 00:00:00\n",
            "5479   2014-11-25 00:00:00\n",
            "5480   2015-02-10 13:30:00\n",
            "5481   2015-03-03 12:50:00\n",
            "5482   2015-03-17 11:55:00\n",
            "5483   2014-11-24 13:40:00\n",
            "5484   2014-12-09 13:10:00\n",
            "Name: TreatmentStartDate, Length: 5485, dtype: datetime64[ns]\n"
          ],
          "name": "stdout"
        }
      ]
    },
    {
      "metadata": {
        "id": "oBoQe0oL3769",
        "colab_type": "code",
        "colab": {
          "base_uri": "https://localhost:8080/",
          "height": 34
        },
        "outputId": "d18e52b7-5404-449f-e149-d4f73ad27361"
      },
      "cell_type": "code",
      "source": [
        "# check the data type of our date column\n",
        "train_bsl['TreatmentStartDate'].dtype"
      ],
      "execution_count": 10,
      "outputs": [
        {
          "output_type": "execute_result",
          "data": {
            "text/plain": [
              "dtype('O')"
            ]
          },
          "metadata": {
            "tags": []
          },
          "execution_count": 10
        }
      ]
    },
    {
      "metadata": {
        "id": "MEvCQB7t4JJm",
        "colab_type": "code",
        "colab": {
          "base_uri": "https://localhost:8080/",
          "height": 759
        },
        "outputId": "24d3aaa9-082d-4669-8ad6-7d045fd150a9"
      },
      "cell_type": "code",
      "source": [
        "# create a new column, date_parsed, with the parsed dates\n",
        "train_bsl['TreatmentStartDate_parsed'] = pd.to_datetime(train_bsl['TreatmentStartDate'], format = \"%m/%d/%y\")"
      ],
      "execution_count": 11,
      "outputs": [
        {
          "output_type": "error",
          "ename": "ValueError",
          "evalue": "ignored",
          "traceback": [
            "\u001b[0;31m---------------------------------------------------------------------------\u001b[0m",
            "\u001b[0;31mTypeError\u001b[0m                                 Traceback (most recent call last)",
            "\u001b[0;32m/usr/local/lib/python3.6/dist-packages/pandas/core/tools/datetimes.py\u001b[0m in \u001b[0;36m_convert_listlike\u001b[0;34m(arg, box, format, name, tz)\u001b[0m\n\u001b[1;32m    302\u001b[0m             \u001b[0;32mtry\u001b[0m\u001b[0;34m:\u001b[0m\u001b[0;34m\u001b[0m\u001b[0;34m\u001b[0m\u001b[0m\n\u001b[0;32m--> 303\u001b[0;31m                 \u001b[0mvalues\u001b[0m\u001b[0;34m,\u001b[0m \u001b[0mtz\u001b[0m \u001b[0;34m=\u001b[0m \u001b[0mtslib\u001b[0m\u001b[0;34m.\u001b[0m\u001b[0mdatetime_to_datetime64\u001b[0m\u001b[0;34m(\u001b[0m\u001b[0marg\u001b[0m\u001b[0;34m)\u001b[0m\u001b[0;34m\u001b[0m\u001b[0;34m\u001b[0m\u001b[0m\n\u001b[0m\u001b[1;32m    304\u001b[0m                 \u001b[0;32mreturn\u001b[0m \u001b[0mDatetimeIndex\u001b[0m\u001b[0;34m.\u001b[0m\u001b[0m_simple_new\u001b[0m\u001b[0;34m(\u001b[0m\u001b[0mvalues\u001b[0m\u001b[0;34m,\u001b[0m \u001b[0mname\u001b[0m\u001b[0;34m=\u001b[0m\u001b[0mname\u001b[0m\u001b[0;34m,\u001b[0m \u001b[0mtz\u001b[0m\u001b[0;34m=\u001b[0m\u001b[0mtz\u001b[0m\u001b[0;34m)\u001b[0m\u001b[0;34m\u001b[0m\u001b[0;34m\u001b[0m\u001b[0m\n",
            "\u001b[0;32mpandas/_libs/tslib.pyx\u001b[0m in \u001b[0;36mpandas._libs.tslib.datetime_to_datetime64\u001b[0;34m()\u001b[0m\n",
            "\u001b[0;31mTypeError\u001b[0m: Unrecognized value type: <class 'str'>",
            "\nDuring handling of the above exception, another exception occurred:\n",
            "\u001b[0;31mValueError\u001b[0m                                Traceback (most recent call last)",
            "\u001b[0;32m<ipython-input-11-dac44dc8c0b2>\u001b[0m in \u001b[0;36m<module>\u001b[0;34m()\u001b[0m\n\u001b[0;32m----> 1\u001b[0;31m \u001b[0mtrain_bsl\u001b[0m\u001b[0;34m[\u001b[0m\u001b[0;34m'TreatmentStartDate_parsed'\u001b[0m\u001b[0;34m]\u001b[0m \u001b[0;34m=\u001b[0m \u001b[0mpd\u001b[0m\u001b[0;34m.\u001b[0m\u001b[0mto_datetime\u001b[0m\u001b[0;34m(\u001b[0m\u001b[0mtrain_bsl\u001b[0m\u001b[0;34m[\u001b[0m\u001b[0;34m'TreatmentStartDate'\u001b[0m\u001b[0;34m]\u001b[0m\u001b[0;34m,\u001b[0m \u001b[0mformat\u001b[0m \u001b[0;34m=\u001b[0m \u001b[0;34m\"%m/%d/%y\"\u001b[0m\u001b[0;34m)\u001b[0m\u001b[0;34m\u001b[0m\u001b[0;34m\u001b[0m\u001b[0m\n\u001b[0m",
            "\u001b[0;32m/usr/local/lib/python3.6/dist-packages/pandas/core/tools/datetimes.py\u001b[0m in \u001b[0;36mto_datetime\u001b[0;34m(arg, errors, dayfirst, yearfirst, utc, box, format, exact, unit, infer_datetime_format, origin)\u001b[0m\n\u001b[1;32m    371\u001b[0m     \u001b[0;32melif\u001b[0m \u001b[0misinstance\u001b[0m\u001b[0;34m(\u001b[0m\u001b[0marg\u001b[0m\u001b[0;34m,\u001b[0m \u001b[0mABCSeries\u001b[0m\u001b[0;34m)\u001b[0m\u001b[0;34m:\u001b[0m\u001b[0;34m\u001b[0m\u001b[0;34m\u001b[0m\u001b[0m\n\u001b[1;32m    372\u001b[0m         \u001b[0;32mfrom\u001b[0m \u001b[0mpandas\u001b[0m \u001b[0;32mimport\u001b[0m \u001b[0mSeries\u001b[0m\u001b[0;34m\u001b[0m\u001b[0;34m\u001b[0m\u001b[0m\n\u001b[0;32m--> 373\u001b[0;31m         \u001b[0mvalues\u001b[0m \u001b[0;34m=\u001b[0m \u001b[0m_convert_listlike\u001b[0m\u001b[0;34m(\u001b[0m\u001b[0marg\u001b[0m\u001b[0;34m.\u001b[0m\u001b[0m_values\u001b[0m\u001b[0;34m,\u001b[0m \u001b[0;32mTrue\u001b[0m\u001b[0;34m,\u001b[0m \u001b[0mformat\u001b[0m\u001b[0;34m)\u001b[0m\u001b[0;34m\u001b[0m\u001b[0;34m\u001b[0m\u001b[0m\n\u001b[0m\u001b[1;32m    374\u001b[0m         \u001b[0mresult\u001b[0m \u001b[0;34m=\u001b[0m \u001b[0mSeries\u001b[0m\u001b[0;34m(\u001b[0m\u001b[0mvalues\u001b[0m\u001b[0;34m,\u001b[0m \u001b[0mindex\u001b[0m\u001b[0;34m=\u001b[0m\u001b[0marg\u001b[0m\u001b[0;34m.\u001b[0m\u001b[0mindex\u001b[0m\u001b[0;34m,\u001b[0m \u001b[0mname\u001b[0m\u001b[0;34m=\u001b[0m\u001b[0marg\u001b[0m\u001b[0;34m.\u001b[0m\u001b[0mname\u001b[0m\u001b[0;34m)\u001b[0m\u001b[0;34m\u001b[0m\u001b[0;34m\u001b[0m\u001b[0m\n\u001b[1;32m    375\u001b[0m     \u001b[0;32melif\u001b[0m \u001b[0misinstance\u001b[0m\u001b[0;34m(\u001b[0m\u001b[0marg\u001b[0m\u001b[0;34m,\u001b[0m \u001b[0;34m(\u001b[0m\u001b[0mABCDataFrame\u001b[0m\u001b[0;34m,\u001b[0m \u001b[0mMutableMapping\u001b[0m\u001b[0;34m)\u001b[0m\u001b[0;34m)\u001b[0m\u001b[0;34m:\u001b[0m\u001b[0;34m\u001b[0m\u001b[0;34m\u001b[0m\u001b[0m\n",
            "\u001b[0;32m/usr/local/lib/python3.6/dist-packages/pandas/core/tools/datetimes.py\u001b[0m in \u001b[0;36m_convert_listlike\u001b[0;34m(arg, box, format, name, tz)\u001b[0m\n\u001b[1;32m    304\u001b[0m                 \u001b[0;32mreturn\u001b[0m \u001b[0mDatetimeIndex\u001b[0m\u001b[0;34m.\u001b[0m\u001b[0m_simple_new\u001b[0m\u001b[0;34m(\u001b[0m\u001b[0mvalues\u001b[0m\u001b[0;34m,\u001b[0m \u001b[0mname\u001b[0m\u001b[0;34m=\u001b[0m\u001b[0mname\u001b[0m\u001b[0;34m,\u001b[0m \u001b[0mtz\u001b[0m\u001b[0;34m=\u001b[0m\u001b[0mtz\u001b[0m\u001b[0;34m)\u001b[0m\u001b[0;34m\u001b[0m\u001b[0;34m\u001b[0m\u001b[0m\n\u001b[1;32m    305\u001b[0m             \u001b[0;32mexcept\u001b[0m \u001b[0;34m(\u001b[0m\u001b[0mValueError\u001b[0m\u001b[0;34m,\u001b[0m \u001b[0mTypeError\u001b[0m\u001b[0;34m)\u001b[0m\u001b[0;34m:\u001b[0m\u001b[0;34m\u001b[0m\u001b[0;34m\u001b[0m\u001b[0m\n\u001b[0;32m--> 306\u001b[0;31m                 \u001b[0;32mraise\u001b[0m \u001b[0me\u001b[0m\u001b[0;34m\u001b[0m\u001b[0;34m\u001b[0m\u001b[0m\n\u001b[0m\u001b[1;32m    307\u001b[0m \u001b[0;34m\u001b[0m\u001b[0m\n\u001b[1;32m    308\u001b[0m     \u001b[0;32mif\u001b[0m \u001b[0marg\u001b[0m \u001b[0;32mis\u001b[0m \u001b[0;32mNone\u001b[0m\u001b[0;34m:\u001b[0m\u001b[0;34m\u001b[0m\u001b[0;34m\u001b[0m\u001b[0m\n",
            "\u001b[0;32m/usr/local/lib/python3.6/dist-packages/pandas/core/tools/datetimes.py\u001b[0m in \u001b[0;36m_convert_listlike\u001b[0;34m(arg, box, format, name, tz)\u001b[0m\n\u001b[1;32m    271\u001b[0m                     \u001b[0;32mtry\u001b[0m\u001b[0;34m:\u001b[0m\u001b[0;34m\u001b[0m\u001b[0;34m\u001b[0m\u001b[0m\n\u001b[1;32m    272\u001b[0m                         result = array_strptime(arg, format, exact=exact,\n\u001b[0;32m--> 273\u001b[0;31m                                                 errors=errors)\n\u001b[0m\u001b[1;32m    274\u001b[0m                     \u001b[0;32mexcept\u001b[0m \u001b[0mtslib\u001b[0m\u001b[0;34m.\u001b[0m\u001b[0mOutOfBoundsDatetime\u001b[0m\u001b[0;34m:\u001b[0m\u001b[0;34m\u001b[0m\u001b[0;34m\u001b[0m\u001b[0m\n\u001b[1;32m    275\u001b[0m                         \u001b[0;32mif\u001b[0m \u001b[0merrors\u001b[0m \u001b[0;34m==\u001b[0m \u001b[0;34m'raise'\u001b[0m\u001b[0;34m:\u001b[0m\u001b[0;34m\u001b[0m\u001b[0;34m\u001b[0m\u001b[0m\n",
            "\u001b[0;32mpandas/_libs/tslibs/strptime.pyx\u001b[0m in \u001b[0;36mpandas._libs.tslibs.strptime.array_strptime\u001b[0;34m()\u001b[0m\n",
            "\u001b[0;31mValueError\u001b[0m: time data '2013-07-11T16:20:00Z' does not match format '%m/%d/%y' (match)"
          ]
        }
      ]
    },
    {
      "metadata": {
        "id": "9m0zSoeg4ZAv",
        "colab_type": "code",
        "colab": {}
      },
      "cell_type": "code",
      "source": [
        ""
      ],
      "execution_count": 0,
      "outputs": []
    }
  ]
}